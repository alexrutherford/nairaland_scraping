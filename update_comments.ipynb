{
 "metadata": {
  "name": "",
  "signature": "sha256:31bdfce241bb51893de3b28248305939399aa7c941c9efa102f0c3f2dae8b6c1"
 },
 "nbformat": 3,
 "nbformat_minor": 0,
 "worksheets": [
  {
   "cells": [
    {
     "cell_type": "code",
     "collapsed": false,
     "input": [
      "import pymysql,sys,json,csv,os,glob,re,time\n",
      "import seaborn as sns\n",
      "import collections,datetime\n",
      "from dateutil import parser\n",
      "import subprocess\n",
      "import matplotlib.pyplot as plt\n",
      "%matplotlib inline\n",
      "import pandas as pd"
     ],
     "language": "python",
     "metadata": {},
     "outputs": [],
     "prompt_number": 24
    },
    {
     "cell_type": "code",
     "collapsed": false,
     "input": [
      "%%capture \n",
      "from get_all_text_times import getParts"
     ],
     "language": "python",
     "metadata": {},
     "outputs": [],
     "prompt_number": 2
    },
    {
     "cell_type": "code",
     "collapsed": false,
     "input": [
      "sns.set_style('white')\n",
      "sns.despine()\n",
      "sns.set_context(\"notebook\", font_scale=2.0, rc={\"lines.linewidth\": 2.5})"
     ],
     "language": "python",
     "metadata": {},
     "outputs": [
      {
       "metadata": {},
       "output_type": "display_data",
       "text": [
        "<matplotlib.figure.Figure at 0x7f516ae5e950>"
       ]
      }
     ],
     "prompt_number": 3
    },
    {
     "cell_type": "code",
     "collapsed": false,
     "input": [
      "conn = pymysql.connect(host='localhost',user='root',passwd='pulsetini', db='nairaland',charset='utf8')\n",
      "cur = conn.cursor()\n",
      "cur2 = conn.cursor()"
     ],
     "language": "python",
     "metadata": {},
     "outputs": [],
     "prompt_number": 4
    },
    {
     "cell_type": "code",
     "collapsed": false,
     "input": [
      "df=pd.read_sql_query(\"select parent,nComments from posts3 where not content like '%REMOVED%' limit 10\",conn)"
     ],
     "language": "python",
     "metadata": {},
     "outputs": [],
     "prompt_number": 5
    },
    {
     "cell_type": "code",
     "collapsed": false,
     "input": [
      "df=pd.read_sql_query(\"select parent,nComments from posts3 where not content like '%REMOVED%' and parent=1895871\",conn)"
     ],
     "language": "python",
     "metadata": {},
     "outputs": [],
     "prompt_number": 17
    },
    {
     "cell_type": "heading",
     "level": 6,
     "metadata": {},
     "source": [
      "Loop through posts, check to see if last comment page updated and if more comment pages not present"
     ]
    },
    {
     "cell_type": "code",
     "collapsed": false,
     "input": [
      "url='http://www.nairaland.com/'"
     ],
     "language": "python",
     "metadata": {},
     "outputs": [],
     "prompt_number": 6
    },
    {
     "cell_type": "code",
     "collapsed": false,
     "input": [
      "curlFile(1798367,nPage=2)"
     ],
     "language": "python",
     "metadata": {},
     "outputs": [],
     "prompt_number": 20
    },
    {
     "cell_type": "code",
     "collapsed": false,
     "input": [
      "def curlFile(n,nPage=1):\n",
      "    if nPage==1:\n",
      "        o=os.system('curl \"'+getFinalUrl(n)+'\" >TEXT_UPDATE/'+str(n)+'.html')\n",
      "    else:\n",
      "        o=os.system('curl \"'+getFinalUrl(n,nPage=nPage)+'\" >TEXT_UPDATE/'+str(n)+'_'+str(nPage-1)+'.html')"
     ],
     "language": "python",
     "metadata": {},
     "outputs": [],
     "prompt_number": 7
    },
    {
     "cell_type": "code",
     "collapsed": false,
     "input": [
      "def getFinalUrl(n,v=False,nPage=1):\n",
      "#    v=True\n",
      "    p=subprocess.Popen('curl --head \"http://www.nairaland.com/'+str(n)+'\"',stdout=subprocess.PIPE,stderr=subprocess.PIPE,shell=True)\n",
      "    o=p.communicate()\n",
      "\n",
      "    if v:print o\n",
      "    \n",
      "    for line in o[0].split('\\r\\n'):\n",
      "        if re.search('Location: ',line):\n",
      "            if nPage==1:\n",
      "                return line.split(' ')[1]\n",
      "            else:\n",
      "                return line.split(' ')[1]+'/'+str(nPage-1)"
     ],
     "language": "python",
     "metadata": {},
     "outputs": [],
     "prompt_number": 8
    },
    {
     "cell_type": "code",
     "collapsed": false,
     "input": [
      "def getCommentFiles(n):\n",
      "    files=glob.glob('TEXT/'+str(n)+'*')\n",
      "    return files"
     ],
     "language": "python",
     "metadata": {},
     "outputs": [],
     "prompt_number": 9
    },
    {
     "cell_type": "code",
     "collapsed": false,
     "input": [
      "def checkForNewComments(n=1798372):\n",
      "    '''Opens previously grabbed file and returns parts'''\n",
      "    parentContent=open('TEXT_UPDATE/'+str(n)+'.html').read()\n",
      "    comments,times,users,likes,shares=getParts(parentContent,'TEXT_UPDATE/'+str(n)+'.html',n)"
     ],
     "language": "python",
     "metadata": {},
     "outputs": [],
     "prompt_number": 10
    },
    {
     "cell_type": "code",
     "collapsed": false,
     "input": [
      "def isLastCommentRecent(n,lastTime,dayTolerance=7,v=False,nPage=1):\n",
      "    '''Check timestamp of last activity on thread against timestamp of file creation\n",
      "    If within a certain tolerance, returns bool'''\n",
      "    if nPage==1:\n",
      "        t=os.path.getctime('TEXT/'+str(n)+'.html')\n",
      "    else:\n",
      "        t=os.path.getctime('TEXT/'+str(n)+'_'+str(nPage-1)+'.html')\n",
      "    \n",
      "    t=parser.parse(time.ctime(t))\n",
      "    if v:\n",
      "        print t,' - ',lastTime\n",
      "    if (t-lastTime).days<dayTolerance:\n",
      "        return True\n",
      "    else:\n",
      "        return False"
     ],
     "language": "python",
     "metadata": {},
     "outputs": [],
     "prompt_number": 11
    },
    {
     "cell_type": "code",
     "collapsed": false,
     "input": [
      "def isFileMissing(n,v=False,nPage=1):\n",
      "    if nPage==1:\n",
      "        returnVal=os.path.exists('TEXT_UPDATE/'+str(n)+'.html')\n",
      "    else:\n",
      "        returnVal=os.path.exists('TEXT_UPDATE/'+str(n)+'_'+str(nPage-1)+'.html')\n",
      "    if returnVal:\n",
      "        print 'GOT IT'\n",
      "        return False\n",
      "    else:\n",
      "        print 'NEED IT'\n",
      "        return True"
     ],
     "language": "python",
     "metadata": {},
     "outputs": [],
     "prompt_number": 12
    },
    {
     "cell_type": "code",
     "collapsed": false,
     "input": [
      "#            res=pd.read_sql_query(\"select * from comments3 where parent='\"+str(n)+\"' and user='\"+user+\"' and time='\"+postTime+\"'\",conn)\n",
      "allCommentsDf=pd.read_sql_query(\"select parent,user,time from comments3\",conn)"
     ],
     "language": "python",
     "metadata": {},
     "outputs": [],
     "prompt_number": 18
    },
    {
     "cell_type": "code",
     "collapsed": false,
     "input": [
      "%time allCommentsDf[(allCommentsDf.parent==str(n))&(allCommentsDf.user==\"seun\")&(allCommentsDf.time==datetime.datetime(2014,1,1))]"
     ],
     "language": "python",
     "metadata": {},
     "outputs": [
      {
       "output_type": "stream",
       "stream": "stdout",
       "text": [
        "CPU times: user 1.1 s, sys: 0 ns, total: 1.1 s\n",
        "Wall time: 1.1 s\n"
       ]
      },
      {
       "html": [
        "<div style=\"max-height:1000px;max-width:1500px;overflow:auto;\">\n",
        "<table border=\"1\" class=\"dataframe\">\n",
        "  <thead>\n",
        "    <tr style=\"text-align: right;\">\n",
        "      <th></th>\n",
        "      <th>parent</th>\n",
        "      <th>user</th>\n",
        "      <th>time</th>\n",
        "    </tr>\n",
        "  </thead>\n",
        "  <tbody>\n",
        "  </tbody>\n",
        "</table>\n",
        "</div>"
       ],
       "metadata": {},
       "output_type": "pyout",
       "prompt_number": 25,
       "text": [
        "Empty DataFrame\n",
        "Columns: [parent, user, time]\n",
        "Index: []"
       ]
      }
     ],
     "prompt_number": 25
    },
    {
     "cell_type": "code",
     "collapsed": false,
     "input": [
      "def putInDb(comments,times,users,likes,shares,flipped,firstPage,n):\n",
      "\n",
      "    resShape=0\n",
      "    v=False\n",
      "    nComment=0\n",
      "    print 'QUERYING FOR',n\n",
      "    res=pd.read_sql_query(\"select * from comments3 where parent='\"+str(n)+\"'\",conn)\n",
      "    nComment=res.shape[0]\n",
      "    # Get number of comments so far\n",
      "    \n",
      "    try:\n",
      "        post,postTime,postUser,postLikes,postShares=comments.pop(0),times.pop(0),users.pop(0),likes.pop(0),shares.pop(0)\n",
      "        # We don't need the post, only interested in comments\n",
      "    except:\n",
      "        return\n",
      "    # If it is empty then do nothing\n",
      "    \n",
      "    for comment,time_,user,like,share in zip(comments,times,users,likes,shares):\n",
      "        if v:print '=>',nComment,comment,time,user\n",
      "        postTime=time_.strftime('%Y-%m-%d %H:%M:00')\n",
      "        # Convert datetime to string\n",
      "\n",
      "#        res=cur.execute(\"select * from comments3 where parent='\"+str(n)+\"' and user='\"+user+\"' and time='\"+postTime+\"'\")\n",
      "#        print '+++',res,\"select * from comments3 where parent='\"+str(n)+\"' and user='\"+user+\"' and time='\"+postTime+\"'\"\n",
      "        if not flipped:\n",
      "#            res=pd.read_sql_query(\"select * from comments3 where parent='\"+str(n)+\"' and user='\"+user+\"' and time='\"+postTime+\"'\",conn)\n",
      "            res=allCommentsDf[(allCommentsDf.parent==str(n))&(allCommentsDf.user==user)&(allCommentsDf.time==postTime)]\n",
      "            resShape=res.shape[0]\n",
      "        else:\n",
      "            resShape=0\n",
      "        # TODO make a bool, flip it once a missing comment is found\n",
      "        # then saves time checking for each comment\n",
      "    \n",
      "        if resShape==0:\n",
      "            flipped=True\n",
      "\n",
      "\n",
      "            q=u\"insert into comments_updated (parent,nComment,user,time,content,nLikes,nShares) values (%s,%s,%s,%s,%s,%s,%s)\"\n",
      "            data=(str(n),str(nComment),user,postTime,comment.encode('utf-8'),like,share)\n",
      "##            if True:\n",
      "##                cur.execute(q,data)\n",
      "##                cur.connection.commit()        \n",
      "        else:\n",
      "            print '\\t\\tALREADY GOT IT'\n",
      "        nComment+=1\n",
      "    return flipped"
     ],
     "language": "python",
     "metadata": {},
     "outputs": [],
     "prompt_number": 26
    },
    {
     "cell_type": "code",
     "collapsed": false,
     "input": [
      "def getNewComments(n,nCommentsPages):\n",
      "    \n",
      "    flipped=False\n",
      "    # Test to see if the first comments are in the DB\n",
      "    # Once one comment is found that is missing, put\n",
      "    # all others in DB without testing\n",
      "    \n",
      "    if nCommentsPages==1:\n",
      "        '''If only a single page just grab first page'''\n",
      "        if isFileMissing(n,nPage=nCommentsPages):\n",
      "            curlFile(n,nPage=nCommentsPages)\n",
      "\n",
      "        parentContent=open('TEXT_UPDATE/'+str(n)+'.html').read()\n",
      "        comments,times,users,likes,shares=getParts(parentContent,'TEXT_UPDATE/'+str(n)+'.html',n)\n",
      "    else:\n",
      "        '''Otherwise grab the last page'''\n",
      "        if isFileMissing(n,nPage=nCommentsPages):\n",
      "            curlFile(n,nPage=nCommentsPages)\n",
      "\n",
      "        parentContent=open('TEXT_UPDATE/'+str(n)+'_'+str(nCommentsPages-1)+'.html').read()\n",
      "        comments,times,users,likes,shares=getParts(parentContent,'TEXT_UPDATE/'+str(n)+'_'+str(nCommentsPages-1)+'.html',n)\n",
      "    print '\\t',len(comments),'COMMENTS FOR PAGE #',nCommentsPages\n",
      "        \n",
      "    flipped=putInDb(comments,times,users,likes,shares,flipped,firstPage=True,n=n)\n",
      "        \n",
      "    while len(comments)>0:\n",
      "        nCommentsPages+=1\n",
      "        if isFileMissing(n,nPage=nCommentsPages):\n",
      "            curlFile(n,nPage=nCommentsPages)\n",
      "\n",
      "        parentContent=open('TEXT_UPDATE/'+str(n)+'_'+str(nCommentsPages-1)+'.html').read()\n",
      "        comments,times,users,likes,shares=getParts(parentContent,'TEXT_UPDATE/'+str(n)+'_'+str(nCommentsPages-1)+'.html',n)\n",
      "        print '\\t',len(comments),'COMMENTS FOR PAGE #',nCommentsPages\n",
      "        \n",
      "        flipped=putInDb(comments,times,users,likes,shares,flipped,firstPage=False,n=n)"
     ],
     "language": "python",
     "metadata": {},
     "outputs": [],
     "prompt_number": 27
    },
    {
     "cell_type": "code",
     "collapsed": false,
     "input": [
      "for row in df.iterrows():\n",
      "    n=row[1].parent\n",
      "    nCommentsPages=len(getCommentFiles(n))\n",
      "    \n",
      "    if isFileMissing(n,nPage=nCommentsPages):\n",
      "        curlFile(n,nPage=nCommentsPages)\n",
      "    # Automatically grab the first page for every single thread\n",
      "    # Decide after if we want to grab later pages\n",
      "        \n",
      "    print row[0],n,row[1].nComments,' - ',nCommentsPages\n",
      "    \n",
      "    if nCommentsPages==1:\n",
      "        '''If only a single page just grab first page'''\n",
      "        parentContent=open('TEXT/'+str(n)+'.html').read()\n",
      "        comments,times,users,likes,shares=getParts(parentContent,'TEXT/'+str(n)+'.html',n)\n",
      "    else:\n",
      "        '''Otherwise grab the last page'''\n",
      "        parentContent=open('TEXT/'+str(n)+'_'+str(nCommentsPages-1)+'.html').read()\n",
      "        comments,times,users,likes,shares=getParts(parentContent,'TEXT/'+str(n)+'_'+str(nCommentsPages-1)+'.html',n)\n",
      "        \n",
      "#    if isLastCommentRecent(n,times[-1],v=True):\n",
      "    if True:\n",
      "        curlFile(n,nPage=nCommentsPages)\n",
      "        getNewComments(n,nCommentsPages=nCommentsPages)\n",
      "\n",
      "        \n",
      "    print isLastCommentRecent(n,times[-1],v=True)\n",
      "    print '---------------------'\n",
      "    # If recent, check to see if the comments from the last page should be put in DB\n",
      "    # Then count pages of comments present from the base page"
     ],
     "language": "python",
     "metadata": {},
     "outputs": [
      {
       "output_type": "stream",
       "stream": "stdout",
       "text": [
        "GOT IT\n",
        "0 1798361 0  -  1\n",
        "GOT IT"
       ]
      },
      {
       "output_type": "stream",
       "stream": "stdout",
       "text": [
        "\n",
        "\t1 COMMENTS FOR PAGE # 1\n",
        "QUERYING FOR 1798361\n",
        "2015-01-29 20:45:57"
       ]
      },
      {
       "output_type": "stream",
       "stream": "stdout",
       "text": [
        "  -  2014-07-04 04:26:00\n",
        "False\n",
        "---------------------\n",
        "GOT IT"
       ]
      },
      {
       "output_type": "stream",
       "stream": "stdout",
       "text": [
        "\n",
        "1 1798363 12  -  1\n",
        "GOT IT"
       ]
      },
      {
       "output_type": "stream",
       "stream": "stdout",
       "text": [
        "\n",
        "\t13 COMMENTS FOR PAGE # 1\n",
        "QUERYING FOR 1798363\n",
        "\t\tALREADY GOT IT"
       ]
      },
      {
       "output_type": "stream",
       "stream": "stdout",
       "text": [
        "\n",
        "\t\tALREADY GOT IT"
       ]
      },
      {
       "output_type": "stream",
       "stream": "stdout",
       "text": [
        "\n",
        "\t\tALREADY GOT IT"
       ]
      },
      {
       "output_type": "stream",
       "stream": "stdout",
       "text": [
        "\n",
        "\t\tALREADY GOT IT"
       ]
      },
      {
       "output_type": "stream",
       "stream": "stdout",
       "text": [
        "\n",
        "\t\tALREADY GOT IT"
       ]
      },
      {
       "output_type": "stream",
       "stream": "stdout",
       "text": [
        "\n",
        "\t\tALREADY GOT IT"
       ]
      },
      {
       "output_type": "stream",
       "stream": "stdout",
       "text": [
        "\n",
        "\t\tALREADY GOT IT"
       ]
      },
      {
       "output_type": "stream",
       "stream": "stdout",
       "text": [
        "\n",
        "\t\tALREADY GOT IT"
       ]
      },
      {
       "output_type": "stream",
       "stream": "stdout",
       "text": [
        "\n",
        "\t\tALREADY GOT IT"
       ]
      },
      {
       "output_type": "stream",
       "stream": "stdout",
       "text": [
        "\n",
        "\t\tALREADY GOT IT"
       ]
      },
      {
       "output_type": "stream",
       "stream": "stdout",
       "text": [
        "\n",
        "\t\tALREADY GOT IT"
       ]
      },
      {
       "output_type": "stream",
       "stream": "stdout",
       "text": [
        "\n",
        "\t\tALREADY GOT IT"
       ]
      },
      {
       "output_type": "stream",
       "stream": "stdout",
       "text": [
        "\n",
        "GOT IT\n",
        "\t0 COMMENTS FOR PAGE # 2\n",
        "QUERYING FOR 1798363\n",
        "2015-01-29 20:45:55"
       ]
      },
      {
       "output_type": "stream",
       "stream": "stdout",
       "text": [
        "  -  2014-07-04 11:08:00\n",
        "False\n",
        "---------------------\n",
        "GOT IT"
       ]
      },
      {
       "output_type": "stream",
       "stream": "stdout",
       "text": [
        "\n",
        "2 1798364 6  -  1\n",
        "GOT IT"
       ]
      },
      {
       "output_type": "stream",
       "stream": "stdout",
       "text": [
        "\n",
        "\t7 COMMENTS FOR PAGE # 1\n",
        "QUERYING FOR 1798364\n",
        "\t\tALREADY GOT IT"
       ]
      },
      {
       "output_type": "stream",
       "stream": "stdout",
       "text": [
        "\n",
        "\t\tALREADY GOT IT"
       ]
      },
      {
       "output_type": "stream",
       "stream": "stdout",
       "text": [
        "\n",
        "\t\tALREADY GOT IT"
       ]
      },
      {
       "output_type": "stream",
       "stream": "stdout",
       "text": [
        "\n",
        "\t\tALREADY GOT IT"
       ]
      },
      {
       "output_type": "stream",
       "stream": "stdout",
       "text": [
        "\n",
        "\t\tALREADY GOT IT"
       ]
      },
      {
       "output_type": "stream",
       "stream": "stdout",
       "text": [
        "\n",
        "\t\tALREADY GOT IT"
       ]
      },
      {
       "output_type": "stream",
       "stream": "stdout",
       "text": [
        "\n",
        "GOT IT\n",
        "\t0 COMMENTS FOR PAGE # 2\n",
        "QUERYING FOR 1798364\n",
        "2015-01-29 20:45:55"
       ]
      },
      {
       "output_type": "stream",
       "stream": "stdout",
       "text": [
        "  -  2014-07-05 19:39:00\n",
        "False\n",
        "---------------------\n",
        "GOT IT"
       ]
      },
      {
       "output_type": "stream",
       "stream": "stdout",
       "text": [
        "\n",
        "3 1798365 3  -  1\n",
        "GOT IT"
       ]
      },
      {
       "output_type": "stream",
       "stream": "stdout",
       "text": [
        "\n",
        "\t4 COMMENTS FOR PAGE # 1\n",
        "QUERYING FOR 1798365\n",
        "\t\tALREADY GOT IT"
       ]
      },
      {
       "output_type": "stream",
       "stream": "stdout",
       "text": [
        "\n",
        "\t\tALREADY GOT IT"
       ]
      },
      {
       "output_type": "stream",
       "stream": "stdout",
       "text": [
        "\n",
        "\t\tALREADY GOT IT"
       ]
      },
      {
       "output_type": "stream",
       "stream": "stdout",
       "text": [
        "\n",
        "GOT IT\n",
        "\t0 COMMENTS FOR PAGE # 2\n",
        "QUERYING FOR 1798365\n",
        "2015-01-29 20:45:55"
       ]
      },
      {
       "output_type": "stream",
       "stream": "stdout",
       "text": [
        "  -  2014-07-08 09:59:00\n",
        "False\n",
        "---------------------\n",
        "GOT IT"
       ]
      },
      {
       "output_type": "stream",
       "stream": "stdout",
       "text": [
        "\n",
        "4 1798366 3  -  1\n",
        "GOT IT"
       ]
      },
      {
       "output_type": "stream",
       "stream": "stdout",
       "text": [
        "\n",
        "\t4 COMMENTS FOR PAGE # 1\n",
        "QUERYING FOR 1798366\n",
        "\t\tALREADY GOT IT"
       ]
      },
      {
       "output_type": "stream",
       "stream": "stdout",
       "text": [
        "\n",
        "\t\tALREADY GOT IT"
       ]
      },
      {
       "output_type": "stream",
       "stream": "stdout",
       "text": [
        "\n",
        "\t\tALREADY GOT IT"
       ]
      },
      {
       "output_type": "stream",
       "stream": "stdout",
       "text": [
        "\n",
        "GOT IT\n",
        "\t0 COMMENTS FOR PAGE # 2\n",
        "QUERYING FOR 1798366\n",
        "2015-01-29 20:45:54"
       ]
      },
      {
       "output_type": "stream",
       "stream": "stdout",
       "text": [
        "  -  2014-07-04 06:31:00\n",
        "False\n",
        "---------------------\n",
        "GOT IT"
       ]
      },
      {
       "output_type": "stream",
       "stream": "stdout",
       "text": [
        "\n",
        "5 1798367 36  -  2\n",
        "GOT IT"
       ]
      },
      {
       "output_type": "stream",
       "stream": "stdout",
       "text": [
        "\n",
        "\t6 COMMENTS FOR PAGE # 2\n",
        "QUERYING FOR 1798367\n",
        "\t\tALREADY GOT IT"
       ]
      },
      {
       "output_type": "stream",
       "stream": "stdout",
       "text": [
        "\n",
        "\t\tALREADY GOT IT"
       ]
      },
      {
       "output_type": "stream",
       "stream": "stdout",
       "text": [
        "\n",
        "\t\tALREADY GOT IT"
       ]
      },
      {
       "output_type": "stream",
       "stream": "stdout",
       "text": [
        "\n",
        "\t\tALREADY GOT IT"
       ]
      },
      {
       "output_type": "stream",
       "stream": "stdout",
       "text": [
        "\n",
        "\t\tALREADY GOT IT"
       ]
      },
      {
       "output_type": "stream",
       "stream": "stdout",
       "text": [
        "\n",
        "GOT IT\n",
        "\t0 COMMENTS FOR PAGE # 3\n",
        "QUERYING FOR 1798367\n",
        "2015-01-29 20:45:54"
       ]
      },
      {
       "output_type": "stream",
       "stream": "stdout",
       "text": [
        "  -  2014-10-27 07:58:00\n",
        "False\n",
        "---------------------\n",
        "GOT IT"
       ]
      },
      {
       "output_type": "stream",
       "stream": "stdout",
       "text": [
        "\n",
        "6 1798368 18  -  1\n",
        "GOT IT"
       ]
      },
      {
       "output_type": "stream",
       "stream": "stdout",
       "text": [
        "\n",
        "\t"
       ]
      },
      {
       "output_type": "stream",
       "stream": "stdout",
       "text": [
        "19 COMMENTS FOR PAGE # 1\n",
        "QUERYING FOR 1798368\n",
        "\t\tALREADY GOT IT"
       ]
      },
      {
       "output_type": "stream",
       "stream": "stdout",
       "text": [
        "\n",
        "\t\tALREADY GOT IT"
       ]
      },
      {
       "output_type": "stream",
       "stream": "stdout",
       "text": [
        "\n",
        "\t\tALREADY GOT IT"
       ]
      },
      {
       "output_type": "stream",
       "stream": "stdout",
       "text": [
        "\n",
        "\t\tALREADY GOT IT"
       ]
      },
      {
       "output_type": "stream",
       "stream": "stdout",
       "text": [
        "\n",
        "\t\tALREADY GOT IT"
       ]
      },
      {
       "output_type": "stream",
       "stream": "stdout",
       "text": [
        "\n",
        "\t\tALREADY GOT IT"
       ]
      },
      {
       "output_type": "stream",
       "stream": "stdout",
       "text": [
        "\n",
        "\t\tALREADY GOT IT"
       ]
      },
      {
       "output_type": "stream",
       "stream": "stdout",
       "text": [
        "\n",
        "\t\tALREADY GOT IT"
       ]
      },
      {
       "output_type": "stream",
       "stream": "stdout",
       "text": [
        "\n",
        "\t\tALREADY GOT IT"
       ]
      },
      {
       "output_type": "stream",
       "stream": "stdout",
       "text": [
        "\n",
        "\t\tALREADY GOT IT"
       ]
      },
      {
       "output_type": "stream",
       "stream": "stdout",
       "text": [
        "\n",
        "\t\tALREADY GOT IT"
       ]
      },
      {
       "output_type": "stream",
       "stream": "stdout",
       "text": [
        "\n",
        "\t\tALREADY GOT IT"
       ]
      },
      {
       "output_type": "stream",
       "stream": "stdout",
       "text": [
        "\n",
        "\t\tALREADY GOT IT"
       ]
      },
      {
       "output_type": "stream",
       "stream": "stdout",
       "text": [
        "\n",
        "\t\tALREADY GOT IT"
       ]
      },
      {
       "output_type": "stream",
       "stream": "stdout",
       "text": [
        "\n",
        "\t\tALREADY GOT IT"
       ]
      },
      {
       "output_type": "stream",
       "stream": "stdout",
       "text": [
        "\n",
        "\t\tALREADY GOT IT"
       ]
      },
      {
       "output_type": "stream",
       "stream": "stdout",
       "text": [
        "\n",
        "\t\tALREADY GOT IT"
       ]
      },
      {
       "output_type": "stream",
       "stream": "stdout",
       "text": [
        "\n",
        "\t\tALREADY GOT IT"
       ]
      },
      {
       "output_type": "stream",
       "stream": "stdout",
       "text": [
        "\n",
        "GOT IT\n",
        "\t0 COMMENTS FOR PAGE # 2\n",
        "QUERYING FOR 1798368\n",
        "2015-01-29 20:45:54"
       ]
      },
      {
       "output_type": "stream",
       "stream": "stdout",
       "text": [
        "  -  2014-08-31 09:08:00\n",
        "False\n",
        "---------------------\n",
        "GOT IT"
       ]
      },
      {
       "output_type": "stream",
       "stream": "stdout",
       "text": [
        "\n",
        "7 1798370 0  -  1\n",
        "GOT IT"
       ]
      },
      {
       "output_type": "stream",
       "stream": "stdout",
       "text": [
        "\n",
        "\t1 COMMENTS FOR PAGE # 1\n",
        "QUERYING FOR 1798370\n",
        "2015-01-29 20:45:53"
       ]
      },
      {
       "output_type": "stream",
       "stream": "stdout",
       "text": [
        "  -  2014-07-04 04:45:00\n",
        "False\n",
        "---------------------\n",
        "GOT IT"
       ]
      },
      {
       "output_type": "stream",
       "stream": "stdout",
       "text": [
        "\n",
        "8 1798371 0  -  1\n",
        "GOT IT"
       ]
      },
      {
       "output_type": "stream",
       "stream": "stdout",
       "text": [
        "\n",
        "\t1 COMMENTS FOR PAGE # 1\n",
        "QUERYING FOR 1798371\n",
        "2015-01-29 20:45:53"
       ]
      },
      {
       "output_type": "stream",
       "stream": "stdout",
       "text": [
        "  -  2014-07-04 04:51:00\n",
        "False\n",
        "---------------------\n",
        "GOT IT"
       ]
      },
      {
       "output_type": "stream",
       "stream": "stdout",
       "text": [
        "\n",
        "9 1798372 0  -  1\n",
        "GOT IT"
       ]
      },
      {
       "output_type": "stream",
       "stream": "stdout",
       "text": [
        "\n",
        "\t1 COMMENTS FOR PAGE # 1\n",
        "QUERYING FOR 1798372\n",
        "2015-01-29 20:45:52"
       ]
      },
      {
       "output_type": "stream",
       "stream": "stdout",
       "text": [
        "  -  2014-07-04 04:53:00\n",
        "False\n",
        "---------------------\n"
       ]
      }
     ],
     "prompt_number": 28
    },
    {
     "cell_type": "heading",
     "level": 1,
     "metadata": {},
     "source": []
    }
   ],
   "metadata": {}
  }
 ]
}