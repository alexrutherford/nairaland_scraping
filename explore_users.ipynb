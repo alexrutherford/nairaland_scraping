{
 "cells": [
  {
   "cell_type": "code",
   "execution_count": 132,
   "metadata": {
    "collapsed": false
   },
   "outputs": [],
   "source": [
    "import pymysql,sys,json\n",
    "import seaborn as sns\n",
    "import collections\n",
    "import matplotlib.pyplot as plt\n",
    "from dateutil import parser\n",
    "import datetime\n",
    "import numpy as np\n",
    "from scipy.stats import pearsonr\n",
    "%matplotlib inline\n",
    "import pandas as pd"
   ]
  },
  {
   "cell_type": "code",
   "execution_count": 2,
   "metadata": {
    "collapsed": false
   },
   "outputs": [
    {
     "data": {
      "text/plain": [
       "<matplotlib.figure.Figure at 0x7fdb8ffbc250>"
      ]
     },
     "metadata": {},
     "output_type": "display_data"
    }
   ],
   "source": [
    "sns.set_style('white')\n",
    "sns.despine()\n",
    "sns.set_context(\"notebook\", font_scale=2.0, rc={\"lines.linewidth\": 2.5})"
   ]
  },
  {
   "cell_type": "code",
   "execution_count": 3,
   "metadata": {
    "collapsed": false
   },
   "outputs": [],
   "source": [
    "conn = pymysql.connect(host='localhost',user='root',passwd='pulsetini', db='nairaland',charset='utf8')\n",
    "cur = conn.cursor()\n",
    "cur2 = conn.cursor()"
   ]
  },
  {
   "cell_type": "markdown",
   "metadata": {},
   "source": [
    "###### Get users"
   ]
  },
  {
   "cell_type": "code",
   "execution_count": 4,
   "metadata": {
    "collapsed": false
   },
   "outputs": [],
   "source": [
    "df=pd.read_sql_query('select * from users',conn)\n",
    "df2=pd.read_sql_query('select * from users_new_test',conn)\n",
    "followingDf=pd.read_sql_query('select * from following',conn)\n",
    "followingNewDf=pd.read_sql_query('select * from following_new',conn)"
   ]
  },
  {
   "cell_type": "code",
   "execution_count": 5,
   "metadata": {
    "collapsed": false
   },
   "outputs": [],
   "source": [
    "dfComb=pd.concat([df,df2])"
   ]
  },
  {
   "cell_type": "code",
   "execution_count": 6,
   "metadata": {
    "collapsed": false
   },
   "outputs": [
    {
     "data": {
      "text/html": [
       "<div style=\"max-height:1000px;max-width:1500px;overflow:auto;\">\n",
       "<table border=\"1\" class=\"dataframe\">\n",
       "  <thead>\n",
       "    <tr style=\"text-align: right;\">\n",
       "      <th></th>\n",
       "      <th>userName</th>\n",
       "      <th>registered</th>\n",
       "      <th>gender</th>\n",
       "      <th>location</th>\n",
       "      <th>personal</th>\n",
       "      <th>lastSeen</th>\n",
       "      <th>timeSpent</th>\n",
       "      <th>posts</th>\n",
       "      <th>country</th>\n",
       "      <th>postition</th>\n",
       "      <th>lat</th>\n",
       "      <th>lon</th>\n",
       "      <th>divisionIndex</th>\n",
       "      <th>comments</th>\n",
       "      <th>postsInDb</th>\n",
       "      <th>updated</th>\n",
       "    </tr>\n",
       "  </thead>\n",
       "  <tbody>\n",
       "    <tr>\n",
       "      <th>0</th>\n",
       "      <td>lildonne</td>\n",
       "      <td>June 12, 2012</td>\n",
       "      <td>m</td>\n",
       "      <td></td>\n",
       "      <td>Am DONNE, the tymlezz entz. Rep. yung donne t...</td>\n",
       "      <td>4:09pm On Feb 03</td>\n",
       "      <td>1 day &amp; 16 hours</td>\n",
       "      <td>71</td>\n",
       "      <td>None</td>\n",
       "      <td>None</td>\n",
       "      <td>NaN</td>\n",
       "      <td>NaN</td>\n",
       "      <td>None</td>\n",
       "      <td>12</td>\n",
       "      <td>4</td>\n",
       "      <td>None</td>\n",
       "    </tr>\n",
       "    <tr>\n",
       "      <th>1</th>\n",
       "      <td>dejt4u</td>\n",
       "      <td>June 29, 2009</td>\n",
       "      <td>m</td>\n",
       "      <td>Planet earth_Dun'ya</td>\n",
       "      <td></td>\n",
       "      <td>9:26pm On Feb 08</td>\n",
       "      <td>1 month &amp; 6 days</td>\n",
       "      <td>4</td>\n",
       "      <td>None</td>\n",
       "      <td>None</td>\n",
       "      <td>NaN</td>\n",
       "      <td>NaN</td>\n",
       "      <td>None</td>\n",
       "      <td>657</td>\n",
       "      <td>15</td>\n",
       "      <td>None</td>\n",
       "    </tr>\n",
       "    <tr>\n",
       "      <th>2</th>\n",
       "      <td>macpetrus</td>\n",
       "      <td>July 03, 2014</td>\n",
       "      <td>m</td>\n",
       "      <td>kepler-10c</td>\n",
       "      <td></td>\n",
       "      <td>6:55am</td>\n",
       "      <td>15 days</td>\n",
       "      <td>567</td>\n",
       "      <td>None</td>\n",
       "      <td>None</td>\n",
       "      <td>NaN</td>\n",
       "      <td>NaN</td>\n",
       "      <td>None</td>\n",
       "      <td>450</td>\n",
       "      <td>1</td>\n",
       "      <td>None</td>\n",
       "    </tr>\n",
       "    <tr>\n",
       "      <th>3</th>\n",
       "      <td>disloman</td>\n",
       "      <td>October 17, 2012</td>\n",
       "      <td>m</td>\n",
       "      <td>lagos</td>\n",
       "      <td>I'm a gee</td>\n",
       "      <td>4:35am</td>\n",
       "      <td>25 days &amp; 9 hours</td>\n",
       "      <td>943</td>\n",
       "      <td>NG</td>\n",
       "      <td>None</td>\n",
       "      <td>6.53774</td>\n",
       "      <td>3.3522</td>\n",
       "      <td>05</td>\n",
       "      <td>590</td>\n",
       "      <td>7</td>\n",
       "      <td>None</td>\n",
       "    </tr>\n",
       "    <tr>\n",
       "      <th>4</th>\n",
       "      <td>idrismusty97</td>\n",
       "      <td>December 05, 2012</td>\n",
       "      <td>m</td>\n",
       "      <td>Arewa Republic</td>\n",
       "      <td>\"When one person suffers from a delusion, it ...</td>\n",
       "      <td>7:18pm On Feb 08</td>\n",
       "      <td>2 months &amp; 23 days</td>\n",
       "      <td>97</td>\n",
       "      <td>NG</td>\n",
       "      <td>None</td>\n",
       "      <td>7.38333</td>\n",
       "      <td>4.4500</td>\n",
       "      <td>00</td>\n",
       "      <td>1686</td>\n",
       "      <td>27</td>\n",
       "      <td>None</td>\n",
       "    </tr>\n",
       "  </tbody>\n",
       "</table>\n",
       "</div>"
      ],
      "text/plain": [
       "       userName          registered gender              location  \\\n",
       "0      lildonne       June 12, 2012      m                         \n",
       "1        dejt4u       June 29, 2009      m   Planet earth_Dun'ya   \n",
       "2     macpetrus       July 03, 2014      m            kepler-10c   \n",
       "3      disloman    October 17, 2012      m                 lagos   \n",
       "4  idrismusty97   December 05, 2012      m        Arewa Republic   \n",
       "\n",
       "                                            personal           lastSeen  \\\n",
       "0   Am DONNE, the tymlezz entz. Rep. yung donne t...   4:09pm On Feb 03   \n",
       "1                                                      9:26pm On Feb 08   \n",
       "2                                                                6:55am   \n",
       "3                                          I'm a gee             4:35am   \n",
       "4   \"When one person suffers from a delusion, it ...   7:18pm On Feb 08   \n",
       "\n",
       "             timeSpent  posts country postition      lat     lon  \\\n",
       "0     1 day & 16 hours     71    None      None      NaN     NaN   \n",
       "1     1 month & 6 days      4    None      None      NaN     NaN   \n",
       "2              15 days    567    None      None      NaN     NaN   \n",
       "3    25 days & 9 hours    943      NG      None  6.53774  3.3522   \n",
       "4   2 months & 23 days     97      NG      None  7.38333  4.4500   \n",
       "\n",
       "  divisionIndex  comments  postsInDb updated  \n",
       "0          None        12          4    None  \n",
       "1          None       657         15    None  \n",
       "2          None       450          1    None  \n",
       "3            05       590          7    None  \n",
       "4            00      1686         27    None  "
      ]
     },
     "execution_count": 6,
     "metadata": {},
     "output_type": "execute_result"
    }
   ],
   "source": [
    "df.head()"
   ]
  },
  {
   "cell_type": "code",
   "execution_count": 16,
   "metadata": {
    "collapsed": false
   },
   "outputs": [
    {
     "data": {
      "text/plain": [
       "[(u' nigeria', 4394),\n",
       " (u' lagos', 4295),\n",
       " (u' abuja', 1227),\n",
       " (u' lagos, nigeria', 610),\n",
       " (u' ibadan', 509),\n",
       " (u' port harcourt', 393),\n",
       " (u' enugu', 265),\n",
       " (u' lagos nigeria', 245),\n",
       " (u' kaduna', 219),\n",
       " (u' lagos,nigeria', 216),\n",
       " (u' ilorin', 169),\n",
       " (u' lagos ', 167),\n",
       " (u' owerri', 153),\n",
       " (u' benin city', 151),\n",
       " (u' warri', 132),\n",
       " (u' calabar', 130),\n",
       " (u' anambra', 118),\n",
       " (u' abuja, nigeria', 113),\n",
       " (u' akure', 113),\n",
       " (u' delta', 111)]"
      ]
     },
     "execution_count": 16,
     "metadata": {},
     "output_type": "execute_result"
    }
   ],
   "source": [
    "collections.Counter(df[df.country=='NG'].location.apply(unicode.lower).values).most_common(20)"
   ]
  },
  {
   "cell_type": "markdown",
   "metadata": {},
   "source": [
    "###### Make user network, both active users and inactive users"
   ]
  },
  {
   "cell_type": "code",
   "execution_count": 4,
   "metadata": {
    "collapsed": false
   },
   "outputs": [],
   "source": [
    "dfActive=pd.read_sql_query('select * from following',conn)"
   ]
  },
  {
   "cell_type": "code",
   "execution_count": 5,
   "metadata": {
    "collapsed": false
   },
   "outputs": [
    {
     "data": {
      "text/html": [
       "<div style=\"max-height:1000px;max-width:1500px;overflow:auto;\">\n",
       "<table border=\"1\" class=\"dataframe\">\n",
       "  <thead>\n",
       "    <tr style=\"text-align: right;\">\n",
       "      <th></th>\n",
       "      <th>source</th>\n",
       "      <th>target</th>\n",
       "      <th>sourceGender</th>\n",
       "      <th>targetGender</th>\n",
       "    </tr>\n",
       "  </thead>\n",
       "  <tbody>\n",
       "    <tr>\n",
       "      <th>0</th>\n",
       "      <td> seun</td>\n",
       "      <td>        Deefuray</td>\n",
       "      <td> None</td>\n",
       "      <td> None</td>\n",
       "    </tr>\n",
       "    <tr>\n",
       "      <th>1</th>\n",
       "      <td> seun</td>\n",
       "      <td>      CAPTIVATOR</td>\n",
       "      <td> None</td>\n",
       "      <td> None</td>\n",
       "    </tr>\n",
       "    <tr>\n",
       "      <th>2</th>\n",
       "      <td> seun</td>\n",
       "      <td>     TheAdvocate</td>\n",
       "      <td> None</td>\n",
       "      <td> None</td>\n",
       "    </tr>\n",
       "    <tr>\n",
       "      <th>3</th>\n",
       "      <td> seun</td>\n",
       "      <td> Naijasinglegirl</td>\n",
       "      <td> None</td>\n",
       "      <td> None</td>\n",
       "    </tr>\n",
       "    <tr>\n",
       "      <th>4</th>\n",
       "      <td> seun</td>\n",
       "      <td>         lurther</td>\n",
       "      <td> None</td>\n",
       "      <td> None</td>\n",
       "    </tr>\n",
       "  </tbody>\n",
       "</table>\n",
       "</div>"
      ],
      "text/plain": [
       "  source           target sourceGender targetGender\n",
       "0   seun         Deefuray         None         None\n",
       "1   seun       CAPTIVATOR         None         None\n",
       "2   seun      TheAdvocate         None         None\n",
       "3   seun  Naijasinglegirl         None         None\n",
       "4   seun          lurther         None         None"
      ]
     },
     "execution_count": 5,
     "metadata": {},
     "output_type": "execute_result"
    }
   ],
   "source": [
    "dfActive.head()"
   ]
  },
  {
   "cell_type": "code",
   "execution_count": 8,
   "metadata": {
    "collapsed": false
   },
   "outputs": [],
   "source": [
    "from igraph import *"
   ]
  },
  {
   "cell_type": "code",
   "execution_count": 24,
   "metadata": {
    "collapsed": false
   },
   "outputs": [],
   "source": [
    "g=Graph()"
   ]
  },
  {
   "cell_type": "code",
   "execution_count": 25,
   "metadata": {
    "collapsed": false
   },
   "outputs": [],
   "source": [
    "g.add_vertices(set(df2.source).union(set(df2.target)))"
   ]
  },
  {
   "cell_type": "code",
   "execution_count": 30,
   "metadata": {
    "collapsed": false
   },
   "outputs": [
    {
     "ename": "MemoryError",
     "evalue": "",
     "output_type": "error",
     "traceback": [
      "\u001b[1;31m---------------------------------------------------------------------------\u001b[0m\n\u001b[1;31mMemoryError\u001b[0m                               Traceback (most recent call last)",
      "\u001b[1;32m<ipython-input-30-53f44f7a429f>\u001b[0m in \u001b[0;36m<module>\u001b[1;34m()\u001b[0m\n\u001b[1;32m----> 1\u001b[1;33m \u001b[1;32mprint\u001b[0m \u001b[0mg\u001b[0m\u001b[1;33m.\u001b[0m\u001b[0mvs\u001b[0m\u001b[1;33m(\u001b[0m\u001b[1;33m)\u001b[0m\u001b[1;33m[\u001b[0m\u001b[1;34m'name'\u001b[0m\u001b[1;33m]\u001b[0m\u001b[1;33m\u001b[0m\u001b[0m\n\u001b[0m",
      "\u001b[1;31mMemoryError\u001b[0m: "
     ]
    }
   ],
   "source": [
    "print g.vs()['name']"
   ]
  },
  {
   "cell_type": "code",
   "execution_count": null,
   "metadata": {
    "collapsed": false
   },
   "outputs": [],
   "source": [
    "g.add_edges([(r[1].source,r[1].target) for r in df2.iterrows()])"
   ]
  },
  {
   "cell_type": "code",
   "execution_count": 23,
   "metadata": {
    "collapsed": false
   },
   "outputs": [],
   "source": [
    "g=df[df.userName=='seun'].gender"
   ]
  },
  {
   "cell_type": "markdown",
   "metadata": {},
   "source": [
    "###### Assign Genders"
   ]
  },
  {
   "cell_type": "code",
   "execution_count": null,
   "metadata": {
    "collapsed": false
   },
   "outputs": [],
   "source": [
    "df=pd.read_sql_query(\"select userName from users where userName='TheTownPlanner'\",conn)"
   ]
  },
  {
   "cell_type": "markdown",
   "metadata": {},
   "source": [
    "###### Calculate gender conenctions"
   ]
  },
  {
   "cell_type": "code",
   "execution_count": 7,
   "metadata": {
    "collapsed": false
   },
   "outputs": [],
   "source": [
    "#nMale,nFemale,nNeither=sum(df.gender==u' m'),sum(df.gender==u' f'),sum(df.gender==u'')\n",
    "#nMale,nFemale,nNeither=sum(df2.gender==u' m'),sum(df2.gender==u' f'),sum(df2.gender==u'')\n",
    "nMale,nFemale,nNeither=sum(dfComb.gender==u' m'),sum(dfComb.gender==u' f'),sum(dfComb.gender==u'')"
   ]
  },
  {
   "cell_type": "markdown",
   "metadata": {},
   "source": [
    "###Expected Following Proportions"
   ]
  },
  {
   "cell_type": "code",
   "execution_count": 49,
   "metadata": {
    "collapsed": false
   },
   "outputs": [
    {
     "name": "stdout",
     "output_type": "stream",
     "text": [
      "M,F,N 43006 15486 58351\n",
      "M-F 0.070\n",
      "M-N 0.262\n",
      "F-N 0.094\n",
      "N-N 0.356\n",
      "M-M 0.193\n",
      "F-F 0.025\n"
     ]
    }
   ],
   "source": [
    "mf,mm,ff,mn,fn,nn=nMale*nFemale,nMale*nMale,nFemale*nFemale,nMale*nNeither,nFemale*nNeither,nNeither*nNeither\n",
    "total=float(mf+mm+ff+mn+fn+nn)\n",
    "print 'M,F,N',nMale,nFemale,nNeither\n",
    "print 'M-F','%.3f' % (mf/total)\n",
    "print 'M-N','%.3f' % (mn/total)\n",
    "print 'F-N','%.3f' % (fn/total)\n",
    "print 'N-N','%.3f' % (nn/total)\n",
    "print 'M-M','%.3f' % (mm/total)\n",
    "print 'F-F','%.3f' % (ff/total)"
   ]
  },
  {
   "cell_type": "code",
   "execution_count": 9,
   "metadata": {
    "collapsed": false
   },
   "outputs": [],
   "source": [
    "userGender={}\n",
    "for r in dfComb.iterrows():\n",
    "    if not r[1][2]==u'':\n",
    "        userGender[r[1][0]]=r[1][2]"
   ]
  },
  {
   "cell_type": "code",
   "execution_count": 10,
   "metadata": {
    "collapsed": true
   },
   "outputs": [],
   "source": [
    "followingDf['sourceGender']=None\n",
    "followingNewDf['sourceGender']=None"
   ]
  },
  {
   "cell_type": "code",
   "execution_count": 11,
   "metadata": {
    "collapsed": true
   },
   "outputs": [],
   "source": [
    "followingDf['targetGender']=None\n",
    "followingNewDf['targetGender']=None"
   ]
  },
  {
   "cell_type": "code",
   "execution_count": 12,
   "metadata": {
    "collapsed": false
   },
   "outputs": [],
   "source": [
    "followingDf['sourceGender']=followingDf['source'].apply(lambda u:userGender.get(u))\n",
    "followingNewDf['sourceGender']=followingNewDf['source'].apply(lambda u:userGender.get(u))"
   ]
  },
  {
   "cell_type": "code",
   "execution_count": 13,
   "metadata": {
    "collapsed": false
   },
   "outputs": [],
   "source": [
    "followingDf['targetGender']=followingDf['target'].apply(lambda u:userGender.get(u))\n",
    "followingNewDf['targetGender']=followingNewDf['target'].apply(lambda u:userGender.get(u))"
   ]
  },
  {
   "cell_type": "code",
   "execution_count": 15,
   "metadata": {
    "collapsed": false
   },
   "outputs": [],
   "source": [
    "d=followingDf[['sourceGender','targetGender']]"
   ]
  },
  {
   "cell_type": "code",
   "execution_count": 16,
   "metadata": {
    "collapsed": false
   },
   "outputs": [
    {
     "data": {
      "text/plain": [
       "[(None, 191410), (u' f', 81131), (u' m', 75958)]"
      ]
     },
     "execution_count": 16,
     "metadata": {},
     "output_type": "execute_result"
    }
   ],
   "source": [
    "collections.Counter(d.targetGender).most_common()"
   ]
  },
  {
   "cell_type": "code",
   "execution_count": 17,
   "metadata": {
    "collapsed": false
   },
   "outputs": [],
   "source": [
    "dyads=collections.Counter(zip(d.sourceGender.values,d.targetGender.values))"
   ]
  },
  {
   "cell_type": "code",
   "execution_count": 19,
   "metadata": {
    "collapsed": false
   },
   "outputs": [],
   "source": [
    "dyadsSum=sum(dyads.values())"
   ]
  },
  {
   "cell_type": "code",
   "execution_count": 92,
   "metadata": {
    "collapsed": false
   },
   "outputs": [
    {
     "name": "stdout",
     "output_type": "stream",
     "text": [
      "(u' m', None) 117068\n",
      "(None, u' m') 13736\n",
      "(u' f', None) 35483\n",
      "(None, u' f') 14427\n"
     ]
    }
   ],
   "source": [
    "for k in [(u' m',None),(None,u' m')]:\n",
    "    print k,dyads[k]\n",
    "\n",
    "for k in [(u' f',None),(None,u' f')]:\n",
    "    print k,dyads[k]\n"
   ]
  },
  {
   "cell_type": "code",
   "execution_count": 99,
   "metadata": {
    "collapsed": false
   },
   "outputs": [
    {
     "name": "stdout",
     "output_type": "stream",
     "text": [
      " m  f : 61088  f  m : 25255 2.419\n",
      " m None : 117068 None  m : 13736 8.523\n",
      " f None : 35483 None  f : 14427 2.459\n"
     ]
    }
   ],
   "source": [
    "for k1,k2 in ([(u' m',u' f'),(u' m',None),(u' f',None)]):\n",
    "    print k1,k2,':',dyads[(k1,k2)],k2,k1,':',dyads[(k2,k1)],'%.3f' % (dyads[(k1,k2)]/float(dyads[(k2,k1)]))"
   ]
  },
  {
   "cell_type": "markdown",
   "metadata": {},
   "source": [
    "###Actual Following Proportions"
   ]
  },
  {
   "cell_type": "code",
   "execution_count": 44,
   "metadata": {
    "collapsed": false
   },
   "outputs": [
    {
     "name": "stdout",
     "output_type": "stream",
     "text": [
      "m,f 0.248\n",
      "m,None 0.375\n",
      "f,None 0.143\n",
      "None,None 0.112\n",
      "m,m 0.106\n",
      "f,f 0.016\n"
     ]
    }
   ],
   "source": [
    "print 'm,f','%0.3f' % ((dyads[(u' m',u' f')]+dyads[(u' f',u' m')])/float(dyadsSum))\n",
    "print 'm,None','%0.3f' % ((dyads[(u' m',None)]+dyads[(None,u' m')])/float(dyadsSum))\n",
    "print 'f,None','%0.3f' % ((dyads[(u' f',None)]+dyads[(None,u' f')])/float(dyadsSum))\n",
    "print 'None,None','%0.3f' % ((dyads[(None,None)])/float(dyadsSum))\n",
    "print 'm,m','%0.3f' % ((dyads[(u' m',u' m')])/float(dyadsSum))\n",
    "print 'f,f','%0.3f' % ((dyads[(u' f',u' f')])/float(dyadsSum))"
   ]
  },
  {
   "cell_type": "code",
   "execution_count": 22,
   "metadata": {
    "collapsed": false
   },
   "outputs": [
    {
     "name": "stdout",
     "output_type": "stream",
     "text": [
      "(u' m', None) 0.336 117068\n",
      "(u' m', u' f') 0.175 61088\n",
      "(None, None) 0.112 38859\n",
      "(u' m', u' m') 0.106 36967\n",
      "(u' f', None) 0.102 35483\n",
      "(u' f', u' m') 0.072 25255\n",
      "(None, u' f') 0.041 14427\n",
      "(None, u' m') 0.039 13736\n",
      "(u' f', u' f') 0.016 5616\n"
     ]
    }
   ],
   "source": [
    "for k,v in dyads.most_common():\n",
    "    print k,'%.3f' % (v/float(dyadsSum)),v"
   ]
  },
  {
   "cell_type": "code",
   "execution_count": 86,
   "metadata": {
    "collapsed": false
   },
   "outputs": [],
   "source": [
    "g=df2[df2['sourceGender']=='m'].groupby('source')"
   ]
  },
  {
   "cell_type": "code",
   "execution_count": 88,
   "metadata": {
    "collapsed": false
   },
   "outputs": [
    {
     "data": {
      "text/html": [
       "<div style=\"max-height:1000px;max-width:1500px;overflow:auto;\">\n",
       "<table border=\"1\" class=\"dataframe\">\n",
       "  <thead>\n",
       "    <tr style=\"text-align: right;\">\n",
       "      <th></th>\n",
       "      <th>target</th>\n",
       "      <th>sourceGender</th>\n",
       "      <th>targetGender</th>\n",
       "    </tr>\n",
       "    <tr>\n",
       "      <th>source</th>\n",
       "      <th></th>\n",
       "      <th></th>\n",
       "      <th></th>\n",
       "    </tr>\n",
       "  </thead>\n",
       "  <tbody>\n",
       "  </tbody>\n",
       "</table>\n",
       "</div>"
      ],
      "text/plain": [
       "Empty DataFrame\n",
       "Columns: [target, sourceGender, targetGender]\n",
       "Index: []"
      ]
     },
     "execution_count": 88,
     "metadata": {},
     "output_type": "execute_result"
    }
   ],
   "source": [
    "g.count()"
   ]
  },
  {
   "cell_type": "code",
   "execution_count": 118,
   "metadata": {
    "collapsed": false
   },
   "outputs": [],
   "source": [
    "g=df2.where(df2['sourceGender']=='m').groupby('source')"
   ]
  },
  {
   "cell_type": "code",
   "execution_count": 26,
   "metadata": {
    "collapsed": false
   },
   "outputs": [
    {
     "data": {
      "text/plain": [
       "26246"
      ]
     },
     "execution_count": 26,
     "metadata": {},
     "output_type": "execute_result"
    }
   ],
   "source": [
    "cur.execute('select source,count(*) from following group by source')"
   ]
  },
  {
   "cell_type": "code",
   "execution_count": 33,
   "metadata": {
    "collapsed": false
   },
   "outputs": [
    {
     "data": {
      "text/plain": [
       "u'seun'"
      ]
     },
     "execution_count": 33,
     "metadata": {},
     "output_type": "execute_result"
    }
   ],
   "source": [
    "df2.iterrows().next()[1].source"
   ]
  },
  {
   "cell_type": "markdown",
   "metadata": {},
   "source": [
    "###### Write out graph for D3"
   ]
  },
  {
   "cell_type": "code",
   "execution_count": 37,
   "metadata": {
    "collapsed": false
   },
   "outputs": [],
   "source": [
    "out={}\n",
    "out['directed']=True\n",
    "out['multigraph']=False\n",
    "out['nodes']=[{\"id\":r[0],\"degree\":r[1]} for r in cur]\n",
    "out['links']=[{\"source\":r[1].source,\"target\":r[1].target,\"weight\":1} for r in df2.iterrows()]\n",
    "with open('follow_graph.txt','w') as outFile:\n",
    "    outFile.write(json.dumps(out)+'\\n')"
   ]
  },
  {
   "cell_type": "code",
   "execution_count": null,
   "metadata": {
    "collapsed": false
   },
   "outputs": [],
   "source": [
    "cur.execute(\"select a.source,a.target,b.gender sourceGender,c.gender targetGender from following a inner join users b on a.source=b.userName inner join users c on a.target=c.userName\")"
   ]
  },
  {
   "cell_type": "code",
   "execution_count": null,
   "metadata": {
    "collapsed": false
   },
   "outputs": [],
   "source": [
    "followers=collections.defaultdict((int,int))"
   ]
  },
  {
   "cell_type": "code",
   "execution_count": 4,
   "metadata": {
    "collapsed": false
   },
   "outputs": [
    {
     "name": "stdout",
     "output_type": "stream",
     "text": [
      "CPU times: user 556 ms, sys: 38.8 ms, total: 595 ms\n",
      "Wall time: 23min 27s\n"
     ]
    }
   ],
   "source": [
    "%time maleDf=pd.read_sql_query(\"select a.source,b.gender,count(*) from following a inner join users b on a.source=b.userName where b.gender like '%m%' group by a.source;\",conn)"
   ]
  },
  {
   "cell_type": "code",
   "execution_count": 5,
   "metadata": {
    "collapsed": false
   },
   "outputs": [
    {
     "name": "stdout",
     "output_type": "stream",
     "text": [
      "CPU times: user 128 ms, sys: 5.08 ms, total: 133 ms\n",
      "Wall time: 5min 23s\n"
     ]
    }
   ],
   "source": [
    "%time femaleDf=pd.read_sql_query(\"select a.source,b.gender,count(*) from following a inner join users b on a.source=b.userName where b.gender like '%f%' group by a.source;\",conn)"
   ]
  },
  {
   "cell_type": "markdown",
   "metadata": {},
   "source": [
    "###### Distribution of posts per user both active and inactive (over all time)"
   ]
  },
  {
   "cell_type": "code",
   "execution_count": 6,
   "metadata": {
    "collapsed": false
   },
   "outputs": [],
   "source": [
    "nPostsDf=pd.read_sql_query(\"select user,count(*) from posts2 where user <> '__MISSING__' group by user;\",conn)\n",
    "nPostsDf.columns=['user','counts']"
   ]
  },
  {
   "cell_type": "code",
   "execution_count": 53,
   "metadata": {
    "collapsed": false
   },
   "outputs": [
    {
     "data": {
      "image/png": "[encoded data removed]",
      "text/plain": [
       "<matplotlib.figure.Figure at 0x7ff6074b7390>"
      ]
     },
     "metadata": {},
     "output_type": "display_data"
    }
   ],
   "source": [
    "plt.hist(nPostsDf.counts,log=True,histtype=\"stepfilled\",alpha=0.7,bins=40)\n",
    "plt.xlabel('Number of User Posts')\n",
    "#plt.ylim(1,10**5)\n",
    "plt.savefig('user_post_dist.png',dpi=200)"
   ]
  },
  {
   "cell_type": "markdown",
   "metadata": {},
   "source": [
    "###### Distribution of comments per user"
   ]
  },
  {
   "cell_type": "code",
   "execution_count": 19,
   "metadata": {
    "collapsed": false
   },
   "outputs": [],
   "source": [
    "nCommentsDf=pd.read_sql_query(\"select user,count(*) from comments where user <> '__MISSING__' group by user;\",conn)\n",
    "nCommentsDf.columns=['user','counts']"
   ]
  },
  {
   "cell_type": "code",
   "execution_count": 26,
   "metadata": {
    "collapsed": false
   },
   "outputs": [
    {
     "data": {
      "image/png": "[encoded data removed]",
      "text/plain": [
       "<matplotlib.figure.Figure at 0x7fe85be706d0>"
      ]
     },
     "metadata": {},
     "output_type": "display_data"
    }
   ],
   "source": [
    "plt.hist(nCommentsDf.counts,log=True,histtype=\"stepfilled\",alpha=0.7,bins=40)\n",
    "plt.xlabel('Number of User Comments')\n",
    "plt.ylim(1,10**5)\n",
    "plt.xticks([i*1500 for i in range(6)])\n",
    "plt.savefig('user_comment_dist.png',dpi=200)"
   ]
  },
  {
   "cell_type": "markdown",
   "metadata": {},
   "source": [
    "###### Update DB for number of posts per user (in time range)"
   ]
  },
  {
   "cell_type": "code",
   "execution_count": 6,
   "metadata": {
    "collapsed": false
   },
   "outputs": [],
   "source": [
    "for r in nPostsDf.iterrows():\n",
    "    cur.execute(\"update users set postsInDb=\"+str(r[1].counts)+\" where userName='\"+r[1].user+\"'\")\n",
    "    cur.connection.commit()"
   ]
  },
  {
   "cell_type": "markdown",
   "metadata": {},
   "source": [
    "###### Ditribution os posts and comments over time period for users"
   ]
  },
  {
   "cell_type": "code",
   "execution_count": 7,
   "metadata": {
    "collapsed": false
   },
   "outputs": [
    {
     "name": "stdout",
     "output_type": "stream",
     "text": [
      "CPU times: user 4.66 s, sys: 0 ns, total: 4.66 s\n",
      "Wall time: 4.57 s\n"
     ]
    }
   ],
   "source": [
    "%time userActivity=pd.read_sql_query(\"select userName,comments,postsInDb from users where userName <> '__missing__'\",conn)"
   ]
  },
  {
   "cell_type": "code",
   "execution_count": 10,
   "metadata": {
    "collapsed": false
   },
   "outputs": [],
   "source": [
    "userActivity.columns=['user','comments','posts']"
   ]
  },
  {
   "cell_type": "code",
   "execution_count": 11,
   "metadata": {
    "collapsed": false
   },
   "outputs": [],
   "source": [
    "userActivityNonZero=userActivity[(userActivity.comments>0)&(userActivity.posts>1)&(userActivity.posts<100000)]"
   ]
  },
  {
   "cell_type": "code",
   "execution_count": 12,
   "metadata": {
    "collapsed": false
   },
   "outputs": [
    {
     "data": {
      "text/html": [
       "<div style=\"max-height:1000px;max-width:1500px;overflow:auto;\">\n",
       "<table border=\"1\" class=\"dataframe\">\n",
       "  <thead>\n",
       "    <tr style=\"text-align: right;\">\n",
       "      <th></th>\n",
       "      <th>user</th>\n",
       "      <th>comments</th>\n",
       "      <th>posts</th>\n",
       "    </tr>\n",
       "  </thead>\n",
       "  <tbody>\n",
       "    <tr>\n",
       "      <th>0</th>\n",
       "      <td>     lildonne</td>\n",
       "      <td>   12</td>\n",
       "      <td>  4</td>\n",
       "    </tr>\n",
       "    <tr>\n",
       "      <th>1</th>\n",
       "      <td>       dejt4u</td>\n",
       "      <td>  657</td>\n",
       "      <td> 15</td>\n",
       "    </tr>\n",
       "    <tr>\n",
       "      <th>2</th>\n",
       "      <td>    macpetrus</td>\n",
       "      <td>  450</td>\n",
       "      <td>  1</td>\n",
       "    </tr>\n",
       "    <tr>\n",
       "      <th>3</th>\n",
       "      <td>     disloman</td>\n",
       "      <td>  590</td>\n",
       "      <td>  7</td>\n",
       "    </tr>\n",
       "    <tr>\n",
       "      <th>4</th>\n",
       "      <td> idrismusty97</td>\n",
       "      <td> 1686</td>\n",
       "      <td> 27</td>\n",
       "    </tr>\n",
       "    <tr>\n",
       "      <th>5</th>\n",
       "      <td>       elueme</td>\n",
       "      <td>    0</td>\n",
       "      <td>  0</td>\n",
       "    </tr>\n",
       "    <tr>\n",
       "      <th>6</th>\n",
       "      <td>     chimanet</td>\n",
       "      <td>   13</td>\n",
       "      <td>  0</td>\n",
       "    </tr>\n",
       "    <tr>\n",
       "      <th>7</th>\n",
       "      <td>         seun</td>\n",
       "      <td> 1009</td>\n",
       "      <td> 42</td>\n",
       "    </tr>\n",
       "    <tr>\n",
       "      <th>8</th>\n",
       "      <td>    codehouse</td>\n",
       "      <td>  223</td>\n",
       "      <td>  9</td>\n",
       "    </tr>\n",
       "    <tr>\n",
       "      <th>9</th>\n",
       "      <td>         slye</td>\n",
       "      <td>   95</td>\n",
       "      <td>  5</td>\n",
       "    </tr>\n",
       "  </tbody>\n",
       "</table>\n",
       "</div>"
      ],
      "text/plain": [
       "           user  comments  posts\n",
       "0      lildonne        12      4\n",
       "1        dejt4u       657     15\n",
       "2     macpetrus       450      1\n",
       "3      disloman       590      7\n",
       "4  idrismusty97      1686     27\n",
       "5        elueme         0      0\n",
       "6      chimanet        13      0\n",
       "7          seun      1009     42\n",
       "8     codehouse       223      9\n",
       "9          slye        95      5"
      ]
     },
     "execution_count": 12,
     "metadata": {},
     "output_type": "execute_result"
    }
   ],
   "source": [
    "userActivity[0:10]"
   ]
  },
  {
   "cell_type": "code",
   "execution_count": 14,
   "metadata": {
    "collapsed": false
   },
   "outputs": [
    {
     "data": {
      "text/plain": [
       "<matplotlib.axes._subplots.AxesSubplot at 0x7f8a18e83ed0>"
      ]
     },
     "execution_count": 14,
     "metadata": {},
     "output_type": "execute_result"
    },
    {
     "data": {
      "image/png": "[encoded data removed]",
      "text/plain": [
       "<matplotlib.figure.Figure at 0x7f8a18fe17d0>"
      ]
     },
     "metadata": {},
     "output_type": "display_data"
    }
   ],
   "source": [
    "sns.distplot(userActivityNonZero[0:].posts,hist_kws={'log':True},kde=False)"
   ]
  },
  {
   "cell_type": "code",
   "execution_count": 16,
   "metadata": {
    "collapsed": false
   },
   "outputs": [
    {
     "data": {
      "image/png": "[encoded data removed]",
      "text/plain": [
       "<matplotlib.figure.Figure at 0x7f8a15b11350>"
      ]
     },
     "metadata": {},
     "output_type": "display_data"
    }
   ],
   "source": [
    "j=sns.jointplot(userActivityNonZero[0:3000].posts,userActivityNonZero[0:3000].comments,kind='hex',\n",
    "marginal_kws={'hist_kws':{'log':True}},\n",
    "stat_func=None,joint_kws={'yscale':'log','xscale':'log','bins':'log','gridsize':20}\n",
    ")\n",
    "plt.savefig('user_comment_post_dist.png',dpi=200)"
   ]
  },
  {
   "cell_type": "code",
   "execution_count": null,
   "metadata": {
    "collapsed": false
   },
   "outputs": [],
   "source": [
    "sns.jointplot(userActivityNonZero[0:3000].posts,userActivityNonZero[0:3000].comments,kind='hex',\n",
    "joint_kws={'bins':'log','xscale':'log','yscale':'log'},stat_func=None,\n",
    "xlim=(1,1000000),marginal_kws={'hist_kws': {'gridsize':10}})"
   ]
  },
  {
   "cell_type": "code",
   "execution_count": 4,
   "metadata": {
    "collapsed": false
   },
   "outputs": [
    {
     "name": "stdout",
     "output_type": "stream",
     "text": [
      "CPU times: user 1.58 s, sys: 12.6 ms, total: 1.59 s\n",
      "Wall time: 1.58 s\n"
     ]
    }
   ],
   "source": [
    "%time signupActivity=pd.read_sql_query(\"select registered from users where userName <> '__missing__'\",conn)"
   ]
  },
  {
   "cell_type": "code",
   "execution_count": 5,
   "metadata": {
    "collapsed": false
   },
   "outputs": [],
   "source": [
    "signupActivity.index=pd.to_datetime(signupActivity['registered'])"
   ]
  },
  {
   "cell_type": "code",
   "execution_count": 6,
   "metadata": {
    "collapsed": false
   },
   "outputs": [],
   "source": [
    "def mjrFormatter(x, pos):\n",
    "    return '%.2f%%'.format(x)"
   ]
  },
  {
   "cell_type": "code",
   "execution_count": 14,
   "metadata": {
    "collapsed": false
   },
   "outputs": [
    {
     "data": {
      "image/png": "[encoded data removed]",
      "text/plain": [
       "<matplotlib.figure.Figure at 0x7fa630274850>"
      ]
     },
     "metadata": {},
     "output_type": "display_data"
    }
   ],
   "source": [
    "import matplotlib as mpl\n",
    "import datetime\n",
    "fig,ax=plt.subplots()\n",
    "signupActivity.resample('M',how='count')['registered'].plot()\n",
    "#ax.yaxis.set_major_formatter(mpl.ticker.FormatStrFormatter('%.2e'))\n",
    "#plt.xlim(datetime.datetime(2009,1,1),datetime.datetime(2015,1,1))\n",
    "plt.xlabel('Date')\n",
    "plt.ylabel('Monthly User Registration')\n",
    "plt.tight_layout()\n",
    "plt.savefig('user_registrations_all.png',dpi=200)"
   ]
  },
  {
   "cell_type": "markdown",
   "metadata": {},
   "source": [
    "###Compare Sign up of Male Users"
   ]
  },
  {
   "cell_type": "code",
   "execution_count": 120,
   "metadata": {
    "collapsed": false
   },
   "outputs": [],
   "source": [
    "maleRegistered=dfComb[dfComb['gender']==u' m']['registered']\n",
    "maleRegistered.index=maleRegistered.apply(pd.to_datetime)\n",
    "maleRegisteredDf=pd.DataFrame(index=maleRegistered.index,data={'dummy':1})"
   ]
  },
  {
   "cell_type": "code",
   "execution_count": 122,
   "metadata": {
    "collapsed": true
   },
   "outputs": [],
   "source": [
    "femaleRegistered=dfComb[dfComb['gender']==u' f']['registered']\n",
    "femaleRegistered.index=femaleRegistered.apply(pd.to_datetime)\n",
    "femaleRegisteredDf=pd.DataFrame(index=femaleRegistered.index,data={'dummy':1})"
   ]
  },
  {
   "cell_type": "code",
   "execution_count": 145,
   "metadata": {
    "collapsed": false
   },
   "outputs": [
    {
     "data": {
      "text/plain": [
       "(261,)"
      ]
     },
     "execution_count": 145,
     "metadata": {},
     "output_type": "execute_result"
    }
   ],
   "source": [
    "maleRegisteredDf.resample('2w',how='count')['dummy'].shape"
   ]
  },
  {
   "cell_type": "code",
   "execution_count": 153,
   "metadata": {
    "collapsed": false
   },
   "outputs": [
    {
     "data": {
      "text/plain": [
       "Timestamp('2014-01-05 00:00:00', offset='2W-SUN')"
      ]
     },
     "execution_count": 153,
     "metadata": {},
     "output_type": "execute_result"
    }
   ],
   "source": [
    "maleRegisteredDf.resample('2w',how='count').index[230]"
   ]
  },
  {
   "cell_type": "code",
   "execution_count": 160,
   "metadata": {
    "collapsed": false
   },
   "outputs": [
    {
     "data": {
      "image/png": "[encoded data removed]",
      "text/plain": [
       "<matplotlib.figure.Figure at 0x7fdb7f07c850>"
      ]
     },
     "metadata": {},
     "output_type": "display_data"
    }
   ],
   "source": [
    "maleRegisteredDf.resample('2w',how='count')['dummy'].plot(label='t')\n",
    "femaleRegisteredDf.resample('2w',how='count')['dummy'].plot()\n",
    "plt.xlim(datetime.datetime(2010,1,1),datetime.datetime(2015,1,1))\n",
    "plt.legend(['Male','Female'],loc='upper left')\n",
    "plt.xlabel('')\n",
    "plt.ylabel('New Registrations per 2W')\n",
    "plt.axvline(maleRegisteredDf.resample('2w',how='count').index[230],color='k',linestyle='--')\n",
    "plt.tight_layout()\n",
    "plt.savefig('registrations_time_series_gender.png',dpi=200)"
   ]
  },
  {
   "cell_type": "code",
   "execution_count": 118,
   "metadata": {
    "collapsed": false
   },
   "outputs": [
    {
     "data": {
      "text/plain": [
       "datetime.datetime(2005, 1, 1, 0, 0)"
      ]
     },
     "execution_count": 118,
     "metadata": {},
     "output_type": "execute_result"
    }
   ],
   "source": [
    "datetime.datetime(2005,1,1)"
   ]
  },
  {
   "cell_type": "code",
   "execution_count": 161,
   "metadata": {
    "collapsed": false
   },
   "outputs": [
    {
     "data": {
      "text/plain": [
       "(0.96090897908729089, 3.7721124755865593e-129)"
      ]
     },
     "execution_count": 161,
     "metadata": {},
     "output_type": "execute_result"
    }
   ],
   "source": [
    "pearsonr(maleRegisteredDf.resample('2w',how='count')['dummy'][0:230],femaleRegisteredDf.resample('2w',how='count')['dummy'][0:230])"
   ]
  },
  {
   "cell_type": "code",
   "execution_count": null,
   "metadata": {
    "collapsed": true
   },
   "outputs": [],
   "source": []
  }
 ],
 "metadata": {
  "kernelspec": {
   "display_name": "Python 2",
   "language": "python",
   "name": "python2"
  },
  "language_info": {
   "codemirror_mode": {
    "name": "ipython",
    "version": 2
   },
   "file_extension": ".py",
   "mimetype": "text/x-python",
   "name": "python",
   "nbconvert_exporter": "python",
   "pygments_lexer": "ipython2",
   "version": "2.7.9"
  }
 },
 "nbformat": 4,
 "nbformat_minor": 0
}
