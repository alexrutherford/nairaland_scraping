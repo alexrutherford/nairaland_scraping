{
 "cells": [
  {
   "cell_type": "code",
   "execution_count": 1,
   "metadata": {
    "collapsed": true
   },
   "outputs": [],
   "source": [
    "import pymysql,sys,json\n",
    "import seaborn as sns\n",
    "import traceback\n",
    "import cPickle as pickle\n",
    "import collections\n",
    "import numpy as np\n",
    "import matplotlib.pyplot as plt\n",
    "%matplotlib inline\n",
    "import pandas as pd\n",
    "from sklearn.decomposition import PCA\n",
    "import sklearn"
   ]
  },
  {
   "cell_type": "code",
   "execution_count": 2,
   "metadata": {
    "collapsed": true
   },
   "outputs": [],
   "source": [
    "conn = pymysql.connect(host='localhost',user='root',passwd='pulsetini', db='nairaland',charset='utf8')\n",
    "cur = conn.cursor()\n",
    "cur2 = conn.cursor()"
   ]
  },
  {
   "cell_type": "markdown",
   "metadata": {},
   "source": [
    "###Get usernames and genders"
   ]
  },
  {
   "cell_type": "code",
   "execution_count": 3,
   "metadata": {
    "collapsed": false
   },
   "outputs": [
    {
     "name": "stdout",
     "output_type": "stream",
     "text": [
      "CPU times: user 2.69 s, sys: 50.8 ms, total: 2.74 s\n",
      "Wall time: 2.87 s\n"
     ]
    }
   ],
   "source": [
    "%time usersDf=pd.read_sql_query('select userName,gender,posts from users',conn)"
   ]
  },
  {
   "cell_type": "markdown",
   "metadata": {},
   "source": [
    "###Get posts: users and topics"
   ]
  },
  {
   "cell_type": "code",
   "execution_count": 4,
   "metadata": {
    "collapsed": false
   },
   "outputs": [
    {
     "name": "stdout",
     "output_type": "stream",
     "text": [
      "CPU times: user 2.67 s, sys: 23.1 ms, total: 2.69 s\n",
      "Wall time: 8.77 s\n"
     ]
    }
   ],
   "source": [
    "%time postsDf=pd.read_sql_query('select user,topic,count(*) from posts3 group by topic,user',conn)"
   ]
  },
  {
   "cell_type": "markdown",
   "metadata": {},
   "source": [
    "###Make usernames lower case"
   ]
  },
  {
   "cell_type": "code",
   "execution_count": 5,
   "metadata": {
    "collapsed": true
   },
   "outputs": [],
   "source": [
    "postsDf['user']=postsDf['user'].apply(unicode.lower)"
   ]
  },
  {
   "cell_type": "code",
   "execution_count": 6,
   "metadata": {
    "collapsed": false
   },
   "outputs": [
    {
     "data": {
      "text/html": [
       "<div>\n",
       "<table border=\"1\" class=\"dataframe\">\n",
       "  <thead>\n",
       "    <tr style=\"text-align: right;\">\n",
       "      <th></th>\n",
       "      <th>user</th>\n",
       "      <th>topic</th>\n",
       "      <th>count(*)</th>\n",
       "    </tr>\n",
       "  </thead>\n",
       "  <tbody>\n",
       "    <tr>\n",
       "      <th>0</th>\n",
       "      <td>0393</td>\n",
       "      <td>Adverts</td>\n",
       "      <td>1</td>\n",
       "    </tr>\n",
       "    <tr>\n",
       "      <th>1</th>\n",
       "      <td>100ksalescom</td>\n",
       "      <td>Adverts</td>\n",
       "      <td>3</td>\n",
       "    </tr>\n",
       "    <tr>\n",
       "      <th>2</th>\n",
       "      <td>1nigerian</td>\n",
       "      <td>Adverts</td>\n",
       "      <td>1</td>\n",
       "    </tr>\n",
       "    <tr>\n",
       "      <th>3</th>\n",
       "      <td>247hostwahala</td>\n",
       "      <td>Adverts</td>\n",
       "      <td>1</td>\n",
       "    </tr>\n",
       "    <tr>\n",
       "      <th>4</th>\n",
       "      <td>2marto</td>\n",
       "      <td>Adverts</td>\n",
       "      <td>1</td>\n",
       "    </tr>\n",
       "  </tbody>\n",
       "</table>\n",
       "</div>"
      ],
      "text/plain": [
       "            user    topic  count(*)\n",
       "0           0393  Adverts         1\n",
       "1   100ksalescom  Adverts         3\n",
       "2      1nigerian  Adverts         1\n",
       "3  247hostwahala  Adverts         1\n",
       "4         2marto  Adverts         1"
      ]
     },
     "execution_count": 6,
     "metadata": {},
     "output_type": "execute_result"
    }
   ],
   "source": [
    "postsDf.head()"
   ]
  },
  {
   "cell_type": "code",
   "execution_count": 7,
   "metadata": {
    "collapsed": false
   },
   "outputs": [
    {
     "data": {
      "text/html": [
       "<div>\n",
       "<table border=\"1\" class=\"dataframe\">\n",
       "  <thead>\n",
       "    <tr style=\"text-align: right;\">\n",
       "      <th></th>\n",
       "      <th>userName</th>\n",
       "      <th>gender</th>\n",
       "      <th>posts</th>\n",
       "    </tr>\n",
       "  </thead>\n",
       "  <tbody>\n",
       "    <tr>\n",
       "      <th>0</th>\n",
       "      <td>lildonne</td>\n",
       "      <td>m</td>\n",
       "      <td>71</td>\n",
       "    </tr>\n",
       "    <tr>\n",
       "      <th>1</th>\n",
       "      <td>dejt4u</td>\n",
       "      <td>m</td>\n",
       "      <td>4</td>\n",
       "    </tr>\n",
       "    <tr>\n",
       "      <th>2</th>\n",
       "      <td>macpetrus</td>\n",
       "      <td>m</td>\n",
       "      <td>567</td>\n",
       "    </tr>\n",
       "    <tr>\n",
       "      <th>3</th>\n",
       "      <td>disloman</td>\n",
       "      <td>m</td>\n",
       "      <td>943</td>\n",
       "    </tr>\n",
       "    <tr>\n",
       "      <th>4</th>\n",
       "      <td>idrismusty97</td>\n",
       "      <td>m</td>\n",
       "      <td>97</td>\n",
       "    </tr>\n",
       "  </tbody>\n",
       "</table>\n",
       "</div>"
      ],
      "text/plain": [
       "       userName gender  posts\n",
       "0      lildonne      m     71\n",
       "1        dejt4u      m      4\n",
       "2     macpetrus      m    567\n",
       "3      disloman      m    943\n",
       "4  idrismusty97      m     97"
      ]
     },
     "execution_count": 7,
     "metadata": {},
     "output_type": "execute_result"
    }
   ],
   "source": [
    "usersDf.head()"
   ]
  },
  {
   "cell_type": "code",
   "execution_count": 8,
   "metadata": {
    "collapsed": true
   },
   "outputs": [],
   "source": [
    "usersDf['user']=usersDf['userName']\n",
    "del usersDf['userName']"
   ]
  },
  {
   "cell_type": "markdown",
   "metadata": {},
   "source": [
    "###Merge posts and users based on username"
   ]
  },
  {
   "cell_type": "code",
   "execution_count": 9,
   "metadata": {
    "collapsed": true
   },
   "outputs": [],
   "source": [
    "joined=pd.merge(postsDf,usersDf,on='user')"
   ]
  },
  {
   "cell_type": "code",
   "execution_count": 10,
   "metadata": {
    "collapsed": false
   },
   "outputs": [
    {
     "data": {
      "text/plain": [
       "(88138, 5)"
      ]
     },
     "execution_count": 10,
     "metadata": {},
     "output_type": "execute_result"
    }
   ],
   "source": [
    "joined.shape"
   ]
  },
  {
   "cell_type": "code",
   "execution_count": 11,
   "metadata": {
    "collapsed": false
   },
   "outputs": [
    {
     "data": {
      "text/html": [
       "<div>\n",
       "<table border=\"1\" class=\"dataframe\">\n",
       "  <thead>\n",
       "    <tr style=\"text-align: right;\">\n",
       "      <th></th>\n",
       "      <th>gender</th>\n",
       "      <th>posts</th>\n",
       "      <th>user</th>\n",
       "    </tr>\n",
       "  </thead>\n",
       "  <tbody>\n",
       "    <tr>\n",
       "      <th>0</th>\n",
       "      <td>m</td>\n",
       "      <td>71</td>\n",
       "      <td>lildonne</td>\n",
       "    </tr>\n",
       "  </tbody>\n",
       "</table>\n",
       "</div>"
      ],
      "text/plain": [
       "  gender  posts      user\n",
       "0      m     71  lildonne"
      ]
     },
     "execution_count": 11,
     "metadata": {},
     "output_type": "execute_result"
    }
   ],
   "source": [
    "usersDf[usersDf['user']=='lildonne']"
   ]
  },
  {
   "cell_type": "code",
   "execution_count": 12,
   "metadata": {
    "collapsed": false
   },
   "outputs": [
    {
     "data": {
      "text/html": [
       "<div>\n",
       "<table border=\"1\" class=\"dataframe\">\n",
       "  <thead>\n",
       "    <tr style=\"text-align: right;\">\n",
       "      <th></th>\n",
       "      <th>user</th>\n",
       "      <th>topic</th>\n",
       "      <th>count(*)</th>\n",
       "    </tr>\n",
       "  </thead>\n",
       "  <tbody>\n",
       "    <tr>\n",
       "      <th>10202</th>\n",
       "      <td>lildonne</td>\n",
       "      <td>Car Talk</td>\n",
       "      <td>1</td>\n",
       "    </tr>\n",
       "    <tr>\n",
       "      <th>15974</th>\n",
       "      <td>lildonne</td>\n",
       "      <td>Celebrity Crimes</td>\n",
       "      <td>1</td>\n",
       "    </tr>\n",
       "    <tr>\n",
       "      <th>21717</th>\n",
       "      <td>lildonne</td>\n",
       "      <td>Education</td>\n",
       "      <td>1</td>\n",
       "    </tr>\n",
       "    <tr>\n",
       "      <th>60959</th>\n",
       "      <td>lildonne</td>\n",
       "      <td>Politics</td>\n",
       "      <td>2</td>\n",
       "    </tr>\n",
       "  </tbody>\n",
       "</table>\n",
       "</div>"
      ],
      "text/plain": [
       "           user             topic  count(*)\n",
       "10202  lildonne          Car Talk         1\n",
       "15974  lildonne  Celebrity Crimes         1\n",
       "21717  lildonne         Education         1\n",
       "60959  lildonne          Politics         2"
      ]
     },
     "execution_count": 12,
     "metadata": {},
     "output_type": "execute_result"
    }
   ],
   "source": [
    "postsDf[postsDf['user']=='lildonne']"
   ]
  },
  {
   "cell_type": "markdown",
   "metadata": {},
   "source": [
    "###Get male and female users"
   ]
  },
  {
   "cell_type": "code",
   "execution_count": 13,
   "metadata": {
    "collapsed": false
   },
   "outputs": [],
   "source": [
    "maleJoined=joined[joined['gender']==u' m']\n",
    "femaleJoined=joined[joined['gender']==u' f']"
   ]
  },
  {
   "cell_type": "markdown",
   "metadata": {},
   "source": [
    "####Male and female users are unbalanced"
   ]
  },
  {
   "cell_type": "code",
   "execution_count": 14,
   "metadata": {
    "collapsed": false
   },
   "outputs": [
    {
     "name": "stdout",
     "output_type": "stream",
     "text": [
      "(42400, 5)\n",
      "(6261, 5)\n",
      "6.77\n"
     ]
    }
   ],
   "source": [
    "print maleJoined.shape\n",
    "print femaleJoined.shape\n",
    "print '%1.2f' % (maleJoined.shape[0]/float(femaleJoined.shape[0]))"
   ]
  },
  {
   "cell_type": "code",
   "execution_count": 15,
   "metadata": {
    "collapsed": false
   },
   "outputs": [],
   "source": [
    "#maleMatrix=pd.pivot_table(~maleJoined[maleJoined['user'].isin(['_MISSING_'])],index=['user'],columns=['topic'],fill_value=0)['posts']\n",
    "maleMatrix=pd.pivot_table(maleJoined,index=['user'],columns=['topic'],fill_value=0)['posts']\n",
    "femaleMatrix=pd.pivot_table(femaleJoined,index=['user'],columns=['topic'],fill_value=0)['posts']"
   ]
  },
  {
   "cell_type": "code",
   "execution_count": 16,
   "metadata": {
    "collapsed": false
   },
   "outputs": [
    {
     "data": {
      "text/html": [
       "<div>\n",
       "<table border=\"1\" class=\"dataframe\">\n",
       "  <thead>\n",
       "    <tr style=\"text-align: right;\">\n",
       "      <th>topic</th>\n",
       "      <th>Adverts</th>\n",
       "      <th>Agriculture</th>\n",
       "      <th>Art, Graphics &amp; Video</th>\n",
       "      <th>Autos</th>\n",
       "      <th>Business</th>\n",
       "      <th>Business To Business</th>\n",
       "      <th>Car Talk</th>\n",
       "      <th>Career</th>\n",
       "      <th>Celebrities</th>\n",
       "      <th>Celebrity Crimes</th>\n",
       "      <th>...</th>\n",
       "      <th>Software/Programmer Market</th>\n",
       "      <th>Sports</th>\n",
       "      <th>TV/Movies</th>\n",
       "      <th>Technology Market</th>\n",
       "      <th>Travel</th>\n",
       "      <th>Travel Ads</th>\n",
       "      <th>Video Games And Gadgets For Sale</th>\n",
       "      <th>Web Market</th>\n",
       "      <th>Webmasters</th>\n",
       "      <th>up Zone</th>\n",
       "    </tr>\n",
       "    <tr>\n",
       "      <th>user</th>\n",
       "      <th></th>\n",
       "      <th></th>\n",
       "      <th></th>\n",
       "      <th></th>\n",
       "      <th></th>\n",
       "      <th></th>\n",
       "      <th></th>\n",
       "      <th></th>\n",
       "      <th></th>\n",
       "      <th></th>\n",
       "      <th></th>\n",
       "      <th></th>\n",
       "      <th></th>\n",
       "      <th></th>\n",
       "      <th></th>\n",
       "      <th></th>\n",
       "      <th></th>\n",
       "      <th></th>\n",
       "      <th></th>\n",
       "      <th></th>\n",
       "      <th></th>\n",
       "    </tr>\n",
       "  </thead>\n",
       "  <tbody>\n",
       "    <tr>\n",
       "      <th>01emek</th>\n",
       "      <td>0</td>\n",
       "      <td>0</td>\n",
       "      <td>0</td>\n",
       "      <td>0</td>\n",
       "      <td>0</td>\n",
       "      <td>0</td>\n",
       "      <td>0</td>\n",
       "      <td>0</td>\n",
       "      <td>0</td>\n",
       "      <td>0</td>\n",
       "      <td>...</td>\n",
       "      <td>0</td>\n",
       "      <td>0</td>\n",
       "      <td>0</td>\n",
       "      <td>0</td>\n",
       "      <td>0</td>\n",
       "      <td>0</td>\n",
       "      <td>0</td>\n",
       "      <td>0</td>\n",
       "      <td>0</td>\n",
       "      <td>0</td>\n",
       "    </tr>\n",
       "    <tr>\n",
       "      <th>01karma</th>\n",
       "      <td>0</td>\n",
       "      <td>0</td>\n",
       "      <td>0</td>\n",
       "      <td>0</td>\n",
       "      <td>0</td>\n",
       "      <td>0</td>\n",
       "      <td>0</td>\n",
       "      <td>0</td>\n",
       "      <td>0</td>\n",
       "      <td>0</td>\n",
       "      <td>...</td>\n",
       "      <td>0</td>\n",
       "      <td>0</td>\n",
       "      <td>0</td>\n",
       "      <td>0</td>\n",
       "      <td>0</td>\n",
       "      <td>0</td>\n",
       "      <td>0</td>\n",
       "      <td>0</td>\n",
       "      <td>0</td>\n",
       "      <td>0</td>\n",
       "    </tr>\n",
       "    <tr>\n",
       "      <th>04mike</th>\n",
       "      <td>0</td>\n",
       "      <td>0</td>\n",
       "      <td>0</td>\n",
       "      <td>0</td>\n",
       "      <td>0</td>\n",
       "      <td>0</td>\n",
       "      <td>0</td>\n",
       "      <td>0</td>\n",
       "      <td>0</td>\n",
       "      <td>0</td>\n",
       "      <td>...</td>\n",
       "      <td>0</td>\n",
       "      <td>0</td>\n",
       "      <td>0</td>\n",
       "      <td>0</td>\n",
       "      <td>0</td>\n",
       "      <td>0</td>\n",
       "      <td>0</td>\n",
       "      <td>0</td>\n",
       "      <td>4</td>\n",
       "      <td>0</td>\n",
       "    </tr>\n",
       "    <tr>\n",
       "      <th>080web</th>\n",
       "      <td>0</td>\n",
       "      <td>0</td>\n",
       "      <td>0</td>\n",
       "      <td>0</td>\n",
       "      <td>0</td>\n",
       "      <td>0</td>\n",
       "      <td>0</td>\n",
       "      <td>0</td>\n",
       "      <td>0</td>\n",
       "      <td>0</td>\n",
       "      <td>...</td>\n",
       "      <td>0</td>\n",
       "      <td>0</td>\n",
       "      <td>0</td>\n",
       "      <td>0</td>\n",
       "      <td>0</td>\n",
       "      <td>0</td>\n",
       "      <td>0</td>\n",
       "      <td>0</td>\n",
       "      <td>80</td>\n",
       "      <td>0</td>\n",
       "    </tr>\n",
       "    <tr>\n",
       "      <th>0955eb027</th>\n",
       "      <td>0</td>\n",
       "      <td>0</td>\n",
       "      <td>0</td>\n",
       "      <td>0</td>\n",
       "      <td>0</td>\n",
       "      <td>0</td>\n",
       "      <td>0</td>\n",
       "      <td>0</td>\n",
       "      <td>0</td>\n",
       "      <td>0</td>\n",
       "      <td>...</td>\n",
       "      <td>0</td>\n",
       "      <td>0</td>\n",
       "      <td>0</td>\n",
       "      <td>0</td>\n",
       "      <td>0</td>\n",
       "      <td>0</td>\n",
       "      <td>0</td>\n",
       "      <td>0</td>\n",
       "      <td>0</td>\n",
       "      <td>0</td>\n",
       "    </tr>\n",
       "  </tbody>\n",
       "</table>\n",
       "<p>5 rows × 62 columns</p>\n",
       "</div>"
      ],
      "text/plain": [
       "topic      Adverts  Agriculture  Art, Graphics & Video  Autos  Business  \\\n",
       "user                                                                      \n",
       "01emek           0            0                      0      0         0   \n",
       "01karma          0            0                      0      0         0   \n",
       "04mike           0            0                      0      0         0   \n",
       "080web           0            0                      0      0         0   \n",
       "0955eb027        0            0                      0      0         0   \n",
       "\n",
       "topic      Business To Business  Car Talk  Career  Celebrities  \\\n",
       "user                                                             \n",
       "01emek                        0         0       0            0   \n",
       "01karma                       0         0       0            0   \n",
       "04mike                        0         0       0            0   \n",
       "080web                        0         0       0            0   \n",
       "0955eb027                     0         0       0            0   \n",
       "\n",
       "topic      Celebrity Crimes   ...     Software/Programmer Market  Sports  \\\n",
       "user                          ...                                          \n",
       "01emek                    0   ...                              0       0   \n",
       "01karma                   0   ...                              0       0   \n",
       "04mike                    0   ...                              0       0   \n",
       "080web                    0   ...                              0       0   \n",
       "0955eb027                 0   ...                              0       0   \n",
       "\n",
       "topic      TV/Movies  Technology Market  Travel  Travel Ads  \\\n",
       "user                                                          \n",
       "01emek             0                  0       0           0   \n",
       "01karma            0                  0       0           0   \n",
       "04mike             0                  0       0           0   \n",
       "080web             0                  0       0           0   \n",
       "0955eb027          0                  0       0           0   \n",
       "\n",
       "topic      Video Games And Gadgets For Sale  Web Market  Webmasters  up Zone  \n",
       "user                                                                          \n",
       "01emek                                    0           0           0        0  \n",
       "01karma                                   0           0           0        0  \n",
       "04mike                                    0           0           4        0  \n",
       "080web                                    0           0          80        0  \n",
       "0955eb027                                 0           0           0        0  \n",
       "\n",
       "[5 rows x 62 columns]"
      ]
     },
     "execution_count": 16,
     "metadata": {},
     "output_type": "execute_result"
    }
   ],
   "source": [
    "maleMatrix.head()"
   ]
  },
  {
   "cell_type": "code",
   "execution_count": 17,
   "metadata": {
    "collapsed": false
   },
   "outputs": [
    {
     "data": {
      "text/html": [
       "<div>\n",
       "<table border=\"1\" class=\"dataframe\">\n",
       "  <thead>\n",
       "    <tr style=\"text-align: right;\">\n",
       "      <th>topic</th>\n",
       "      <th>Adverts</th>\n",
       "      <th>Agriculture</th>\n",
       "      <th>Art, Graphics &amp; Video</th>\n",
       "      <th>Autos</th>\n",
       "      <th>Business</th>\n",
       "      <th>Business To Business</th>\n",
       "      <th>Car Talk</th>\n",
       "      <th>Career</th>\n",
       "      <th>Celebrities</th>\n",
       "      <th>Celebrity Crimes</th>\n",
       "      <th>...</th>\n",
       "      <th>Sports</th>\n",
       "      <th>TV/Movies</th>\n",
       "      <th>Technology Market</th>\n",
       "      <th>Top Pages</th>\n",
       "      <th>Travel</th>\n",
       "      <th>Travel Ads</th>\n",
       "      <th>Video Games And Gadgets For Sale</th>\n",
       "      <th>Web Market</th>\n",
       "      <th>Webmasters</th>\n",
       "      <th>up Zone</th>\n",
       "    </tr>\n",
       "    <tr>\n",
       "      <th>user</th>\n",
       "      <th></th>\n",
       "      <th></th>\n",
       "      <th></th>\n",
       "      <th></th>\n",
       "      <th></th>\n",
       "      <th></th>\n",
       "      <th></th>\n",
       "      <th></th>\n",
       "      <th></th>\n",
       "      <th></th>\n",
       "      <th></th>\n",
       "      <th></th>\n",
       "      <th></th>\n",
       "      <th></th>\n",
       "      <th></th>\n",
       "      <th></th>\n",
       "      <th></th>\n",
       "      <th></th>\n",
       "      <th></th>\n",
       "      <th></th>\n",
       "      <th></th>\n",
       "    </tr>\n",
       "  </thead>\n",
       "  <tbody>\n",
       "    <tr>\n",
       "      <th>1mindchrisr</th>\n",
       "      <td>0</td>\n",
       "      <td>0</td>\n",
       "      <td>0</td>\n",
       "      <td>0</td>\n",
       "      <td>0</td>\n",
       "      <td>0</td>\n",
       "      <td>0</td>\n",
       "      <td>0</td>\n",
       "      <td>0</td>\n",
       "      <td>0</td>\n",
       "      <td>...</td>\n",
       "      <td>0</td>\n",
       "      <td>0</td>\n",
       "      <td>0</td>\n",
       "      <td>0</td>\n",
       "      <td>0</td>\n",
       "      <td>0</td>\n",
       "      <td>0</td>\n",
       "      <td>0</td>\n",
       "      <td>0</td>\n",
       "      <td>0</td>\n",
       "    </tr>\n",
       "    <tr>\n",
       "      <th>1ndidi2</th>\n",
       "      <td>0</td>\n",
       "      <td>0</td>\n",
       "      <td>0</td>\n",
       "      <td>0</td>\n",
       "      <td>0</td>\n",
       "      <td>0</td>\n",
       "      <td>0</td>\n",
       "      <td>0</td>\n",
       "      <td>0</td>\n",
       "      <td>0</td>\n",
       "      <td>...</td>\n",
       "      <td>0</td>\n",
       "      <td>0</td>\n",
       "      <td>0</td>\n",
       "      <td>0</td>\n",
       "      <td>0</td>\n",
       "      <td>0</td>\n",
       "      <td>0</td>\n",
       "      <td>0</td>\n",
       "      <td>0</td>\n",
       "      <td>0</td>\n",
       "    </tr>\n",
       "    <tr>\n",
       "      <th>222rayo</th>\n",
       "      <td>0</td>\n",
       "      <td>0</td>\n",
       "      <td>0</td>\n",
       "      <td>0</td>\n",
       "      <td>0</td>\n",
       "      <td>0</td>\n",
       "      <td>0</td>\n",
       "      <td>0</td>\n",
       "      <td>0</td>\n",
       "      <td>0</td>\n",
       "      <td>...</td>\n",
       "      <td>0</td>\n",
       "      <td>0</td>\n",
       "      <td>0</td>\n",
       "      <td>0</td>\n",
       "      <td>0</td>\n",
       "      <td>0</td>\n",
       "      <td>0</td>\n",
       "      <td>0</td>\n",
       "      <td>0</td>\n",
       "      <td>0</td>\n",
       "    </tr>\n",
       "    <tr>\n",
       "      <th>2swt</th>\n",
       "      <td>0</td>\n",
       "      <td>0</td>\n",
       "      <td>0</td>\n",
       "      <td>0</td>\n",
       "      <td>0</td>\n",
       "      <td>0</td>\n",
       "      <td>0</td>\n",
       "      <td>0</td>\n",
       "      <td>0</td>\n",
       "      <td>0</td>\n",
       "      <td>...</td>\n",
       "      <td>0</td>\n",
       "      <td>0</td>\n",
       "      <td>0</td>\n",
       "      <td>0</td>\n",
       "      <td>0</td>\n",
       "      <td>0</td>\n",
       "      <td>0</td>\n",
       "      <td>0</td>\n",
       "      <td>0</td>\n",
       "      <td>0</td>\n",
       "    </tr>\n",
       "    <tr>\n",
       "      <th>310mbdotcom</th>\n",
       "      <td>0</td>\n",
       "      <td>0</td>\n",
       "      <td>0</td>\n",
       "      <td>0</td>\n",
       "      <td>0</td>\n",
       "      <td>0</td>\n",
       "      <td>0</td>\n",
       "      <td>0</td>\n",
       "      <td>0</td>\n",
       "      <td>0</td>\n",
       "      <td>...</td>\n",
       "      <td>0</td>\n",
       "      <td>310</td>\n",
       "      <td>0</td>\n",
       "      <td>0</td>\n",
       "      <td>0</td>\n",
       "      <td>0</td>\n",
       "      <td>0</td>\n",
       "      <td>0</td>\n",
       "      <td>0</td>\n",
       "      <td>0</td>\n",
       "    </tr>\n",
       "  </tbody>\n",
       "</table>\n",
       "<p>5 rows × 61 columns</p>\n",
       "</div>"
      ],
      "text/plain": [
       "topic        Adverts  Agriculture  Art, Graphics & Video  Autos  Business  \\\n",
       "user                                                                        \n",
       "1mindchrisr        0            0                      0      0         0   \n",
       "1ndidi2            0            0                      0      0         0   \n",
       "222rayo            0            0                      0      0         0   \n",
       "2swt               0            0                      0      0         0   \n",
       "310mbdotcom        0            0                      0      0         0   \n",
       "\n",
       "topic        Business To Business  Car Talk  Career  Celebrities  \\\n",
       "user                                                               \n",
       "1mindchrisr                     0         0       0            0   \n",
       "1ndidi2                         0         0       0            0   \n",
       "222rayo                         0         0       0            0   \n",
       "2swt                            0         0       0            0   \n",
       "310mbdotcom                     0         0       0            0   \n",
       "\n",
       "topic        Celebrity Crimes   ...     Sports  TV/Movies  Technology Market  \\\n",
       "user                            ...                                            \n",
       "1mindchrisr                 0   ...          0          0                  0   \n",
       "1ndidi2                     0   ...          0          0                  0   \n",
       "222rayo                     0   ...          0          0                  0   \n",
       "2swt                        0   ...          0          0                  0   \n",
       "310mbdotcom                 0   ...          0        310                  0   \n",
       "\n",
       "topic        Top Pages  Travel  Travel Ads  Video Games And Gadgets For Sale  \\\n",
       "user                                                                           \n",
       "1mindchrisr          0       0           0                                 0   \n",
       "1ndidi2              0       0           0                                 0   \n",
       "222rayo              0       0           0                                 0   \n",
       "2swt                 0       0           0                                 0   \n",
       "310mbdotcom          0       0           0                                 0   \n",
       "\n",
       "topic        Web Market  Webmasters  up Zone  \n",
       "user                                          \n",
       "1mindchrisr           0           0        0  \n",
       "1ndidi2               0           0        0  \n",
       "222rayo               0           0        0  \n",
       "2swt                  0           0        0  \n",
       "310mbdotcom           0           0        0  \n",
       "\n",
       "[5 rows x 61 columns]"
      ]
     },
     "execution_count": 17,
     "metadata": {},
     "output_type": "execute_result"
    }
   ],
   "source": [
    "femaleMatrix.head()"
   ]
  },
  {
   "cell_type": "markdown",
   "metadata": {},
   "source": [
    "###Sum over all topics for each user to get total number of posts"
   ]
  },
  {
   "cell_type": "code",
   "execution_count": 18,
   "metadata": {
    "collapsed": false
   },
   "outputs": [],
   "source": [
    "maleMatrix['posts']=maleMatrix.sum(axis=1)\n",
    "femaleMatrix['posts']=femaleMatrix.sum(axis=1)"
   ]
  },
  {
   "cell_type": "markdown",
   "metadata": {},
   "source": [
    "### (opt) Filter by total number of posts"
   ]
  },
  {
   "cell_type": "code",
   "execution_count": 689,
   "metadata": {
    "collapsed": false
   },
   "outputs": [
    {
     "name": "stdout",
     "output_type": "stream",
     "text": [
      "(11977, 64)\n",
      "(11977, 64)\n",
      "----------\n",
      "(2079, 63)\n",
      "(2079, 63)\n"
     ]
    }
   ],
   "source": [
    "nCutOff=3\n",
    "\n",
    "print maleMatrix.shape\n",
    "maleMatrix=maleMatrix[maleMatrix['posts']>nCutOff]\n",
    "print maleMatrix.shape\n",
    "print '----------'\n",
    "print femaleMatrix.shape\n",
    "femaleMatrix=femaleMatrix[femaleMatrix['posts']>nCutOff]\n",
    "print femaleMatrix.shape"
   ]
  },
  {
   "cell_type": "markdown",
   "metadata": {},
   "source": [
    "###Add gender labels"
   ]
  },
  {
   "cell_type": "code",
   "execution_count": 19,
   "metadata": {
    "collapsed": true
   },
   "outputs": [],
   "source": [
    "maleMatrix['gender']=u'm'\n",
    "femaleMatrix['gender']=u'f'"
   ]
  },
  {
   "cell_type": "markdown",
   "metadata": {},
   "source": [
    "###Some topics are exclusive to a gender"
   ]
  },
  {
   "cell_type": "code",
   "execution_count": 20,
   "metadata": {
    "collapsed": false
   },
   "outputs": [
    {
     "name": "stdout",
     "output_type": "stream",
     "text": [
      "(16238, 64)\n",
      "(2922, 63)\n",
      "Inbalance 5.557\n"
     ]
    }
   ],
   "source": [
    "print maleMatrix.shape\n",
    "print femaleMatrix.shape\n",
    "print 'Inbalance %.3f' % (maleMatrix.shape[0]/float(femaleMatrix.shape[0]))"
   ]
  },
  {
   "cell_type": "code",
   "execution_count": 692,
   "metadata": {
    "collapsed": false
   },
   "outputs": [],
   "source": [
    "for n in np.nonzero(sum(np.isnan(maleFemaleData)))[0]:\n",
    "    print maleFemale.columns.values[n],sum(np.isnan(maleFemaleData))[n]"
   ]
  },
  {
   "cell_type": "markdown",
   "metadata": {},
   "source": [
    "###Combine both genders"
   ]
  },
  {
   "cell_type": "code",
   "execution_count": 97,
   "metadata": {
    "collapsed": false
   },
   "outputs": [
    {
     "name": "stdout",
     "output_type": "stream",
     "text": [
      "(14678, 65)\n"
     ]
    }
   ],
   "source": [
    "if False:\n",
    "    maleFemale=pd.concat([maleMatrix,femaleMatrix])\n",
    "elif True: # Only if certain number of posts\n",
    "    nCutOff=15\n",
    "    maleFemale=pd.concat([maleMatrix[maleMatrix.posts>nCutOff],femaleMatrix[femaleMatrix.posts>nCutOff]])\n",
    "else: # Balance artificially through undersampling\n",
    "    maleFemale=pd.concat([maleMatrix.sample(femaleMatrix.shape[0]),femaleMatrix])    \n",
    "print maleFemale.shape"
   ]
  },
  {
   "cell_type": "markdown",
   "metadata": {},
   "source": [
    "###So set NaN's to zeros"
   ]
  },
  {
   "cell_type": "code",
   "execution_count": 98,
   "metadata": {
    "collapsed": true
   },
   "outputs": [],
   "source": [
    "maleFemale.fillna(0,inplace=True)"
   ]
  },
  {
   "cell_type": "markdown",
   "metadata": {},
   "source": [
    "###Get data (ignore target labels)"
   ]
  },
  {
   "cell_type": "code",
   "execution_count": 91,
   "metadata": {
    "collapsed": false
   },
   "outputs": [
    {
     "name": "stdout",
     "output_type": "stream",
     "text": [
      "62\n",
      "63\n"
     ]
    }
   ],
   "source": [
    "print list(maleFemale.columns.values).index('gender')\n",
    "print list(maleFemale.columns.values).index('posts')"
   ]
  },
  {
   "cell_type": "code",
   "execution_count": 46,
   "metadata": {
    "collapsed": false
   },
   "outputs": [],
   "source": [
    "maleFemaleData=maleFemale.iloc[:,0:62].as_matrix()\n",
    "# Get all topic counts as features (excludes counts)"
   ]
  },
  {
   "cell_type": "code",
   "execution_count": 99,
   "metadata": {
    "collapsed": true
   },
   "outputs": [],
   "source": [
    "maleFemaleData=maleFemale.icol(range(62)+[63]).as_matrix()\n",
    "# Get all topic counts as features (includes counts)"
   ]
  },
  {
   "cell_type": "code",
   "execution_count": 697,
   "metadata": {
    "collapsed": false
   },
   "outputs": [],
   "source": [
    "#maleFemaleData=maleFemale['posts'].as_matrix()\n",
    "# Get just number of posts as features"
   ]
  },
  {
   "cell_type": "markdown",
   "metadata": {},
   "source": [
    "###(opt) binarise"
   ]
  },
  {
   "cell_type": "code",
   "execution_count": 698,
   "metadata": {
    "collapsed": true
   },
   "outputs": [],
   "source": [
    "from sklearn.preprocessing import Binarizer"
   ]
  },
  {
   "cell_type": "code",
   "execution_count": 699,
   "metadata": {
    "collapsed": false
   },
   "outputs": [],
   "source": [
    "binarizer=Binarizer().fit(maleFemaleData)"
   ]
  },
  {
   "cell_type": "code",
   "execution_count": 700,
   "metadata": {
    "collapsed": false
   },
   "outputs": [],
   "source": [
    "maleFemaleData=binarizer.transform(maleFemaleData)"
   ]
  },
  {
   "cell_type": "markdown",
   "metadata": {},
   "source": [
    "###(opt) Normalise"
   ]
  },
  {
   "cell_type": "code",
   "execution_count": 83,
   "metadata": {
    "collapsed": true
   },
   "outputs": [],
   "source": [
    "from sklearn.preprocessing import normalize"
   ]
  },
  {
   "cell_type": "code",
   "execution_count": 106,
   "metadata": {
    "collapsed": false
   },
   "outputs": [],
   "source": [
    "maleFemaleData=normalize(maleFemaleData, norm='l2')"
   ]
  },
  {
   "cell_type": "markdown",
   "metadata": {},
   "source": [
    "###Get labels"
   ]
  },
  {
   "cell_type": "code",
   "execution_count": 102,
   "metadata": {
    "collapsed": true
   },
   "outputs": [],
   "source": [
    "maleFemaleLabels=maleFemale.gender.values"
   ]
  },
  {
   "cell_type": "markdown",
   "metadata": {},
   "source": [
    "###Try to classify"
   ]
  },
  {
   "cell_type": "markdown",
   "metadata": {},
   "source": [
    "###Decision Tree"
   ]
  },
  {
   "cell_type": "code",
   "execution_count": 107,
   "metadata": {
    "collapsed": false
   },
   "outputs": [],
   "source": [
    "from sklearn.cross_validation import cross_val_score\n",
    "from sklearn import tree\n",
    "clf=tree.DecisionTreeClassifier()"
   ]
  },
  {
   "cell_type": "code",
   "execution_count": 108,
   "metadata": {
    "collapsed": false
   },
   "outputs": [
    {
     "data": {
      "text/plain": [
       "DecisionTreeClassifier(compute_importances=None, criterion='gini',\n",
       "            max_depth=None, max_features=None, max_leaf_nodes=None,\n",
       "            min_density=None, min_samples_leaf=1, min_samples_split=2,\n",
       "            random_state=None, splitter='best')"
      ]
     },
     "execution_count": 108,
     "metadata": {},
     "output_type": "execute_result"
    }
   ],
   "source": [
    "clf.fit(maleFemaleData,maleFemaleLabels)"
   ]
  },
  {
   "cell_type": "code",
   "execution_count": 109,
   "metadata": {
    "collapsed": false
   },
   "outputs": [
    {
     "data": {
      "text/plain": [
       "array([ 0.81818182,  0.82595368,  0.82657581,  0.81942078,  0.83577513])"
      ]
     },
     "execution_count": 109,
     "metadata": {},
     "output_type": "execute_result"
    }
   ],
   "source": [
    "cross_val_score(clf,maleFemaleData,maleFemaleLabels,cv=5)"
   ]
  },
  {
   "cell_type": "code",
   "execution_count": 37,
   "metadata": {
    "collapsed": false
   },
   "outputs": [
    {
     "name": "stdout",
     "output_type": "stream",
     "text": [
      "62\n",
      "65\n"
     ]
    }
   ],
   "source": [
    "print len(clf.feature_importances_)\n",
    "print len(maleFemale.columns)"
   ]
  },
  {
   "cell_type": "code",
   "execution_count": 70,
   "metadata": {
    "collapsed": false
   },
   "outputs": [
    {
     "name": "stdout",
     "output_type": "stream",
     "text": [
      "Adverts - 0.010\n",
      "Agriculture - 0.006\n",
      "Art, Graphics & Video - 0.004\n",
      "Autos - 0.022\n",
      "Business - 0.028\n",
      "Business To Business - 0.005\n",
      "Car Talk - 0.008\n",
      "Career - 0.014\n",
      "Celebrities - 0.024\n",
      "Celebrity Crimes - 0.005\n",
      "Certification And Training Adverts - 0.001\n",
      "Computer Market - 0.002\n",
      "Computers - 0.011\n",
      "Culture - 0.006\n",
      "Education - 0.029\n",
      "Educational Services - 0.002\n",
      "Entertainment - 0.000\n",
      "European Football (EPL, UEFA, La Liga) - 0.004\n",
      "Events - 0.011\n",
      "Family - 0.033\n",
      "Fashion - 0.034\n",
      "Fashion/Clothing Market - 0.006\n",
      "Food - 0.010\n",
      "Foreign Affairs - 0.008\n",
      "Forum Games - 0.001\n",
      "Gaming - 0.004\n",
      "Graphics/Video Market - 0.000\n",
      "Health - 0.023\n",
      "Investment - 0.004\n",
      "Investment Ads - 0.000\n",
      "Islam for Muslims - 0.006\n",
      "Jobs/Vacancies - 0.034\n",
      "Jokes Etc - 0.022\n",
      "Literature - 0.017\n",
      "Literature/Writing Ads - 0.001\n",
      "Music Business - 0.001\n",
      "Music/Radio - 0.011\n",
      "NYSC - 0.009\n",
      "Nairaland / General - 0.038\n",
      "Nairaland Ads - 0.000\n",
      "Pets - 0.007\n",
      "Phone/Internet Market - 0.007\n",
      "Phones - 0.031\n",
      "Poems For Review - 0.003\n",
      "Politics - 0.068\n",
      "Programming - 0.006\n",
      "Properties - 0.022\n",
      "Rap Battles - 0.001\n",
      "Religion - 0.023\n",
      "Romance - 0.045\n",
      "Satellite TV Technology - 0.001\n",
      "Science/Technology - 0.007\n",
      "Software/Programmer Market - 0.000\n",
      "Sports - 0.028\n",
      "TV/Movies - 0.017\n",
      "Technology Market - 0.021\n",
      "Top Pages - 0.000\n",
      "Travel - 0.010\n",
      "Travel Ads - 0.000\n",
      "Video Games And Gadgets For Sale - 0.001\n",
      "Web Market - 0.000\n",
      "Webmasters - 0.014\n",
      "gender - 0.238\n"
     ]
    }
   ],
   "source": [
    "for label,value in zip(maleFemale.columns,clf.feature_importances_):\n",
    "    print '%s - %.3f' % (label,value)"
   ]
  },
  {
   "cell_type": "markdown",
   "metadata": {},
   "source": [
    "###Naive Bayes"
   ]
  },
  {
   "cell_type": "code",
   "execution_count": 732,
   "metadata": {
    "collapsed": true
   },
   "outputs": [],
   "source": [
    "from sklearn.naive_bayes import GaussianNB\n",
    "gnb = GaussianNB()"
   ]
  },
  {
   "cell_type": "code",
   "execution_count": 733,
   "metadata": {
    "collapsed": false
   },
   "outputs": [
    {
     "data": {
      "text/plain": [
       "(array([], dtype=int64),)"
      ]
     },
     "execution_count": 733,
     "metadata": {},
     "output_type": "execute_result"
    }
   ],
   "source": [
    "np.nonzero(sum(np.isnan(maleFemaleData)))"
   ]
  },
  {
   "cell_type": "code",
   "execution_count": 734,
   "metadata": {
    "collapsed": false
   },
   "outputs": [],
   "source": [
    "for n in np.nonzero(sum(np.isnan(maleFemaleData)))[0]:\n",
    "    print maleFemale.columns.values[n]"
   ]
  },
  {
   "cell_type": "code",
   "execution_count": 735,
   "metadata": {
    "collapsed": false
   },
   "outputs": [],
   "source": [
    "y_pred = gnb.fit(maleFemaleData,maleFemaleLabels).predict(maleFemaleData)"
   ]
  },
  {
   "cell_type": "code",
   "execution_count": 736,
   "metadata": {
    "collapsed": false
   },
   "outputs": [
    {
     "name": "stdout",
     "output_type": "stream",
     "text": [
      "Number of mislabeled points out of a total 4158 points : 1653\n",
      "0.398\n"
     ]
    }
   ],
   "source": [
    "print(\"Number of mislabeled points out of a total %d points : %d\"\n",
    "      % (maleFemaleData.shape[0],(maleFemaleLabels != y_pred).sum()))\n",
    "print '%.3f' % ((maleFemaleLabels != y_pred).sum()/float(maleFemaleData.shape[0]))"
   ]
  },
  {
   "cell_type": "markdown",
   "metadata": {},
   "source": [
    "###SVM"
   ]
  },
  {
   "cell_type": "code",
   "execution_count": 737,
   "metadata": {
    "collapsed": true
   },
   "outputs": [],
   "source": [
    "from sklearn import svm"
   ]
  },
  {
   "cell_type": "code",
   "execution_count": 738,
   "metadata": {
    "collapsed": true
   },
   "outputs": [],
   "source": [
    "clf = svm.SVC()"
   ]
  },
  {
   "cell_type": "code",
   "execution_count": 739,
   "metadata": {
    "collapsed": false
   },
   "outputs": [
    {
     "name": "stdout",
     "output_type": "stream",
     "text": [
      "CPU times: user 1.77 s, sys: 0 ns, total: 1.77 s\n",
      "Wall time: 1.77 s\n"
     ]
    },
    {
     "data": {
      "text/plain": [
       "SVC(C=1.0, cache_size=200, class_weight=None, coef0=0.0, degree=3, gamma=0.0,\n",
       "  kernel='rbf', max_iter=-1, probability=False, random_state=None,\n",
       "  shrinking=True, tol=0.001, verbose=False)"
      ]
     },
     "execution_count": 739,
     "metadata": {},
     "output_type": "execute_result"
    }
   ],
   "source": [
    "%time clf.fit(maleFemaleData,maleFemaleLabels)"
   ]
  },
  {
   "cell_type": "code",
   "execution_count": 740,
   "metadata": {
    "collapsed": false
   },
   "outputs": [
    {
     "name": "stdout",
     "output_type": "stream",
     "text": [
      "2822\n",
      "(4158,)\n",
      "Accuracy => 0.679\n"
     ]
    }
   ],
   "source": [
    "print sum(clf.predict(maleFemaleData)==maleFemaleLabels)\n",
    "print maleFemaleLabels.shape\n",
    "print 'Accuracy => %.3f' % (sum(clf.predict(maleFemaleData)==maleFemaleLabels)/float(maleFemaleLabels.shape[0]))"
   ]
  },
  {
   "cell_type": "markdown",
   "metadata": {},
   "source": [
    "###Decision Tree"
   ]
  },
  {
   "cell_type": "code",
   "execution_count": 741,
   "metadata": {
    "collapsed": true
   },
   "outputs": [],
   "source": [
    "from sklearn import tree"
   ]
  },
  {
   "cell_type": "code",
   "execution_count": 742,
   "metadata": {
    "collapsed": true
   },
   "outputs": [],
   "source": [
    "clf = tree.DecisionTreeClassifier()"
   ]
  },
  {
   "cell_type": "code",
   "execution_count": 743,
   "metadata": {
    "collapsed": false
   },
   "outputs": [
    {
     "name": "stdout",
     "output_type": "stream",
     "text": [
      "CPU times: user 85.3 ms, sys: 0 ns, total: 85.3 ms\n",
      "Wall time: 84.7 ms\n"
     ]
    },
    {
     "data": {
      "text/plain": [
       "DecisionTreeClassifier(compute_importances=None, criterion='gini',\n",
       "            max_depth=None, max_features=None, max_leaf_nodes=None,\n",
       "            min_density=None, min_samples_leaf=1, min_samples_split=2,\n",
       "            random_state=None, splitter='best')"
      ]
     },
     "execution_count": 743,
     "metadata": {},
     "output_type": "execute_result"
    }
   ],
   "source": [
    "%time clf.fit(maleFemaleData,maleFemaleLabels)"
   ]
  },
  {
   "cell_type": "code",
   "execution_count": 744,
   "metadata": {
    "collapsed": false
   },
   "outputs": [
    {
     "name": "stdout",
     "output_type": "stream",
     "text": [
      "3386\n",
      "(4158,)\n",
      "0.814\n"
     ]
    }
   ],
   "source": [
    "print sum(clf.predict(maleFemaleData)==maleFemaleLabels)\n",
    "print maleFemaleLabels.shape\n",
    "print '%.3f' % (sum(clf.predict(maleFemaleData)==maleFemaleLabels)/float(maleFemaleLabels.shape[0]))"
   ]
  },
  {
   "cell_type": "code",
   "execution_count": 745,
   "metadata": {
    "collapsed": false
   },
   "outputs": [],
   "source": [
    "importances=collections.Counter({f:i for f,i in zip(maleFemale.columns.values,clf.feature_importances_)})"
   ]
  },
  {
   "cell_type": "code",
   "execution_count": 746,
   "metadata": {
    "collapsed": false
   },
   "outputs": [
    {
     "data": {
      "text/plain": [
       "[(u'Politics', 0.075384448891034447),\n",
       " (u'Family', 0.056208706197512129),\n",
       " (u'Fashion', 0.05289738260950598),\n",
       " (u'Romance', 0.042456516373629544),\n",
       " (u'Sports', 0.041678381395890716),\n",
       " (u'Celebrities', 0.038840393199254204),\n",
       " (u'Nairaland / General', 0.038728365649402872),\n",
       " (u'Autos', 0.038116851657633517),\n",
       " (u'Health', 0.03581939749956705),\n",
       " (u'Phones', 0.032049506544273243)]"
      ]
     },
     "execution_count": 746,
     "metadata": {},
     "output_type": "execute_result"
    }
   ],
   "source": [
    "importances.most_common(10)"
   ]
  },
  {
   "cell_type": "markdown",
   "metadata": {},
   "source": [
    "###Train/Test Split"
   ]
  },
  {
   "cell_type": "code",
   "execution_count": 747,
   "metadata": {
    "collapsed": true
   },
   "outputs": [],
   "source": [
    "from sklearn.cross_validation import train_test_split"
   ]
  },
  {
   "cell_type": "code",
   "execution_count": 748,
   "metadata": {
    "collapsed": false
   },
   "outputs": [
    {
     "name": "stdout",
     "output_type": "stream",
     "text": [
      "(3326, 62) (832, 62)\n",
      "(3326,) (832,)\n"
     ]
    }
   ],
   "source": [
    "dataTrain,dataTest,labelTrain,labelTest=train_test_split(maleFemaleData,maleFemaleLabels,test_size=0.2)\n",
    "print dataTrain.shape,dataTest.shape\n",
    "print labelTrain.shape,labelTest.shape"
   ]
  },
  {
   "cell_type": "code",
   "execution_count": 749,
   "metadata": {
    "collapsed": true
   },
   "outputs": [],
   "source": [
    "clf = tree.DecisionTreeClassifier()\n",
    "#clf = svm.SVC()"
   ]
  },
  {
   "cell_type": "code",
   "execution_count": 750,
   "metadata": {
    "collapsed": false
   },
   "outputs": [
    {
     "data": {
      "text/plain": [
       "DecisionTreeClassifier(compute_importances=None, criterion='gini',\n",
       "            max_depth=None, max_features=None, max_leaf_nodes=None,\n",
       "            min_density=None, min_samples_leaf=1, min_samples_split=2,\n",
       "            random_state=None, splitter='best')"
      ]
     },
     "execution_count": 750,
     "metadata": {},
     "output_type": "execute_result"
    }
   ],
   "source": [
    "clf.fit(dataTrain,labelTrain)"
   ]
  },
  {
   "cell_type": "code",
   "execution_count": 751,
   "metadata": {
    "collapsed": false
   },
   "outputs": [
    {
     "name": "stdout",
     "output_type": "stream",
     "text": [
      "533\n",
      "0.64\n"
     ]
    }
   ],
   "source": [
    "print sum(clf.predict(dataTest)==labelTest)\n",
    "print '%0.2f' % (sum(clf.predict(dataTest)==labelTest)/float(labelTest.shape[0]))"
   ]
  },
  {
   "cell_type": "code",
   "execution_count": null,
   "metadata": {
    "collapsed": true
   },
   "outputs": [],
   "source": []
  }
 ],
 "metadata": {
  "kernelspec": {
   "display_name": "Python 2",
   "language": "python",
   "name": "python2"
  },
  "language_info": {
   "codemirror_mode": {
    "name": "ipython",
    "version": 2
   },
   "file_extension": ".py",
   "mimetype": "text/x-python",
   "name": "python",
   "nbconvert_exporter": "python",
   "pygments_lexer": "ipython2",
   "version": "2.7.10"
  }
 },
 "nbformat": 4,
 "nbformat_minor": 0
}
