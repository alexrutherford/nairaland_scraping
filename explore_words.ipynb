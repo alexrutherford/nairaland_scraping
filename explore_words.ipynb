{
 "metadata": {
  "name": "",
  "signature": "sha256:e257f685629be4678cc671a162b7c5007af74f36e1cd6c7363f2628adaf5a9e6"
 },
 "nbformat": 3,
 "nbformat_minor": 0,
 "worksheets": [
  {
   "cells": [
    {
     "cell_type": "code",
     "collapsed": false,
     "input": [
      "import pymysql,sys,nltk,re,sklearn\n",
      "import seaborn as sns\n",
      "import matplotlib.pyplot as plt\n",
      "%matplotlib inline\n",
      "import pandas as pd"
     ],
     "language": "python",
     "metadata": {},
     "outputs": [],
     "prompt_number": 1
    },
    {
     "cell_type": "code",
     "collapsed": false,
     "input": [
      "stopWords=nltk.corpus.stopwords.words('english')\n",
      "stopWords+=[' ']"
     ],
     "language": "python",
     "metadata": {},
     "outputs": [],
     "prompt_number": 2
    },
    {
     "cell_type": "code",
     "collapsed": false,
     "input": [
      "sns.set_style('white')\n",
      "sns.despine()\n",
      "sns.set_context(\"notebook\", font_scale=2.0, rc={\"lines.linewidth\": 2.5})"
     ],
     "language": "python",
     "metadata": {},
     "outputs": [
      {
       "metadata": {},
       "output_type": "display_data",
       "text": [
        "<matplotlib.figure.Figure at 0x7fd9680ae510>"
       ]
      }
     ],
     "prompt_number": 3
    },
    {
     "cell_type": "code",
     "collapsed": false,
     "input": [
      "conn = pymysql.connect(host='localhost',user='root',passwd='pulsetini', db='nairaland',charset='utf8')\n",
      "cur = conn.cursor()\n",
      "cur2 = conn.cursor()"
     ],
     "language": "python",
     "metadata": {},
     "outputs": [],
     "prompt_number": 4
    },
    {
     "cell_type": "code",
     "collapsed": false,
     "input": [
      "df=pd.read_sql_query('select content,time,nComments from posts2',conn)"
     ],
     "language": "python",
     "metadata": {},
     "outputs": [],
     "prompt_number": 15
    },
    {
     "cell_type": "code",
     "collapsed": false,
     "input": [
      "df2=pd.read_sql_query('select content,time from comments2',conn)"
     ],
     "language": "python",
     "metadata": {},
     "outputs": [],
     "prompt_number": 17
    },
    {
     "cell_type": "code",
     "collapsed": false,
     "input": [
      "df['length']=df.content.apply(unicode.split).apply(len)"
     ],
     "language": "python",
     "metadata": {},
     "outputs": [],
     "prompt_number": 18
    },
    {
     "cell_type": "code",
     "collapsed": false,
     "input": [
      "df2['length']=df2.content.apply(unicode.split).apply(len)"
     ],
     "language": "python",
     "metadata": {},
     "outputs": [],
     "prompt_number": 19
    },
    {
     "cell_type": "code",
     "collapsed": false,
     "input": [
      "df.index=df.time"
     ],
     "language": "python",
     "metadata": {},
     "outputs": [],
     "prompt_number": 20
    },
    {
     "cell_type": "code",
     "collapsed": false,
     "input": [
      "df2.index=df2.time"
     ],
     "language": "python",
     "metadata": {},
     "outputs": [],
     "prompt_number": 21
    },
    {
     "cell_type": "code",
     "collapsed": false,
     "input": [
      "def clean(s):\n",
      "    s=re.sub(r'\\?|\\.|\\,|\\:|\\;|\\\"|\\&|\\@|\\!|\\*|\\=|\\+|\\-|\\_|\\n|\\t|\\/|\\\\',' ',s.lower())\n",
      "    return [w for w in s.split() if not w in stopWords]"
     ],
     "language": "python",
     "metadata": {},
     "outputs": [],
     "prompt_number": 22
    },
    {
     "cell_type": "code",
     "collapsed": false,
     "input": [
      "df.head(20)['content'].apply(clean)"
     ],
     "language": "python",
     "metadata": {},
     "outputs": [
      {
       "metadata": {},
       "output_type": "pyout",
       "prompt_number": 23,
       "text": [
        "time\n",
        "2014-07-04 04:45:00    [tea, weighing, vacuum, packaging, machine, fo...\n",
        "2014-07-04 04:51:00    [ive, tried, ss, method, avail, please, help, ...\n",
        "2014-07-04 04:53:00    [tea, weighing, vacuum, packaging, machine, fo...\n",
        "2014-07-04 05:02:00    [key, responsibilities, \u2022, preparation, monthl...\n",
        "2014-07-04 05:02:00    [live, work, u, k, canada, quebec, australia, ...\n",
        "2014-07-04 05:11:00    [sexy, man, one, sophisticated, susceptibility...\n",
        "2014-07-04 05:14:00    [posted, islamic, section, mods, deleted, with...\n",
        "2014-07-04 05:15:00    [clamour, state, creation, pitched, delegates,...\n",
        "2014-07-04 05:19:00    [popular, nollywood, comic, actor, mr, hafiz, ...\n",
        "2014-07-04 05:21:00    [full, optionsssssssssssautomatic, gearfactory...\n",
        "2014-07-04 05:26:00    [flyover, collapsed, vehicles, brazilian, worl...\n",
        "2014-07-04 05:29:00    [http, www, careerpointkenya, co, ke, 2014, 05...\n",
        "2014-07-04 05:36:00    [2007, onyeka, admitted, university, nigeria, ...\n",
        "2014-07-04 05:36:00    [1, 500, sqm, residential, land, located, ajis...\n",
        "2014-07-04 05:36:00    [features2, 0l, i4, vvt, engine4, speed, auto,...\n",
        "2014-07-04 05:45:00    [broilers, ar, 2months, wat, type, medicine, c...\n",
        "2014-07-04 05:45:00    [academic, board, federal, polytechnic, oko, a...\n",
        "2014-07-04 05:45:00    [think, wenigerians, joblessor, fools, must, y...\n",
        "2014-07-04 05:49:00    [job, description, reputable, company, lagos, ...\n",
        "2014-07-04 05:50:00    [think, weirdest, thing, seen, among, nigeria,...\n",
        "Name: content, dtype: object"
       ]
      }
     ],
     "prompt_number": 23
    },
    {
     "cell_type": "code",
     "collapsed": false,
     "input": [
      "from sklearn.feature_extraction.text import CountVectorizer, TfidfTransformer"
     ],
     "language": "python",
     "metadata": {},
     "outputs": [],
     "prompt_number": 24
    },
    {
     "cell_type": "code",
     "collapsed": false,
     "input": [
      "bow=CountVectorizer(analyzer=clean).fit(df.content)"
     ],
     "language": "python",
     "metadata": {},
     "outputs": [],
     "prompt_number": 25
    },
    {
     "cell_type": "code",
     "collapsed": false,
     "input": [
      "print bow.transform(['nigeria is a country yo'])"
     ],
     "language": "python",
     "metadata": {},
     "outputs": [
      {
       "output_type": "stream",
       "stream": "stdout",
       "text": [
        "  (0, 289929)\t1\n",
        "  (0, 599516)\t1\n",
        "  (0, 925676)\t1\n"
       ]
      }
     ],
     "prompt_number": 26
    },
    {
     "cell_type": "code",
     "collapsed": false,
     "input": [
      "tfidf_transformer = TfidfTransformer().fit(bow.transform(df.content))"
     ],
     "language": "python",
     "metadata": {},
     "outputs": [],
     "prompt_number": 27
    },
    {
     "cell_type": "code",
     "collapsed": false,
     "input": [
      "b=sklearn.preprocessing.Binarizer(threshold=2)\n",
      "df['longShort']=b.transform(df.nComments)"
     ],
     "language": "python",
     "metadata": {},
     "outputs": [],
     "prompt_number": 28
    },
    {
     "cell_type": "code",
     "collapsed": false,
     "input": [
      "df['longShort']=df['nComments'].apply(lambda n:(n>1))"
     ],
     "language": "python",
     "metadata": {},
     "outputs": [],
     "prompt_number": 9
    },
    {
     "cell_type": "code",
     "collapsed": false,
     "input": [
      "df.head(20)"
     ],
     "language": "python",
     "metadata": {},
     "outputs": [
      {
       "html": [
        "<div style=\"max-height:1000px;max-width:1500px;overflow:auto;\">\n",
        "<table border=\"1\" class=\"dataframe\">\n",
        "  <thead>\n",
        "    <tr style=\"text-align: right;\">\n",
        "      <th></th>\n",
        "      <th>content</th>\n",
        "      <th>time</th>\n",
        "      <th>nComments</th>\n",
        "      <th>length</th>\n",
        "      <th>longShort</th>\n",
        "    </tr>\n",
        "    <tr>\n",
        "      <th>time</th>\n",
        "      <th></th>\n",
        "      <th></th>\n",
        "      <th></th>\n",
        "      <th></th>\n",
        "      <th></th>\n",
        "    </tr>\n",
        "  </thead>\n",
        "  <tbody>\n",
        "    <tr>\n",
        "      <th>2014-07-04 04:45:00</th>\n",
        "      <td> tea weighing vacuum packaging machine food pac...</td>\n",
        "      <td>2014-07-04 04:45:00</td>\n",
        "      <td> 0</td>\n",
        "      <td>  61</td>\n",
        "      <td> 0</td>\n",
        "    </tr>\n",
        "    <tr>\n",
        "      <th>2014-07-04 04:51:00</th>\n",
        "      <td> ive tried the ss method to no avail. please he...</td>\n",
        "      <td>2014-07-04 04:51:00</td>\n",
        "      <td> 0</td>\n",
        "      <td>  19</td>\n",
        "      <td> 0</td>\n",
        "    </tr>\n",
        "    <tr>\n",
        "      <th>2014-07-04 04:53:00</th>\n",
        "      <td> tea weighing vacuum packaging machine food pac...</td>\n",
        "      <td>2014-07-04 04:53:00</td>\n",
        "      <td> 0</td>\n",
        "      <td>  61</td>\n",
        "      <td> 0</td>\n",
        "    </tr>\n",
        "    <tr>\n",
        "      <th>2014-07-04 05:02:00</th>\n",
        "      <td> key responsibilities \u2022 preparation of monthly ...</td>\n",
        "      <td>2014-07-04 05:02:00</td>\n",
        "      <td> 0</td>\n",
        "      <td> 212</td>\n",
        "      <td> 0</td>\n",
        "    </tr>\n",
        "    <tr>\n",
        "      <th>2014-07-04 05:02:00</th>\n",
        "      <td> live &amp; work in u.k.  canada  quebec  australia...</td>\n",
        "      <td>2014-07-04 05:02:00</td>\n",
        "      <td> 1</td>\n",
        "      <td>  58</td>\n",
        "      <td> 1</td>\n",
        "    </tr>\n",
        "    <tr>\n",
        "      <th>2014-07-04 05:11:00</th>\n",
        "      <td> a sexy man is one who is sophisticated  but ha...</td>\n",
        "      <td>2014-07-04 05:11:00</td>\n",
        "      <td> 1</td>\n",
        "      <td> 508</td>\n",
        "      <td> 1</td>\n",
        "    </tr>\n",
        "    <tr>\n",
        "      <th>2014-07-04 05:14:00</th>\n",
        "      <td> posted this in islamic section  the mods delet...</td>\n",
        "      <td>2014-07-04 05:14:00</td>\n",
        "      <td> 1</td>\n",
        "      <td>  50</td>\n",
        "      <td> 1</td>\n",
        "    </tr>\n",
        "    <tr>\n",
        "      <th>2014-07-04 05:15:00</th>\n",
        "      <td> the clamour for state creation pitched delegat...</td>\n",
        "      <td>2014-07-04 05:15:00</td>\n",
        "      <td> 0</td>\n",
        "      <td> 854</td>\n",
        "      <td> 0</td>\n",
        "    </tr>\n",
        "    <tr>\n",
        "      <th>2014-07-04 05:19:00</th>\n",
        "      <td> the popular nollywood comic actor  mr hafiz oy...</td>\n",
        "      <td>2014-07-04 05:19:00</td>\n",
        "      <td> 0</td>\n",
        "      <td> 185</td>\n",
        "      <td> 0</td>\n",
        "    </tr>\n",
        "    <tr>\n",
        "      <th>2014-07-04 05:21:00</th>\n",
        "      <td> full optionsssssssssssautomatic gearfactory fi...</td>\n",
        "      <td>2014-07-04 05:21:00</td>\n",
        "      <td> 1</td>\n",
        "      <td>  24</td>\n",
        "      <td> 1</td>\n",
        "    </tr>\n",
        "    <tr>\n",
        "      <th>2014-07-04 05:26:00</th>\n",
        "      <td> a flyover has collapsed on to vehicles in the ...</td>\n",
        "      <td>2014-07-04 05:26:00</td>\n",
        "      <td> 0</td>\n",
        "      <td>  73</td>\n",
        "      <td> 0</td>\n",
        "    </tr>\n",
        "    <tr>\n",
        "      <th>2014-07-04 05:29:00</th>\n",
        "      <td> http //www.careerpointkenya.co.ke/2014/05/26/j...</td>\n",
        "      <td>2014-07-04 05:29:00</td>\n",
        "      <td> 0</td>\n",
        "      <td>   3</td>\n",
        "      <td> 0</td>\n",
        "    </tr>\n",
        "    <tr>\n",
        "      <th>2014-07-04 05:36:00</th>\n",
        "      <td>  in 2007  onyeka was admitted into the univers...</td>\n",
        "      <td>2014-07-04 05:36:00</td>\n",
        "      <td> 1</td>\n",
        "      <td> 271</td>\n",
        "      <td> 1</td>\n",
        "    </tr>\n",
        "    <tr>\n",
        "      <th>2014-07-04 05:36:00</th>\n",
        "      <td> 1  500 sqm of residential land located at ajis...</td>\n",
        "      <td>2014-07-04 05:36:00</td>\n",
        "      <td> 1</td>\n",
        "      <td>  74</td>\n",
        "      <td> 1</td>\n",
        "    </tr>\n",
        "    <tr>\n",
        "      <th>2014-07-04 05:36:00</th>\n",
        "      <td> features2.0l i4 vvt-i engine4 speed auto trans...</td>\n",
        "      <td>2014-07-04 05:36:00</td>\n",
        "      <td> 0</td>\n",
        "      <td>  44</td>\n",
        "      <td> 0</td>\n",
        "    </tr>\n",
        "    <tr>\n",
        "      <th>2014-07-04 05:45:00</th>\n",
        "      <td> my broilers ar 2months   wat type of medicine ...</td>\n",
        "      <td>2014-07-04 05:45:00</td>\n",
        "      <td> 1</td>\n",
        "      <td>  18</td>\n",
        "      <td> 1</td>\n",
        "    </tr>\n",
        "    <tr>\n",
        "      <th>2014-07-04 05:45:00</th>\n",
        "      <td> the academic board of federal polytechnic  oko...</td>\n",
        "      <td>2014-07-04 05:45:00</td>\n",
        "      <td> 1</td>\n",
        "      <td> 411</td>\n",
        "      <td> 1</td>\n",
        "    </tr>\n",
        "    <tr>\n",
        "      <th>2014-07-04 05:45:00</th>\n",
        "      <td> if you think wenigerians are joblessor fools  ...</td>\n",
        "      <td>2014-07-04 05:45:00</td>\n",
        "      <td> 0</td>\n",
        "      <td> 166</td>\n",
        "      <td> 0</td>\n",
        "    </tr>\n",
        "    <tr>\n",
        "      <th>2014-07-04 05:49:00</th>\n",
        "      <td> job description  a reputable company in lagos ...</td>\n",
        "      <td>2014-07-04 05:49:00</td>\n",
        "      <td> 0</td>\n",
        "      <td> 399</td>\n",
        "      <td> 0</td>\n",
        "    </tr>\n",
        "    <tr>\n",
        "      <th>2014-07-04 05:50:00</th>\n",
        "      <td> i think this is the weirdest thing i have seen...</td>\n",
        "      <td>2014-07-04 05:50:00</td>\n",
        "      <td> 1</td>\n",
        "      <td> 150</td>\n",
        "      <td> 1</td>\n",
        "    </tr>\n",
        "  </tbody>\n",
        "</table>\n",
        "</div>"
       ],
       "metadata": {},
       "output_type": "pyout",
       "prompt_number": 29,
       "text": [
        "                                                               content  \\\n",
        "time                                                                     \n",
        "2014-07-04 04:45:00  tea weighing vacuum packaging machine food pac...   \n",
        "2014-07-04 04:51:00  ive tried the ss method to no avail. please he...   \n",
        "2014-07-04 04:53:00  tea weighing vacuum packaging machine food pac...   \n",
        "2014-07-04 05:02:00  key responsibilities \u2022 preparation of monthly ...   \n",
        "2014-07-04 05:02:00  live & work in u.k.  canada  quebec  australia...   \n",
        "2014-07-04 05:11:00  a sexy man is one who is sophisticated  but ha...   \n",
        "2014-07-04 05:14:00  posted this in islamic section  the mods delet...   \n",
        "2014-07-04 05:15:00  the clamour for state creation pitched delegat...   \n",
        "2014-07-04 05:19:00  the popular nollywood comic actor  mr hafiz oy...   \n",
        "2014-07-04 05:21:00  full optionsssssssssssautomatic gearfactory fi...   \n",
        "2014-07-04 05:26:00  a flyover has collapsed on to vehicles in the ...   \n",
        "2014-07-04 05:29:00  http //www.careerpointkenya.co.ke/2014/05/26/j...   \n",
        "2014-07-04 05:36:00   in 2007  onyeka was admitted into the univers...   \n",
        "2014-07-04 05:36:00  1  500 sqm of residential land located at ajis...   \n",
        "2014-07-04 05:36:00  features2.0l i4 vvt-i engine4 speed auto trans...   \n",
        "2014-07-04 05:45:00  my broilers ar 2months   wat type of medicine ...   \n",
        "2014-07-04 05:45:00  the academic board of federal polytechnic  oko...   \n",
        "2014-07-04 05:45:00  if you think wenigerians are joblessor fools  ...   \n",
        "2014-07-04 05:49:00  job description  a reputable company in lagos ...   \n",
        "2014-07-04 05:50:00  i think this is the weirdest thing i have seen...   \n",
        "\n",
        "                                   time  nComments  length  longShort  \n",
        "time                                                                   \n",
        "2014-07-04 04:45:00 2014-07-04 04:45:00          0      61          0  \n",
        "2014-07-04 04:51:00 2014-07-04 04:51:00          0      19          0  \n",
        "2014-07-04 04:53:00 2014-07-04 04:53:00          0      61          0  \n",
        "2014-07-04 05:02:00 2014-07-04 05:02:00          0     212          0  \n",
        "2014-07-04 05:02:00 2014-07-04 05:02:00          1      58          1  \n",
        "2014-07-04 05:11:00 2014-07-04 05:11:00          1     508          1  \n",
        "2014-07-04 05:14:00 2014-07-04 05:14:00          1      50          1  \n",
        "2014-07-04 05:15:00 2014-07-04 05:15:00          0     854          0  \n",
        "2014-07-04 05:19:00 2014-07-04 05:19:00          0     185          0  \n",
        "2014-07-04 05:21:00 2014-07-04 05:21:00          1      24          1  \n",
        "2014-07-04 05:26:00 2014-07-04 05:26:00          0      73          0  \n",
        "2014-07-04 05:29:00 2014-07-04 05:29:00          0       3          0  \n",
        "2014-07-04 05:36:00 2014-07-04 05:36:00          1     271          1  \n",
        "2014-07-04 05:36:00 2014-07-04 05:36:00          1      74          1  \n",
        "2014-07-04 05:36:00 2014-07-04 05:36:00          0      44          0  \n",
        "2014-07-04 05:45:00 2014-07-04 05:45:00          1      18          1  \n",
        "2014-07-04 05:45:00 2014-07-04 05:45:00          1     411          1  \n",
        "2014-07-04 05:45:00 2014-07-04 05:45:00          0     166          0  \n",
        "2014-07-04 05:49:00 2014-07-04 05:49:00          0     399          0  \n",
        "2014-07-04 05:50:00 2014-07-04 05:50:00          1     150          1  "
       ]
      }
     ],
     "prompt_number": 29
    },
    {
     "cell_type": "code",
     "collapsed": false,
     "input": [
      "from sklearn import svm"
     ],
     "language": "python",
     "metadata": {},
     "outputs": [],
     "prompt_number": 30
    },
    {
     "cell_type": "code",
     "collapsed": false,
     "input": [
      "clf = svm.SVC()"
     ],
     "language": "python",
     "metadata": {},
     "outputs": [],
     "prompt_number": 31
    },
    {
     "cell_type": "code",
     "collapsed": false,
     "input": [
      "df.longShort.describe()"
     ],
     "language": "python",
     "metadata": {},
     "outputs": [
      {
       "metadata": {},
       "output_type": "pyout",
       "prompt_number": 32,
       "text": [
        "count    224764.000000\n",
        "mean          0.042582\n",
        "std           0.201914\n",
        "min           0.000000\n",
        "25%           0.000000\n",
        "50%           0.000000\n",
        "75%           0.000000\n",
        "max           1.000000\n",
        "Name: longShort, dtype: float64"
       ]
      }
     ],
     "prompt_number": 32
    },
    {
     "cell_type": "code",
     "collapsed": false,
     "input": [
      "t=bow.transform(df.content)"
     ],
     "language": "python",
     "metadata": {},
     "outputs": [],
     "prompt_number": 33
    },
    {
     "cell_type": "code",
     "collapsed": false,
     "input": [
      "clf.fit(t,df.longShort)"
     ],
     "language": "python",
     "metadata": {},
     "outputs": []
    },
    {
     "cell_type": "code",
     "collapsed": false,
     "input": [],
     "language": "python",
     "metadata": {},
     "outputs": []
    }
   ],
   "metadata": {}
  }
 ]
}