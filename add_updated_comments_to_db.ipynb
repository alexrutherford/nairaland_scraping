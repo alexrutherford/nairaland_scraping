{
 "cells": [
  {
   "cell_type": "code",
   "execution_count": 1,
   "metadata": {
    "collapsed": true
   },
   "outputs": [],
   "source": [
    "import pymysql,sys\n",
    "import seaborn as sns\n",
    "import pandas as pd\n",
    "from dateutil import parser\n",
    "import matplotlib.pyplot as plt\n",
    "%matplotlib inline"
   ]
  },
  {
   "cell_type": "code",
   "execution_count": 7,
   "metadata": {
    "collapsed": true
   },
   "outputs": [],
   "source": [
    "conn = pymysql.connect(host='localhost',user='root',passwd='pulsetini', db='nairaland',charset='utf8')\n",
    "cur = conn.cursor()\n",
    "cur2 = conn.cursor()"
   ]
  },
  {
   "cell_type": "code",
   "execution_count": 4,
   "metadata": {
    "collapsed": true
   },
   "outputs": [],
   "source": [
    "df=pd.read_sql_query('select * from comments_updated',conn)"
   ]
  },
  {
   "cell_type": "code",
   "execution_count": 5,
   "metadata": {
    "collapsed": true
   },
   "outputs": [],
   "source": [
    "df2=pd.read_sql_query('select * from posts3',conn)"
   ]
  },
  {
   "cell_type": "code",
   "execution_count": 8,
   "metadata": {
    "collapsed": false
   },
   "outputs": [],
   "source": [
    "df3=pd.read_sql_query('select * from comments3',conn)"
   ]
  },
  {
   "cell_type": "markdown",
   "metadata": {},
   "source": [
    "### Take newly scraped comments from comments_updated, test to see if already present in comments to avoid duplicates. Then adjust comment numbering based on how many comments are in DB already"
   ]
  },
  {
   "cell_type": "code",
   "execution_count": 83,
   "metadata": {
    "collapsed": true
   },
   "outputs": [],
   "source": [
    "def addComment(c):\n",
    "    q=u'insert into comments3 (parent,nComment,user,time,content,relevant,nLikes,nShares,isNew) values (%s,%s,%s,%s,%s,%s,%s,%s,%s)'\n",
    "    cleanedLikes=c.nLikes\n",
    "    if pd.isnull(cleanedLikes):\n",
    "        print 'LIKES NULL',cleanedLikes\n",
    "        cleanedLikes=0\n",
    "    \n",
    "    cleanedShares=c.nShares\n",
    "    if pd.isnull(cleanedShares):\n",
    "        cleanedShares=0\n",
    "\n",
    "    data=[c.parent,-1,c.user,c.time.isoformat(),c.content,c.relevant,cleanedLikes,cleanedShares,True]\n",
    "#    print data\n",
    "    cur.execute(q,data)\n",
    "    cur.connection.commit()"
   ]
  },
  {
   "cell_type": "code",
   "execution_count": 82,
   "metadata": {
    "collapsed": false
   },
   "outputs": [
    {
     "name": "stdout",
     "output_type": "stream",
     "text": [
      "New comment, adding\n",
      "LIKES NULL nan\n",
      "[u'1798576', -1, u'trumpcoat', '2015-02-01T22:42:00', u'we are capable of meeting all your need in decorative paint with our range of products such as  trump acrylic emulsion  trump texcoat  trump gloss  trump sheen  trump matt  trump silk  protective wood sheen  epoxy  trump flex industrial coat  silkaflex anti-corrosion system for metals and plastics etc. fungi/algae resistant paint & growth & fire/heat retardant paint.be expecting a classic job+234 [0] 80 2828 7950  081 3092 0421trumpcoat@gmail.cominfo@trumpcoat.com.nghttp //trumpcoat.com.ngwww.nairaland.com/trumpcoat  #bbmme pin  7f6a5509', None, 0, 0, True]\n",
      "New comment, adding\n",
      "LIKES NULL nan\n",
      "[u'1798576', -1, u'trumpcoat', '2015-02-12T18:11:00', u'application of  waterproof sealer/vanish waterproof sealer is a varnish final layer applied on exterior paint  texcote  matt  after it is finished and completely dry. it\\u2019s used to protect them from dirt  dust stain  weather uv rays  fungai/algae and pollution in the environment. varnish also homogenizes  evens out  the final appearance of a painting also adds a layer of shinning pulls the whole painting together and makes it look even more amazing  bringing out the gorgeous vibrancy of the colors. mainly protection for the paint surface from dull and protect the paint to last longer. +234 [0] 80 2828 7950  081 3092 0421trumpcoat@gmail.cominfo@trumpcoat.com.nghttp //trumpcoat.com.ngwww.nairaland.com/trumpcoat  #bbmme pin  7f6a5509', None, 0, 0, True]\n",
      "New comment, adding\n",
      "LIKES NULL nan\n",
      "[u'1798576', -1, u'trumpcoat', '2015-03-18T09:24:00', u'apart from the domestic paint we produce fungi/algae resistant paint  growth & fire/heat retardant paint we produce e.g vinyl silk  vinyl matt  softsheen  emulsion texture paint  chlorinated  acrylic polyurethane  epoxy flooring paint and anti-corrosion coating we run.trumpcoat choose to specialize in creating modern versions of decorative paint effects including dragging  stippling toning  glazing & wiping  textured effect that simulates a fine  sandy appearance . we are also continuously looking at new effects  processes and finishes to offer our clients\\u2019  utilizing inspiration from other materials to recreate special textures  colours and shading.we tend to take a different design and development approach to other specialist decorators. by exploring the exact effect and ambience that a client is looking for we can develop a detailed understanding of their requirements. we then look to create unique decorative effects that can utilize hand mixed paints and multi-layering of materials to meet their expectations.most of this decorative paint are italian deco finishes  stucco  ottocento  favrile gold and silver  marble effects swahili \\u2013 textured metallic decorative finish  ruston  tuscania fondo strutturato  clear coat etc... we are working with novacolor italia and san marco spa.even though painting is in our name  our clients rely on us for their restoration and remodeling needs  which will eventually require the finishing touch that a quality paint and painter can provide. it is no longer necessary to hire the biggest contractors. hiring trumpcoat painting contractor is more cost effective and gives you more control over your project  if you desire a new look or wish to add value to your investment  paint  glazes  faux finishes classic decorative and wall paper are the final touches. you can count on us to help you select from the prime decorative products on the market and expertly apply or install them.we have done most of the celebrity home @ this zone and they are classic.lekki gardens by gtrich realty limited - ajahharmony estate langbasa  ajah  eti osa, lagos.ocean bay estate, lekki - lagos.event / entertainment centre - akure.banana island,ikoyi - lagos.star actress mansion @park view estate ikoyi lagos.trumpcoat has become a reputable painting and decorator contractor. we have been climbing the ladders to success with a resilient motive. with an unmatched commitment to quality and service. our purpose is to provide your home or business with the most exquisite and unique look.+234 [0] 80 2828 7950, 081 3092 0421trumpcoat@gmail.cominfo@trumpcoat.com.nghttp://trumpcoat.com.ng', None, 0, 0, True]\n"
     ]
    },
    {
     "ename": "SystemExit",
     "evalue": "1",
     "output_type": "error",
     "traceback": [
      "An exception has occurred, use %tb to see the full traceback.\n",
      "\u001b[1;31mSystemExit\u001b[0m\u001b[1;31m:\u001b[0m 1\n"
     ]
    },
    {
     "name": "stderr",
     "output_type": "stream",
     "text": [
      "To exit: use 'exit', 'quit', or Ctrl-D.\n"
     ]
    }
   ],
   "source": [
    "n=0\n",
    "for c in df.iterrows():\n",
    "    if isCommentNew(c[1]):\n",
    "        print 'New comment, adding'\n",
    "        addComment(c[1])\n",
    "    if n==20:sys.exit(1)\n",
    "    n+=1"
   ]
  },
  {
   "cell_type": "code",
   "execution_count": 53,
   "metadata": {
    "collapsed": false
   },
   "outputs": [
    {
     "data": {
      "text/plain": [
       "(20, parent                  1798828\n",
       " nComment                      3\n",
       " user                __MISSING__\n",
       " time        2014-07-04 12:16:00\n",
       " content              i wonder..\n",
       " relevant                   None\n",
       " nLikes                      NaN\n",
       " nShares                     NaN\n",
       " Name: 20, dtype: object)"
      ]
     },
     "execution_count": 53,
     "metadata": {},
     "output_type": "execute_result"
    }
   ],
   "source": [
    "c"
   ]
  },
  {
   "cell_type": "code",
   "execution_count": 54,
   "metadata": {
    "collapsed": true
   },
   "outputs": [],
   "source": [
    "def getCurrentCommentsCount(testComment):\n",
    "    existingComments=df3[df3['parent']==testComment['parent']]\n",
    "    return existingComments.shape[0]"
   ]
  },
  {
   "cell_type": "code",
   "execution_count": 57,
   "metadata": {
    "collapsed": false
   },
   "outputs": [
    {
     "data": {
      "text/plain": [
       "u'1798828'"
      ]
     },
     "execution_count": 57,
     "metadata": {},
     "output_type": "execute_result"
    }
   ],
   "source": [
    "c[1]['parent']"
   ]
  },
  {
   "cell_type": "code",
   "execution_count": 58,
   "metadata": {
    "collapsed": false
   },
   "outputs": [
    {
     "data": {
      "text/plain": [
       "14"
      ]
     },
     "execution_count": 58,
     "metadata": {},
     "output_type": "execute_result"
    }
   ],
   "source": [
    "getCurrentCommentsCount(c[1])"
   ]
  },
  {
   "cell_type": "code",
   "execution_count": 47,
   "metadata": {
    "collapsed": false
   },
   "outputs": [
    {
     "name": "stdout",
     "output_type": "stream",
     "text": [
      "parent                                                1798423\n",
      "nComment                                                    2\n",
      "user                                              __MISSING__\n",
      "time                                      2014-07-04 12:20:00\n",
      "content      loolx  how in gods earth do i highlight a pos...\n",
      "relevant                                                 None\n",
      "nLikes                                                    NaN\n",
      "nShares                                                   NaN\n",
      "Name: 1, dtype: object\n"
     ]
    },
    {
     "data": {
      "text/plain": [
       "False"
      ]
     },
     "execution_count": 47,
     "metadata": {},
     "output_type": "execute_result"
    }
   ],
   "source": [
    "isCommentNew(df.iloc[1])"
   ]
  },
  {
   "cell_type": "code",
   "execution_count": 15,
   "metadata": {
    "collapsed": false
   },
   "outputs": [],
   "source": [
    "testComment=df.head(1)"
   ]
  },
  {
   "cell_type": "code",
   "execution_count": 16,
   "metadata": {
    "collapsed": false
   },
   "outputs": [
    {
     "data": {
      "text/html": [
       "<div style=\"max-height:1000px;max-width:1500px;overflow:auto;\">\n",
       "<table border=\"1\" class=\"dataframe\">\n",
       "  <thead>\n",
       "    <tr style=\"text-align: right;\">\n",
       "      <th></th>\n",
       "      <th>parent</th>\n",
       "      <th>nComment</th>\n",
       "      <th>user</th>\n",
       "      <th>time</th>\n",
       "      <th>content</th>\n",
       "      <th>relevant</th>\n",
       "      <th>nLikes</th>\n",
       "      <th>nShares</th>\n",
       "    </tr>\n",
       "  </thead>\n",
       "  <tbody>\n",
       "    <tr>\n",
       "      <th>0</th>\n",
       "      <td>1798423</td>\n",
       "      <td>1</td>\n",
       "      <td>__MISSING__</td>\n",
       "      <td>2014-07-04 12:17:00</td>\n",
       "      <td>q</td>\n",
       "      <td>None</td>\n",
       "      <td>NaN</td>\n",
       "      <td>NaN</td>\n",
       "    </tr>\n",
       "  </tbody>\n",
       "</table>\n",
       "</div>"
      ],
      "text/plain": [
       "    parent  nComment         user                time content relevant  \\\n",
       "0  1798423         1  __MISSING__ 2014-07-04 12:17:00       q     None   \n",
       "\n",
       "   nLikes  nShares  \n",
       "0     NaN      NaN  "
      ]
     },
     "execution_count": 16,
     "metadata": {},
     "output_type": "execute_result"
    }
   ],
   "source": [
    "testComment"
   ]
  },
  {
   "cell_type": "code",
   "execution_count": 18,
   "metadata": {
    "collapsed": false
   },
   "outputs": [],
   "source": [
    "existingComments=df3[df3['parent']==testComment['parent'].values[0]]"
   ]
  },
  {
   "cell_type": "code",
   "execution_count": 23,
   "metadata": {
    "collapsed": false
   },
   "outputs": [],
   "source": [
    "matching=existingComments[(existingComments['content']==testComment['content'].values[0])&\n",
    "                 (existingComments['time']==testComment['time'].values[0])]"
   ]
  },
  {
   "cell_type": "code",
   "execution_count": 24,
   "metadata": {
    "collapsed": false
   },
   "outputs": [
    {
     "data": {
      "text/plain": [
       "(1, 9)"
      ]
     },
     "execution_count": 24,
     "metadata": {},
     "output_type": "execute_result"
    }
   ],
   "source": [
    "matching.shape"
   ]
  },
  {
   "cell_type": "code",
   "execution_count": 48,
   "metadata": {
    "collapsed": true
   },
   "outputs": [],
   "source": [
    "def isCommentNew(testComment):\n",
    "#    print testComment\n",
    "    existingComments=df3[df3['parent']==testComment['parent']]\n",
    "    matching=existingComments[(existingComments['content']==testComment['content'])&\n",
    "                 (existingComments['time']==testComment['time'])]\n",
    "    if matching.shape[0]>0:\n",
    "        return False\n",
    "    return True"
   ]
  },
  {
   "cell_type": "code",
   "execution_count": null,
   "metadata": {
    "collapsed": true
   },
   "outputs": [],
   "source": []
  }
 ],
 "metadata": {
  "kernelspec": {
   "display_name": "Python 2",
   "language": "python",
   "name": "python2"
  },
  "language_info": {
   "codemirror_mode": {
    "name": "ipython",
    "version": 2
   },
   "file_extension": ".py",
   "mimetype": "text/x-python",
   "name": "python",
   "nbconvert_exporter": "python",
   "pygments_lexer": "ipython2",
   "version": "2.7.9"
  }
 },
 "nbformat": 4,
 "nbformat_minor": 0
}
