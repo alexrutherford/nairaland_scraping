{
 "cells": [
  {
   "cell_type": "code",
   "execution_count": 1,
   "metadata": {
    "collapsed": true
   },
   "outputs": [],
   "source": [
    "from db_connections import *"
   ]
  },
  {
   "cell_type": "code",
   "execution_count": 2,
   "metadata": {
    "collapsed": true
   },
   "outputs": [],
   "source": [
    "import pymysql,sys\n",
    "import seaborn as sns\n",
    "import pandas as pd\n",
    "from dateutil import parser\n",
    "import matplotlib.pyplot as plt\n",
    "%matplotlib inline"
   ]
  },
  {
   "cell_type": "code",
   "execution_count": 3,
   "metadata": {
    "collapsed": false
   },
   "outputs": [
    {
     "data": {
      "text/plain": [
       "<matplotlib.figure.Figure at 0x7f76c5ca5590>"
      ]
     },
     "metadata": {},
     "output_type": "display_data"
    }
   ],
   "source": [
    "sns.set_style(\"white\")\n",
    "sns.despine()\n",
    "sns.set_context(\"notebook\", font_scale=2.0, rc={\"lines.linewidth\": 2.5})"
   ]
  },
  {
   "cell_type": "code",
   "execution_count": 6,
   "metadata": {
    "collapsed": false
   },
   "outputs": [],
   "source": [
    "tablesDf=pd.read_sql_query('show tables',conn)"
   ]
  },
  {
   "cell_type": "code",
   "execution_count": 21,
   "metadata": {
    "collapsed": false
   },
   "outputs": [
    {
     "name": "stdout",
     "output_type": "stream",
     "text": [
      "comments\n",
      "2991873\n",
      "------------\n",
      "comments2\n",
      "2991873\n",
      "------------\n",
      "comments3\n",
      "3021496\n",
      "------------\n",
      "comments_2013\n",
      "2969082\n",
      "------------\n",
      "comments_updated\n",
      "106791\n",
      "------------\n",
      "following\n",
      "348499\n",
      "------------\n",
      "following_2013\n",
      "157473\n",
      "------------\n",
      "following_new\n",
      "170236\n",
      "------------\n",
      "post_topics\n",
      "233129\n",
      "------------\n",
      "post_topics_2013\n",
      "225846\n",
      "------------\n",
      "posts\n",
      "0\n",
      "------------\n",
      "posts2\n",
      "224764\n",
      "------------\n",
      "posts3\n",
      "224771\n",
      "------------\n",
      "posts_2013\n",
      "220168\n",
      "------------\n",
      "test\n",
      "1\n",
      "------------\n",
      "users\n",
      "87447\n",
      "------------\n",
      "users_2013\n",
      "0\n",
      "------------\n",
      "users_new\n",
      "47488\n",
      "------------\n"
     ]
    }
   ],
   "source": [
    "for row in tablesDf.itertuples():\n",
    "    resDf=pd.read_sql_query('select count(*) from '+row[1],conn)\n",
    "    print row[1]\n",
    "    print resDf.values[0][0]\n",
    "    print '------------'"
   ]
  },
  {
   "cell_type": "code",
   "execution_count": null,
   "metadata": {
    "collapsed": true
   },
   "outputs": [],
   "source": []
  }
 ],
 "metadata": {
  "kernelspec": {
   "display_name": "Python 2",
   "language": "python",
   "name": "python2"
  },
  "language_info": {
   "codemirror_mode": {
    "name": "ipython",
    "version": 2
   },
   "file_extension": ".py",
   "mimetype": "text/x-python",
   "name": "python",
   "nbconvert_exporter": "python",
   "pygments_lexer": "ipython2",
   "version": "2.7.9"
  }
 },
 "nbformat": 4,
 "nbformat_minor": 0
}
