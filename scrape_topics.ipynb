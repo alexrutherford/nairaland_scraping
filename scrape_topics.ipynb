{
 "metadata": {
  "name": "",
  "signature": "sha256:aace7fe1b1bc25941571f6acbd0ac3fcf1c389fe96a788cd77437f9fbcc481ff"
 },
 "nbformat": 3,
 "nbformat_minor": 0,
 "worksheets": [
  {
   "cells": [
    {
     "cell_type": "code",
     "collapsed": false,
     "input": [
      "from bs4 import BeautifulSoup\n",
      "import urllib,urllib2,re,csv\n",
      "import pymysql,sys\n",
      "import glob"
     ],
     "language": "python",
     "metadata": {},
     "outputs": [],
     "prompt_number": 84
    },
    {
     "cell_type": "code",
     "collapsed": false,
     "input": [
      "conn = pymysql.connect(host='localhost',user='root',passwd='pulsetini', db='nairaland',charset='utf8')\n",
      "cur = conn.cursor()\n",
      "cur2 = conn.cursor()"
     ],
     "language": "python",
     "metadata": {},
     "outputs": [],
     "prompt_number": 81
    },
    {
     "cell_type": "code",
     "collapsed": false,
     "input": [
      "def getLocalContent(url):\n",
      "    with open(url,'r') as inFile:\n",
      "        content=inFile.read()\n",
      "    return BeautifulSoup(content)"
     ],
     "language": "python",
     "metadata": {},
     "outputs": [],
     "prompt_number": 64
    },
    {
     "cell_type": "code",
     "collapsed": false,
     "input": [
      "def getContent(url):\n",
      "    content=urllib2.urlopen(url).read()\n",
      "#    content=f.read()\n",
      "    print 'c:',content\n",
      "    return BeautifulSoup(content)"
     ],
     "language": "python",
     "metadata": {},
     "outputs": [],
     "prompt_number": 51
    },
    {
     "cell_type": "code",
     "collapsed": false,
     "input": [
      "homePageContent=getContent('nairaland_featured.html')"
     ],
     "language": "python",
     "metadata": {},
     "outputs": [],
     "prompt_number": 18
    },
    {
     "cell_type": "code",
     "collapsed": false,
     "input": [
      "r=homePageContent.find('td',attrs={'class':'l w'})"
     ],
     "language": "python",
     "metadata": {},
     "outputs": [],
     "prompt_number": 19
    },
    {
     "cell_type": "code",
     "collapsed": false,
     "input": [
      "res=homePageContent.findAll('td',attrs={'class':'l w'})"
     ],
     "language": "python",
     "metadata": {},
     "outputs": [],
     "prompt_number": 22
    },
    {
     "cell_type": "code",
     "collapsed": false,
     "input": [
      "a=r.findAll('a')"
     ],
     "language": "python",
     "metadata": {},
     "outputs": [],
     "prompt_number": 27
    },
    {
     "cell_type": "code",
     "collapsed": false,
     "input": [
      "topicLinks=['http://www.nairaland.com'+aa.get('href') for aa in a]"
     ],
     "language": "python",
     "metadata": {},
     "outputs": [],
     "prompt_number": 31
    },
    {
     "cell_type": "code",
     "collapsed": false,
     "input": [
      "def getPostIds(link,v=False):\n",
      "    if v:print link\n",
      "    topicContent=getContent(link)\n",
      "    print topicContent\n",
      "    allAs=topicContent.find_all('a')\n",
      "    return [a.get('href') for a in allAs]\n",
      "    return [a.get('href') for a in allAs if re.search(r'/[0-9]{7,7}/',a.get('href'))]"
     ],
     "language": "python",
     "metadata": {},
     "outputs": [],
     "prompt_number": 43
    },
    {
     "cell_type": "code",
     "collapsed": false,
     "input": [
      "urllib2.urlopen('http://www.nairaland.com/politics').read()"
     ],
     "language": "python",
     "metadata": {},
     "outputs": [
      {
       "metadata": {},
       "output_type": "pyout",
       "prompt_number": 57,
       "text": [
        "''"
       ]
      }
     ],
     "prompt_number": 57
    },
    {
     "cell_type": "code",
     "collapsed": false,
     "input": [
      "getPostIds(topicLinks[2],v=True)"
     ],
     "language": "python",
     "metadata": {},
     "outputs": [
      {
       "output_type": "stream",
       "stream": "stdout",
       "text": [
        "http://www.nairaland.com/crime\n",
        "c:"
       ]
      },
      {
       "output_type": "stream",
       "stream": "stdout",
       "text": [
        " \n",
        "\n"
       ]
      },
      {
       "metadata": {},
       "output_type": "pyout",
       "prompt_number": 52,
       "text": [
        "[]"
       ]
      }
     ],
     "prompt_number": 52
    },
    {
     "cell_type": "code",
     "collapsed": false,
     "input": [
      "for aa in a:\n",
      "    print aa.get('href')"
     ],
     "language": "python",
     "metadata": {},
     "outputs": [
      {
       "output_type": "stream",
       "stream": "stdout",
       "text": [
        "/nairaland\n",
        "/politics\n",
        "/crime\n",
        "/romance\n",
        "/jobs\n",
        "/career\n",
        "/business\n",
        "/investment\n",
        "/nysc\n",
        "/education\n",
        "/autos\n",
        "/cartalk\n",
        "/properties\n",
        "/health\n",
        "/travel\n",
        "/family\n",
        "/culture\n",
        "/religion\n",
        "/food\n",
        "/diaries\n",
        "/ads\n",
        "/pets\n",
        "/agriculture\n"
       ]
      }
     ],
     "prompt_number": 29
    },
    {
     "cell_type": "heading",
     "level": 6,
     "metadata": {},
     "source": [
      "Try Using Already Gotten Files"
     ]
    },
    {
     "cell_type": "code",
     "collapsed": false,
     "input": [
      "files=glob.glob('TEXT/*')\n",
      "files=[f for f in files if not re.search('_',f)]\n",
      "# Get rid of all but first pages fr each post"
     ],
     "language": "python",
     "metadata": {},
     "outputs": [],
     "prompt_number": 82
    },
    {
     "cell_type": "code",
     "collapsed": false,
     "input": [
      "outFile=csv.writer(open('post_topics.tsv','w'))\n",
      "\n",
      "nMissing=0\n",
      "\n",
      "for file_ in files:\n",
      "    index=file_.strip('.html')\n",
      "    index=index.strip('TEXT/')\n",
      "#    print file_,index,\n",
      "    localContent=getLocalContent(file_)\n",
      "\n",
      "    \n",
      "    try:\n",
      "        header=localContent.find_all('h2')[0].text\n",
      "        if not header=='This topic has been removed or hidden':\n",
      "            topic=header.split('-')[-2]\n",
      "            outFile.writerow([index,topic])\n",
      "        else:\n",
      "#            print index\n",
      "            nMissing+=1\n",
      "    except:\n",
      "        print 'ERROR PARSING',index\n",
      "        \n",
      "print nMissing"
     ],
     "language": "python",
     "metadata": {},
     "outputs": [
      {
       "output_type": "stream",
       "stream": "stdout",
       "text": [
        "ERROR PARSING 1908103\n",
        "ERROR PARSING"
       ]
      },
      {
       "output_type": "stream",
       "stream": "stdout",
       "text": [
        " 1942277\n",
        "ERROR PARSING"
       ]
      },
      {
       "output_type": "stream",
       "stream": "stdout",
       "text": [
        " 1915357\n",
        "ERROR PARSING"
       ]
      },
      {
       "output_type": "stream",
       "stream": "stdout",
       "text": [
        " 1949051\n",
        "ERROR PARSING"
       ]
      },
      {
       "output_type": "stream",
       "stream": "stdout",
       "text": [
        " 1964700\n",
        "ERROR PARSING"
       ]
      },
      {
       "output_type": "stream",
       "stream": "stdout",
       "text": [
        " 1821227\n",
        "ERROR PARSING"
       ]
      },
      {
       "output_type": "stream",
       "stream": "stdout",
       "text": [
        " 1954702\n",
        "ERROR PARSING 1891324\n",
        "ERROR PARSING"
       ]
      },
      {
       "output_type": "stream",
       "stream": "stdout",
       "text": [
        " 1847260\n",
        "ERROR PARSING"
       ]
      },
      {
       "output_type": "stream",
       "stream": "stdout",
       "text": [
        " 1967509\n",
        "ERROR PARSING"
       ]
      },
      {
       "output_type": "stream",
       "stream": "stdout",
       "text": [
        " 1972827\n",
        "ERROR PARSING"
       ]
      },
      {
       "output_type": "stream",
       "stream": "stdout",
       "text": [
        " 1969722\n",
        "ERROR PARSING"
       ]
      },
      {
       "output_type": "stream",
       "stream": "stdout",
       "text": [
        " 1877298\n",
        "ERROR PARSING"
       ]
      },
      {
       "output_type": "stream",
       "stream": "stdout",
       "text": [
        " 1951566\n",
        "ERROR PARSING"
       ]
      },
      {
       "output_type": "stream",
       "stream": "stdout",
       "text": [
        " 1967332\n",
        "ERROR PARSING"
       ]
      },
      {
       "output_type": "stream",
       "stream": "stdout",
       "text": [
        " 1942429\n",
        "ERROR PARSING"
       ]
      },
      {
       "output_type": "stream",
       "stream": "stdout",
       "text": [
        " 1886323\n",
        "ERROR PARSING"
       ]
      },
      {
       "output_type": "stream",
       "stream": "stdout",
       "text": [
        " 1871864\n",
        "ERROR PARSING"
       ]
      },
      {
       "output_type": "stream",
       "stream": "stdout",
       "text": [
        " 1907781\n",
        "ERROR PARSING"
       ]
      },
      {
       "output_type": "stream",
       "stream": "stdout",
       "text": [
        " 1797716\n",
        "ERROR PARSING"
       ]
      },
      {
       "output_type": "stream",
       "stream": "stdout",
       "text": [
        " 1901236\n",
        "ERROR PARSING"
       ]
      },
      {
       "output_type": "stream",
       "stream": "stdout",
       "text": [
        " 1952644\n",
        "ERROR PARSING"
       ]
      },
      {
       "output_type": "stream",
       "stream": "stdout",
       "text": [
        " 1973860\n",
        "ERROR PARSING"
       ]
      },
      {
       "output_type": "stream",
       "stream": "stdout",
       "text": [
        " 1968196\n",
        "ERROR PARSING"
       ]
      },
      {
       "output_type": "stream",
       "stream": "stdout",
       "text": [
        " 1899412\n",
        "ERROR PARSING"
       ]
      },
      {
       "output_type": "stream",
       "stream": "stdout",
       "text": [
        " 1871252\n",
        "ERROR PARSING"
       ]
      },
      {
       "output_type": "stream",
       "stream": "stdout",
       "text": [
        " 1904712\n",
        "ERROR PARSING"
       ]
      },
      {
       "output_type": "stream",
       "stream": "stdout",
       "text": [
        " 1870048\n",
        "ERROR PARSING"
       ]
      },
      {
       "output_type": "stream",
       "stream": "stdout",
       "text": [
        " 1971535\n",
        "ERROR PARSING"
       ]
      },
      {
       "output_type": "stream",
       "stream": "stdout",
       "text": [
        " 1887004\n",
        "ERROR PARSING"
       ]
      },
      {
       "output_type": "stream",
       "stream": "stdout",
       "text": [
        " 1966540\n",
        "ERROR PARSING"
       ]
      },
      {
       "output_type": "stream",
       "stream": "stdout",
       "text": [
        " 2043746\n",
        "ERROR PARSING"
       ]
      },
      {
       "output_type": "stream",
       "stream": "stdout",
       "text": [
        " 1917988\n",
        "ERROR PARSING"
       ]
      },
      {
       "output_type": "stream",
       "stream": "stdout",
       "text": [
        " 1869047\n",
        "ERROR PARSING"
       ]
      },
      {
       "output_type": "stream",
       "stream": "stdout",
       "text": [
        " 1871405\n",
        "ERROR PARSING"
       ]
      },
      {
       "output_type": "stream",
       "stream": "stdout",
       "text": [
        " 1824288\n",
        "ERROR PARSING"
       ]
      },
      {
       "output_type": "stream",
       "stream": "stdout",
       "text": [
        " 1802687\n",
        "ERROR PARSING"
       ]
      },
      {
       "output_type": "stream",
       "stream": "stdout",
       "text": [
        " 1894713\n",
        "ERROR PARSING"
       ]
      },
      {
       "output_type": "stream",
       "stream": "stdout",
       "text": [
        " 1965413\n",
        "ERROR PARSING"
       ]
      },
      {
       "output_type": "stream",
       "stream": "stdout",
       "text": [
        " 1954195\n",
        "ERROR PARSING"
       ]
      },
      {
       "output_type": "stream",
       "stream": "stdout",
       "text": [
        " 1901090\n",
        "ERROR PARSING"
       ]
      },
      {
       "output_type": "stream",
       "stream": "stdout",
       "text": [
        " 1895776\n",
        "ERROR PARSING"
       ]
      },
      {
       "output_type": "stream",
       "stream": "stdout",
       "text": [
        " 1924938\n",
        "ERROR PARSING"
       ]
      },
      {
       "output_type": "stream",
       "stream": "stdout",
       "text": [
        " 1965740\n",
        "ERROR PARSING"
       ]
      },
      {
       "output_type": "stream",
       "stream": "stdout",
       "text": [
        " 1875925\n",
        "ERROR PARSING"
       ]
      },
      {
       "output_type": "stream",
       "stream": "stdout",
       "text": [
        " 1792790\n",
        "ERROR PARSING"
       ]
      },
      {
       "output_type": "stream",
       "stream": "stdout",
       "text": [
        " 1964591\n",
        "ERROR PARSING"
       ]
      },
      {
       "output_type": "stream",
       "stream": "stdout",
       "text": [
        " 1877318\n",
        "ERROR PARSING"
       ]
      },
      {
       "output_type": "stream",
       "stream": "stdout",
       "text": [
        " 1941167\n",
        "ERROR PARSING"
       ]
      },
      {
       "output_type": "stream",
       "stream": "stdout",
       "text": [
        " 1965839\n",
        "ERROR PARSING"
       ]
      },
      {
       "output_type": "stream",
       "stream": "stdout",
       "text": [
        " 1830133\n",
        "ERROR PARSING"
       ]
      },
      {
       "output_type": "stream",
       "stream": "stdout",
       "text": [
        " 1855685\n",
        "ERROR PARSING"
       ]
      },
      {
       "output_type": "stream",
       "stream": "stdout",
       "text": [
        " 1972629\n",
        "ERROR PARSING"
       ]
      },
      {
       "output_type": "stream",
       "stream": "stdout",
       "text": [
        " 1909819\n",
        "ERROR PARSING"
       ]
      },
      {
       "output_type": "stream",
       "stream": "stdout",
       "text": [
        " 1850161\n",
        "ERROR PARSING"
       ]
      },
      {
       "output_type": "stream",
       "stream": "stdout",
       "text": [
        " 1903197\n",
        "ERROR PARSING"
       ]
      },
      {
       "output_type": "stream",
       "stream": "stdout",
       "text": [
        " 1791111\n",
        "ERROR PARSING 1940136\n",
        "ERROR PARSING"
       ]
      },
      {
       "output_type": "stream",
       "stream": "stdout",
       "text": [
        " 1849794\n",
        "ERROR PARSING"
       ]
      },
      {
       "output_type": "stream",
       "stream": "stdout",
       "text": [
        " 1971754\n",
        "ERROR PARSING"
       ]
      },
      {
       "output_type": "stream",
       "stream": "stdout",
       "text": [
        " 1868626\n",
        "ERROR PARSING"
       ]
      },
      {
       "output_type": "stream",
       "stream": "stdout",
       "text": [
        " 1937237\n",
        "ERROR PARSING"
       ]
      },
      {
       "output_type": "stream",
       "stream": "stdout",
       "text": [
        " 1865124\n",
        "ERROR PARSING"
       ]
      },
      {
       "output_type": "stream",
       "stream": "stdout",
       "text": [
        " 1906612\n",
        "ERROR PARSING"
       ]
      },
      {
       "output_type": "stream",
       "stream": "stdout",
       "text": [
        " 1850249\n",
        "ERROR PARSING"
       ]
      },
      {
       "output_type": "stream",
       "stream": "stdout",
       "text": [
        " 1968726\n",
        "ERROR PARSING"
       ]
      },
      {
       "output_type": "stream",
       "stream": "stdout",
       "text": [
        " 1968244\n",
        "ERROR PARSING"
       ]
      },
      {
       "output_type": "stream",
       "stream": "stdout",
       "text": [
        " 1862126\n",
        "ERROR PARSING"
       ]
      },
      {
       "output_type": "stream",
       "stream": "stdout",
       "text": [
        " 1960504\n",
        "ERROR PARSING"
       ]
      },
      {
       "output_type": "stream",
       "stream": "stdout",
       "text": [
        " 1935114\n",
        "ERROR PARSING"
       ]
      },
      {
       "output_type": "stream",
       "stream": "stdout",
       "text": [
        " 1969069\n",
        "ERROR PARSING"
       ]
      },
      {
       "output_type": "stream",
       "stream": "stdout",
       "text": [
        " 1941577\n",
        "ERROR PARSING 1956573\n",
        "ERROR PARSING"
       ]
      },
      {
       "output_type": "stream",
       "stream": "stdout",
       "text": [
        " 1866979\n",
        "ERROR PARSING"
       ]
      },
      {
       "output_type": "stream",
       "stream": "stdout",
       "text": [
        " 1924323\n",
        "ERROR PARSING"
       ]
      },
      {
       "output_type": "stream",
       "stream": "stdout",
       "text": [
        " 1968551\n",
        "ERROR PARSING"
       ]
      },
      {
       "output_type": "stream",
       "stream": "stdout",
       "text": [
        " 1834987\n",
        "ERROR PARSING"
       ]
      },
      {
       "output_type": "stream",
       "stream": "stdout",
       "text": [
        " 1882490\n",
        "ERROR PARSING"
       ]
      },
      {
       "output_type": "stream",
       "stream": "stdout",
       "text": [
        " 1816839\n",
        "ERROR PARSING"
       ]
      },
      {
       "output_type": "stream",
       "stream": "stdout",
       "text": [
        " 1953422\n",
        "ERROR PARSING 1925080\n",
        "ERROR PARSING"
       ]
      },
      {
       "output_type": "stream",
       "stream": "stdout",
       "text": [
        " 1883757\n",
        "ERROR PARSING"
       ]
      },
      {
       "output_type": "stream",
       "stream": "stdout",
       "text": [
        " 1895996\n",
        "ERROR PARSING"
       ]
      },
      {
       "output_type": "stream",
       "stream": "stdout",
       "text": [
        " 1918322\n",
        "ERROR PARSING"
       ]
      },
      {
       "output_type": "stream",
       "stream": "stdout",
       "text": [
        " 1822286\n",
        "ERROR PARSING"
       ]
      },
      {
       "output_type": "stream",
       "stream": "stdout",
       "text": [
        " 1873988\n",
        "ERROR PARSING"
       ]
      },
      {
       "output_type": "stream",
       "stream": "stdout",
       "text": [
        " 1889227\n",
        "ERROR PARSING"
       ]
      },
      {
       "output_type": "stream",
       "stream": "stdout",
       "text": [
        " 1957547\n",
        "ERROR PARSING"
       ]
      },
      {
       "output_type": "stream",
       "stream": "stdout",
       "text": [
        " 1819683\n",
        "ERROR PARSING"
       ]
      },
      {
       "output_type": "stream",
       "stream": "stdout",
       "text": [
        " 1919639\n",
        "ERROR PARSING"
       ]
      },
      {
       "output_type": "stream",
       "stream": "stdout",
       "text": [
        " 1872078\n",
        "ERROR PARSING"
       ]
      },
      {
       "output_type": "stream",
       "stream": "stdout",
       "text": [
        " 1812924\n",
        "ERROR PARSING"
       ]
      },
      {
       "output_type": "stream",
       "stream": "stdout",
       "text": [
        " 1951730\n",
        "ERROR PARSING"
       ]
      },
      {
       "output_type": "stream",
       "stream": "stdout",
       "text": [
        " 1951820\n",
        "ERROR PARSING"
       ]
      },
      {
       "output_type": "stream",
       "stream": "stdout",
       "text": [
        " 1858590\n",
        "ERROR PARSING"
       ]
      },
      {
       "output_type": "stream",
       "stream": "stdout",
       "text": [
        " 1848251\n",
        "ERROR PARSING"
       ]
      },
      {
       "output_type": "stream",
       "stream": "stdout",
       "text": [
        " 1819439\n",
        "ERROR PARSING"
       ]
      },
      {
       "output_type": "stream",
       "stream": "stdout",
       "text": [
        " 1917683\n",
        "ERROR PARSING"
       ]
      },
      {
       "output_type": "stream",
       "stream": "stdout",
       "text": [
        " 1891204\n",
        "ERROR PARSING"
       ]
      },
      {
       "output_type": "stream",
       "stream": "stdout",
       "text": [
        " 1916829\n",
        "ERROR PARSING 1792879\n",
        "ERROR PARSING"
       ]
      },
      {
       "output_type": "stream",
       "stream": "stdout",
       "text": [
        " 1952060\n",
        "ERROR PARSING"
       ]
      },
      {
       "output_type": "stream",
       "stream": "stdout",
       "text": [
        " 1938550\n",
        "ERROR PARSING"
       ]
      },
      {
       "output_type": "stream",
       "stream": "stdout",
       "text": [
        " 1882835\n",
        "ERROR PARSING"
       ]
      },
      {
       "output_type": "stream",
       "stream": "stdout",
       "text": [
        " 1876595\n",
        "ERROR PARSING"
       ]
      },
      {
       "output_type": "stream",
       "stream": "stdout",
       "text": [
        " 1898333\n",
        "ERROR PARSING"
       ]
      },
      {
       "output_type": "stream",
       "stream": "stdout",
       "text": [
        " 1825370\n",
        "ERROR PARSING"
       ]
      },
      {
       "output_type": "stream",
       "stream": "stdout",
       "text": [
        " 1837971\n",
        "ERROR PARSING"
       ]
      },
      {
       "output_type": "stream",
       "stream": "stdout",
       "text": [
        " 1865063\n",
        "ERROR PARSING"
       ]
      },
      {
       "output_type": "stream",
       "stream": "stdout",
       "text": [
        " 1928240\n",
        "ERROR PARSING"
       ]
      },
      {
       "output_type": "stream",
       "stream": "stdout",
       "text": [
        " 1884296\n",
        "ERROR PARSING"
       ]
      },
      {
       "output_type": "stream",
       "stream": "stdout",
       "text": [
        " 1951508\n",
        "ERROR PARSING"
       ]
      },
      {
       "output_type": "stream",
       "stream": "stdout",
       "text": [
        " 1823214\n",
        "ERROR PARSING"
       ]
      },
      {
       "output_type": "stream",
       "stream": "stdout",
       "text": [
        " 1887208\n",
        "ERROR PARSING"
       ]
      },
      {
       "output_type": "stream",
       "stream": "stdout",
       "text": [
        " 1907802\n",
        "ERROR PARSING"
       ]
      },
      {
       "output_type": "stream",
       "stream": "stdout",
       "text": [
        " 1948989\n",
        "ERROR PARSING"
       ]
      },
      {
       "output_type": "stream",
       "stream": "stdout",
       "text": [
        " 1800621\n",
        "ERROR PARSING"
       ]
      },
      {
       "output_type": "stream",
       "stream": "stdout",
       "text": [
        " 1856447\n",
        "ERROR PARSING"
       ]
      },
      {
       "output_type": "stream",
       "stream": "stdout",
       "text": [
        " 1971950\n",
        "ERROR PARSING"
       ]
      },
      {
       "output_type": "stream",
       "stream": "stdout",
       "text": [
        " 1793091\n",
        "ERROR PARSING"
       ]
      },
      {
       "output_type": "stream",
       "stream": "stdout",
       "text": [
        " 1966585\n",
        "ERROR PARSING"
       ]
      },
      {
       "output_type": "stream",
       "stream": "stdout",
       "text": [
        " 1901262\n",
        "ERROR PARSING"
       ]
      },
      {
       "output_type": "stream",
       "stream": "stdout",
       "text": [
        " 1792488\n",
        "ERROR PARSING"
       ]
      },
      {
       "output_type": "stream",
       "stream": "stdout",
       "text": [
        " 1958832\n",
        "ERROR PARSING"
       ]
      },
      {
       "output_type": "stream",
       "stream": "stdout",
       "text": [
        " 1865136\n",
        "ERROR PARSING"
       ]
      },
      {
       "output_type": "stream",
       "stream": "stdout",
       "text": [
        " 1972182\n",
        "ERROR PARSING"
       ]
      },
      {
       "output_type": "stream",
       "stream": "stdout",
       "text": [
        " 1893417\n",
        "ERROR PARSING"
       ]
      },
      {
       "output_type": "stream",
       "stream": "stdout",
       "text": [
        " 1960375\n",
        "ERROR PARSING"
       ]
      },
      {
       "output_type": "stream",
       "stream": "stdout",
       "text": [
        " 1957863\n",
        "ERROR PARSING"
       ]
      },
      {
       "output_type": "stream",
       "stream": "stdout",
       "text": [
        " 1943101\n",
        "ERROR PARSING"
       ]
      },
      {
       "output_type": "stream",
       "stream": "stdout",
       "text": [
        " 1905046\n",
        "ERROR PARSING"
       ]
      },
      {
       "output_type": "stream",
       "stream": "stdout",
       "text": [
        " 1832679\n",
        "ERROR PARSING"
       ]
      },
      {
       "output_type": "stream",
       "stream": "stdout",
       "text": [
        " 1966999\n",
        "ERROR PARSING"
       ]
      },
      {
       "output_type": "stream",
       "stream": "stdout",
       "text": [
        " 1793143\n",
        "ERROR PARSING"
       ]
      },
      {
       "output_type": "stream",
       "stream": "stdout",
       "text": [
        " 1972077\n",
        "ERROR PARSING"
       ]
      },
      {
       "output_type": "stream",
       "stream": "stdout",
       "text": [
        " 1796499\n",
        "ERROR PARSING"
       ]
      },
      {
       "output_type": "stream",
       "stream": "stdout",
       "text": [
        " 1972446\n",
        "ERROR PARSING"
       ]
      },
      {
       "output_type": "stream",
       "stream": "stdout",
       "text": [
        " 1814885\n",
        "ERROR PARSING"
       ]
      },
      {
       "output_type": "stream",
       "stream": "stdout",
       "text": [
        " 1881513\n",
        "ERROR PARSING"
       ]
      },
      {
       "output_type": "stream",
       "stream": "stdout",
       "text": [
        " 1962364\n",
        "ERROR PARSING"
       ]
      },
      {
       "output_type": "stream",
       "stream": "stdout",
       "text": [
        " 1956411\n",
        "ERROR PARSING"
       ]
      },
      {
       "output_type": "stream",
       "stream": "stdout",
       "text": [
        " 1973555\n",
        "ERROR PARSING 1969857\n",
        "ERROR PARSING"
       ]
      },
      {
       "output_type": "stream",
       "stream": "stdout",
       "text": [
        " 1791919\n",
        "ERROR PARSING"
       ]
      },
      {
       "output_type": "stream",
       "stream": "stdout",
       "text": [
        " 1816477\n",
        "ERROR PARSING"
       ]
      },
      {
       "output_type": "stream",
       "stream": "stdout",
       "text": [
        " 1909997\n",
        "ERROR PARSING"
       ]
      },
      {
       "output_type": "stream",
       "stream": "stdout",
       "text": [
        " 1866188\n",
        "ERROR PARSING"
       ]
      },
      {
       "output_type": "stream",
       "stream": "stdout",
       "text": [
        " 1972378\n",
        "ERROR PARSING"
       ]
      },
      {
       "output_type": "stream",
       "stream": "stdout",
       "text": [
        " 1829470\n",
        "ERROR PARSING"
       ]
      },
      {
       "output_type": "stream",
       "stream": "stdout",
       "text": [
        " 1792011\n",
        "ERROR PARSING"
       ]
      },
      {
       "output_type": "stream",
       "stream": "stdout",
       "text": [
        " 2043748\n",
        "ERROR PARSING"
       ]
      },
      {
       "output_type": "stream",
       "stream": "stdout",
       "text": [
        " 1876597\n",
        "ERROR PARSING"
       ]
      },
      {
       "output_type": "stream",
       "stream": "stdout",
       "text": [
        " 1886565\n",
        "ERROR PARSING"
       ]
      },
      {
       "output_type": "stream",
       "stream": "stdout",
       "text": [
        " 1968813\n",
        "ERROR PARSING"
       ]
      },
      {
       "output_type": "stream",
       "stream": "stdout",
       "text": [
        " 1946335\n",
        "ERROR PARSING"
       ]
      },
      {
       "output_type": "stream",
       "stream": "stdout",
       "text": [
        " 1973595\n",
        "ERROR PARSING"
       ]
      },
      {
       "output_type": "stream",
       "stream": "stdout",
       "text": [
        " 1941465\n",
        "ERROR PARSING"
       ]
      },
      {
       "output_type": "stream",
       "stream": "stdout",
       "text": [
        " 1934767\n",
        "ERROR PARSING"
       ]
      },
      {
       "output_type": "stream",
       "stream": "stdout",
       "text": [
        " 1845442\n",
        "ERROR PARSING"
       ]
      },
      {
       "output_type": "stream",
       "stream": "stdout",
       "text": [
        " 1897226\n",
        "ERROR PARSING"
       ]
      },
      {
       "output_type": "stream",
       "stream": "stdout",
       "text": [
        " 1888859\n",
        "ERROR PARSING"
       ]
      },
      {
       "output_type": "stream",
       "stream": "stdout",
       "text": [
        " 1925274\n",
        "ERROR PARSING"
       ]
      },
      {
       "output_type": "stream",
       "stream": "stdout",
       "text": [
        " 1966961\n",
        "ERROR PARSING"
       ]
      },
      {
       "output_type": "stream",
       "stream": "stdout",
       "text": [
        " 1930489\n",
        "ERROR PARSING"
       ]
      },
      {
       "output_type": "stream",
       "stream": "stdout",
       "text": [
        " 1846606\n",
        "ERROR PARSING"
       ]
      },
      {
       "output_type": "stream",
       "stream": "stdout",
       "text": [
        " 1906453\n",
        "ERROR PARSING"
       ]
      },
      {
       "output_type": "stream",
       "stream": "stdout",
       "text": [
        " 1948259\n",
        "ERROR PARSING"
       ]
      },
      {
       "output_type": "stream",
       "stream": "stdout",
       "text": [
        " 1906983\n",
        "ERROR PARSING"
       ]
      },
      {
       "output_type": "stream",
       "stream": "stdout",
       "text": [
        " 1914462\n",
        "ERROR PARSING"
       ]
      },
      {
       "output_type": "stream",
       "stream": "stdout",
       "text": [
        " 1912567\n",
        "ERROR PARSING"
       ]
      },
      {
       "output_type": "stream",
       "stream": "stdout",
       "text": [
        " 1887609\n",
        "ERROR PARSING"
       ]
      },
      {
       "output_type": "stream",
       "stream": "stdout",
       "text": [
        " 1963927\n",
        "ERROR PARSING"
       ]
      },
      {
       "output_type": "stream",
       "stream": "stdout",
       "text": [
        " 1865709\n",
        "ERROR PARSING"
       ]
      },
      {
       "output_type": "stream",
       "stream": "stdout",
       "text": [
        " 1896104\n",
        "ERROR PARSING"
       ]
      },
      {
       "output_type": "stream",
       "stream": "stdout",
       "text": [
        " 1901284\n",
        "ERROR PARSING"
       ]
      },
      {
       "output_type": "stream",
       "stream": "stdout",
       "text": [
        " 1965969\n",
        "ERROR PARSING"
       ]
      },
      {
       "output_type": "stream",
       "stream": "stdout",
       "text": [
        " 1874584\n",
        "ERROR PARSING"
       ]
      },
      {
       "output_type": "stream",
       "stream": "stdout",
       "text": [
        " 1934420\n",
        "ERROR PARSING"
       ]
      },
      {
       "output_type": "stream",
       "stream": "stdout",
       "text": [
        " 1972756\n",
        "ERROR PARSING"
       ]
      },
      {
       "output_type": "stream",
       "stream": "stdout",
       "text": [
        " 1924422\n",
        "ERROR PARSING"
       ]
      },
      {
       "output_type": "stream",
       "stream": "stdout",
       "text": [
        " 1911260\n",
        "ERROR PARSING"
       ]
      },
      {
       "output_type": "stream",
       "stream": "stdout",
       "text": [
        " 1814496\n",
        "ERROR PARSING"
       ]
      },
      {
       "output_type": "stream",
       "stream": "stdout",
       "text": [
        " 1872146\n",
        "ERROR PARSING"
       ]
      },
      {
       "output_type": "stream",
       "stream": "stdout",
       "text": [
        " 1973581\n",
        "ERROR PARSING"
       ]
      },
      {
       "output_type": "stream",
       "stream": "stdout",
       "text": [
        " 1939794\n",
        "ERROR PARSING"
       ]
      },
      {
       "output_type": "stream",
       "stream": "stdout",
       "text": [
        " 1964033\n",
        "ERROR PARSING"
       ]
      },
      {
       "output_type": "stream",
       "stream": "stdout",
       "text": [
        " 1899201\n",
        "ERROR PARSING"
       ]
      },
      {
       "output_type": "stream",
       "stream": "stdout",
       "text": [
        " 1937302\n",
        "ERROR PARSING"
       ]
      },
      {
       "output_type": "stream",
       "stream": "stdout",
       "text": [
        " 1824789\n",
        "ERROR PARSING"
       ]
      },
      {
       "output_type": "stream",
       "stream": "stdout",
       "text": [
        " 1911234\n",
        "ERROR PARSING"
       ]
      },
      {
       "output_type": "stream",
       "stream": "stdout",
       "text": [
        " 1894028\n",
        "ERROR PARSING"
       ]
      },
      {
       "output_type": "stream",
       "stream": "stdout",
       "text": [
        " 1843531\n",
        "ERROR PARSING"
       ]
      },
      {
       "output_type": "stream",
       "stream": "stdout",
       "text": [
        " 1926407\n",
        "ERROR PARSING"
       ]
      },
      {
       "output_type": "stream",
       "stream": "stdout",
       "text": [
        " 1888444\n",
        "ERROR PARSING"
       ]
      },
      {
       "output_type": "stream",
       "stream": "stdout",
       "text": [
        " 1792867\n",
        "ERROR PARSING"
       ]
      },
      {
       "output_type": "stream",
       "stream": "stdout",
       "text": [
        " 1955763\n",
        "ERROR PARSING"
       ]
      },
      {
       "output_type": "stream",
       "stream": "stdout",
       "text": [
        " 1899144\n",
        "ERROR PARSING"
       ]
      },
      {
       "output_type": "stream",
       "stream": "stdout",
       "text": [
        " 1973749\n",
        "ERROR PARSING"
       ]
      },
      {
       "output_type": "stream",
       "stream": "stdout",
       "text": [
        " 1924597\n",
        "ERROR PARSING"
       ]
      },
      {
       "output_type": "stream",
       "stream": "stdout",
       "text": [
        " 1880490\n",
        "ERROR PARSING"
       ]
      },
      {
       "output_type": "stream",
       "stream": "stdout",
       "text": [
        " 1895968\n",
        "ERROR PARSING"
       ]
      },
      {
       "output_type": "stream",
       "stream": "stdout",
       "text": [
        " 1877598\n",
        "ERROR PARSING"
       ]
      },
      {
       "output_type": "stream",
       "stream": "stdout",
       "text": [
        " 1925829\n",
        "ERROR PARSING"
       ]
      },
      {
       "output_type": "stream",
       "stream": "stdout",
       "text": [
        " 1965890\n",
        "ERROR PARSING"
       ]
      },
      {
       "output_type": "stream",
       "stream": "stdout",
       "text": [
        " 1967386\n",
        "ERROR PARSING"
       ]
      },
      {
       "output_type": "stream",
       "stream": "stdout",
       "text": [
        " 1945631\n",
        "ERROR PARSING"
       ]
      },
      {
       "output_type": "stream",
       "stream": "stdout",
       "text": [
        " 1906075\n",
        "ERROR PARSING"
       ]
      },
      {
       "output_type": "stream",
       "stream": "stdout",
       "text": [
        " 1970945\n",
        "ERROR PARSING"
       ]
      },
      {
       "output_type": "stream",
       "stream": "stdout",
       "text": [
        " 1858418\n",
        "ERROR PARSING"
       ]
      },
      {
       "output_type": "stream",
       "stream": "stdout",
       "text": [
        " 1952222\n",
        "ERROR PARSING"
       ]
      },
      {
       "output_type": "stream",
       "stream": "stdout",
       "text": [
        " 1836279\n",
        "ERROR PARSING"
       ]
      },
      {
       "output_type": "stream",
       "stream": "stdout",
       "text": [
        " 1895769\n",
        "ERROR PARSING"
       ]
      },
      {
       "output_type": "stream",
       "stream": "stdout",
       "text": [
        " 1855392\n",
        "ERROR PARSING"
       ]
      },
      {
       "output_type": "stream",
       "stream": "stdout",
       "text": [
        " 1866207\n",
        "ERROR PARSING"
       ]
      },
      {
       "output_type": "stream",
       "stream": "stdout",
       "text": [
        " 1793052\n",
        "ERROR PARSING"
       ]
      },
      {
       "output_type": "stream",
       "stream": "stdout",
       "text": [
        " 1859346\n",
        "ERROR PARSING"
       ]
      },
      {
       "output_type": "stream",
       "stream": "stdout",
       "text": [
        " 1872454\n",
        "ERROR PARSING"
       ]
      },
      {
       "output_type": "stream",
       "stream": "stdout",
       "text": [
        " 1852077\n",
        "ERROR PARSING"
       ]
      },
      {
       "output_type": "stream",
       "stream": "stdout",
       "text": [
        " 1915632\n",
        "ERROR PARSING"
       ]
      },
      {
       "output_type": "stream",
       "stream": "stdout",
       "text": [
        " 1957537\n",
        "ERROR PARSING"
       ]
      },
      {
       "output_type": "stream",
       "stream": "stdout",
       "text": [
        " 1932518\n",
        "ERROR PARSING"
       ]
      },
      {
       "output_type": "stream",
       "stream": "stdout",
       "text": [
        " 1823876\n",
        "ERROR PARSING"
       ]
      },
      {
       "output_type": "stream",
       "stream": "stdout",
       "text": [
        " 1810408\n",
        "ERROR PARSING"
       ]
      },
      {
       "output_type": "stream",
       "stream": "stdout",
       "text": [
        " 1948662\n",
        "ERROR PARSING"
       ]
      },
      {
       "output_type": "stream",
       "stream": "stdout",
       "text": [
        " 1901064\n",
        "ERROR PARSING"
       ]
      },
      {
       "output_type": "stream",
       "stream": "stdout",
       "text": [
        " 1973790\n",
        "ERROR PARSING"
       ]
      },
      {
       "output_type": "stream",
       "stream": "stdout",
       "text": [
        " 1880593\n",
        "ERROR PARSING"
       ]
      },
      {
       "output_type": "stream",
       "stream": "stdout",
       "text": [
        " 1959406\n",
        "ERROR PARSING"
       ]
      },
      {
       "output_type": "stream",
       "stream": "stdout",
       "text": [
        " 1900396\n",
        "ERROR PARSING"
       ]
      },
      {
       "output_type": "stream",
       "stream": "stdout",
       "text": [
        " 1811901\n",
        "ERROR PARSING"
       ]
      },
      {
       "output_type": "stream",
       "stream": "stdout",
       "text": [
        " 1968443\n",
        "ERROR PARSING"
       ]
      },
      {
       "output_type": "stream",
       "stream": "stdout",
       "text": [
        " 1956545\n",
        "ERROR PARSING"
       ]
      },
      {
       "output_type": "stream",
       "stream": "stdout",
       "text": [
        " 1900026\n",
        "ERROR PARSING"
       ]
      },
      {
       "output_type": "stream",
       "stream": "stdout",
       "text": [
        " 1879105\n",
        "ERROR PARSING"
       ]
      },
      {
       "output_type": "stream",
       "stream": "stdout",
       "text": [
        " 1968151\n",
        "ERROR PARSING"
       ]
      },
      {
       "output_type": "stream",
       "stream": "stdout",
       "text": [
        " 1954868\n",
        "ERROR PARSING"
       ]
      },
      {
       "output_type": "stream",
       "stream": "stdout",
       "text": [
        " 1957631\n",
        "ERROR PARSING"
       ]
      },
      {
       "output_type": "stream",
       "stream": "stdout",
       "text": [
        " 1969796\n",
        "ERROR PARSING"
       ]
      },
      {
       "output_type": "stream",
       "stream": "stdout",
       "text": [
        " 1863125\n",
        "ERROR PARSING"
       ]
      },
      {
       "output_type": "stream",
       "stream": "stdout",
       "text": [
        " 1972833\n",
        "ERROR PARSING"
       ]
      },
      {
       "output_type": "stream",
       "stream": "stdout",
       "text": [
        " 1860116\n",
        "ERROR PARSING"
       ]
      },
      {
       "output_type": "stream",
       "stream": "stdout",
       "text": [
        " 1865531\n",
        "ERROR PARSING"
       ]
      },
      {
       "output_type": "stream",
       "stream": "stdout",
       "text": [
        " 1879157\n",
        "ERROR PARSING"
       ]
      },
      {
       "output_type": "stream",
       "stream": "stdout",
       "text": [
        " 1968948\n",
        "ERROR PARSING"
       ]
      },
      {
       "output_type": "stream",
       "stream": "stdout",
       "text": [
        " 1831466\n",
        "ERROR PARSING"
       ]
      },
      {
       "output_type": "stream",
       "stream": "stdout",
       "text": [
        " 1962443\n",
        "ERROR PARSING"
       ]
      },
      {
       "output_type": "stream",
       "stream": "stdout",
       "text": [
        " 1958989\n",
        "ERROR PARSING"
       ]
      },
      {
       "output_type": "stream",
       "stream": "stdout",
       "text": [
        " 1960981\n",
        "ERROR PARSING"
       ]
      },
      {
       "output_type": "stream",
       "stream": "stdout",
       "text": [
        " 1969264\n",
        "ERROR PARSING"
       ]
      },
      {
       "output_type": "stream",
       "stream": "stdout",
       "text": [
        " 1856195\n",
        "ERROR PARSING"
       ]
      },
      {
       "output_type": "stream",
       "stream": "stdout",
       "text": [
        " 1941162\n",
        "ERROR PARSING"
       ]
      },
      {
       "output_type": "stream",
       "stream": "stdout",
       "text": [
        " 1936563\n",
        "ERROR PARSING"
       ]
      },
      {
       "output_type": "stream",
       "stream": "stdout",
       "text": [
        " 1972595\n",
        "ERROR PARSING"
       ]
      },
      {
       "output_type": "stream",
       "stream": "stdout",
       "text": [
        " 1799580\n",
        "ERROR PARSING"
       ]
      },
      {
       "output_type": "stream",
       "stream": "stdout",
       "text": [
        " 1909877\n",
        "ERROR PARSING"
       ]
      },
      {
       "output_type": "stream",
       "stream": "stdout",
       "text": [
        " 1949653\n",
        "ERROR PARSING"
       ]
      },
      {
       "output_type": "stream",
       "stream": "stdout",
       "text": [
        " 1824621\n",
        "ERROR PARSING"
       ]
      },
      {
       "output_type": "stream",
       "stream": "stdout",
       "text": [
        " 1973758\n",
        "ERROR PARSING"
       ]
      },
      {
       "output_type": "stream",
       "stream": "stdout",
       "text": [
        " 1973842\n",
        "ERROR PARSING"
       ]
      },
      {
       "output_type": "stream",
       "stream": "stdout",
       "text": [
        " 1970355\n",
        "ERROR PARSING"
       ]
      },
      {
       "output_type": "stream",
       "stream": "stdout",
       "text": [
        " 1901867\n",
        "ERROR PARSING"
       ]
      },
      {
       "output_type": "stream",
       "stream": "stdout",
       "text": [
        " 1967203\n",
        "ERROR PARSING"
       ]
      },
      {
       "output_type": "stream",
       "stream": "stdout",
       "text": [
        " 1971138\n",
        "ERROR PARSING"
       ]
      },
      {
       "output_type": "stream",
       "stream": "stdout",
       "text": [
        " 1962852\n",
        "ERROR PARSING"
       ]
      },
      {
       "output_type": "stream",
       "stream": "stdout",
       "text": [
        " 1866768\n",
        "ERROR PARSING"
       ]
      },
      {
       "output_type": "stream",
       "stream": "stdout",
       "text": [
        " 1962622\n",
        "ERROR PARSING"
       ]
      },
      {
       "output_type": "stream",
       "stream": "stdout",
       "text": [
        " 1926845\n",
        "ERROR PARSING"
       ]
      },
      {
       "output_type": "stream",
       "stream": "stdout",
       "text": [
        " 1938692\n",
        "ERROR PARSING"
       ]
      },
      {
       "output_type": "stream",
       "stream": "stdout",
       "text": [
        " 1964369\n",
        "ERROR PARSING"
       ]
      },
      {
       "output_type": "stream",
       "stream": "stdout",
       "text": [
        " 1813209\n",
        "ERROR PARSING 1805597\n",
        "ERROR PARSING"
       ]
      },
      {
       "output_type": "stream",
       "stream": "stdout",
       "text": [
        " 1865579\n",
        "ERROR PARSING"
       ]
      },
      {
       "output_type": "stream",
       "stream": "stdout",
       "text": [
        " 1951108\n",
        "ERROR PARSING"
       ]
      },
      {
       "output_type": "stream",
       "stream": "stdout",
       "text": [
        " 1813494\n",
        "ERROR PARSING"
       ]
      },
      {
       "output_type": "stream",
       "stream": "stdout",
       "text": [
        " 1805619\n",
        "ERROR PARSING"
       ]
      },
      {
       "output_type": "stream",
       "stream": "stdout",
       "text": [
        " 1852006\n",
        "ERROR PARSING"
       ]
      },
      {
       "output_type": "stream",
       "stream": "stdout",
       "text": [
        " 1917911\n",
        "ERROR PARSING"
       ]
      },
      {
       "output_type": "stream",
       "stream": "stdout",
       "text": [
        " 1953640\n",
        "ERROR PARSING"
       ]
      },
      {
       "output_type": "stream",
       "stream": "stdout",
       "text": [
        " 1824656\n",
        "ERROR PARSING"
       ]
      },
      {
       "output_type": "stream",
       "stream": "stdout",
       "text": [
        " 1966753\n",
        "ERROR PARSING"
       ]
      },
      {
       "output_type": "stream",
       "stream": "stdout",
       "text": [
        " 1874901\n",
        "ERROR PARSING"
       ]
      },
      {
       "output_type": "stream",
       "stream": "stdout",
       "text": [
        " 1864309\n",
        "ERROR PARSING"
       ]
      },
      {
       "output_type": "stream",
       "stream": "stdout",
       "text": [
        " 1870912\n",
        "ERROR PARSING"
       ]
      },
      {
       "output_type": "stream",
       "stream": "stdout",
       "text": [
        " 1825695\n",
        "ERROR PARSING"
       ]
      },
      {
       "output_type": "stream",
       "stream": "stdout",
       "text": [
        " 1944530\n",
        "ERROR PARSING"
       ]
      },
      {
       "output_type": "stream",
       "stream": "stdout",
       "text": [
        " 1873908\n",
        "ERROR PARSING"
       ]
      },
      {
       "output_type": "stream",
       "stream": "stdout",
       "text": [
        " 1868550\n",
        "ERROR PARSING"
       ]
      },
      {
       "output_type": "stream",
       "stream": "stdout",
       "text": [
        " 1956540\n",
        "ERROR PARSING"
       ]
      },
      {
       "output_type": "stream",
       "stream": "stdout",
       "text": [
        " 1972467\n",
        "ERROR PARSING"
       ]
      },
      {
       "output_type": "stream",
       "stream": "stdout",
       "text": [
        " 1917401\n",
        "ERROR PARSING"
       ]
      },
      {
       "output_type": "stream",
       "stream": "stdout",
       "text": [
        " 1868961\n",
        "ERROR PARSING"
       ]
      },
      {
       "output_type": "stream",
       "stream": "stdout",
       "text": [
        " 1902077\n",
        "ERROR PARSING"
       ]
      },
      {
       "output_type": "stream",
       "stream": "stdout",
       "text": [
        " 1920827\n",
        "ERROR PARSING"
       ]
      },
      {
       "output_type": "stream",
       "stream": "stdout",
       "text": [
        " 1791138\n",
        "ERROR PARSING"
       ]
      },
      {
       "output_type": "stream",
       "stream": "stdout",
       "text": [
        " 1901075\n",
        "ERROR PARSING"
       ]
      },
      {
       "output_type": "stream",
       "stream": "stdout",
       "text": [
        " 1927662\n",
        "ERROR PARSING"
       ]
      },
      {
       "output_type": "stream",
       "stream": "stdout",
       "text": [
        " 1832316\n",
        "ERROR PARSING"
       ]
      },
      {
       "output_type": "stream",
       "stream": "stdout",
       "text": [
        " 1819067\n",
        "ERROR PARSING"
       ]
      },
      {
       "output_type": "stream",
       "stream": "stdout",
       "text": [
        " 1958319\n",
        "ERROR PARSING"
       ]
      },
      {
       "output_type": "stream",
       "stream": "stdout",
       "text": [
        " 1892718\n",
        "ERROR PARSING"
       ]
      },
      {
       "output_type": "stream",
       "stream": "stdout",
       "text": [
        " 1845531\n",
        "ERROR PARSING"
       ]
      },
      {
       "output_type": "stream",
       "stream": "stdout",
       "text": [
        " 1939843\n",
        "ERROR PARSING"
       ]
      },
      {
       "output_type": "stream",
       "stream": "stdout",
       "text": [
        " 1959790\n",
        "ERROR PARSING"
       ]
      },
      {
       "output_type": "stream",
       "stream": "stdout",
       "text": [
        " 1810175\n",
        "ERROR PARSING"
       ]
      },
      {
       "output_type": "stream",
       "stream": "stdout",
       "text": [
        " 1876091\n",
        "ERROR PARSING"
       ]
      },
      {
       "output_type": "stream",
       "stream": "stdout",
       "text": [
        " 1933034\n",
        "ERROR PARSING"
       ]
      },
      {
       "output_type": "stream",
       "stream": "stdout",
       "text": [
        " 1802418\n",
        "ERROR PARSING"
       ]
      },
      {
       "output_type": "stream",
       "stream": "stdout",
       "text": [
        " 1957895\n",
        "ERROR PARSING"
       ]
      },
      {
       "output_type": "stream",
       "stream": "stdout",
       "text": [
        " 1876593\n",
        "ERROR PARSING"
       ]
      },
      {
       "output_type": "stream",
       "stream": "stdout",
       "text": [
        " 1972258\n",
        "ERROR PARSING"
       ]
      },
      {
       "output_type": "stream",
       "stream": "stdout",
       "text": [
        " 1840241\n",
        "ERROR PARSING"
       ]
      },
      {
       "output_type": "stream",
       "stream": "stdout",
       "text": [
        " 1970532\n",
        "ERROR PARSING"
       ]
      },
      {
       "output_type": "stream",
       "stream": "stdout",
       "text": [
        " 1868320\n",
        "ERROR PARSING"
       ]
      },
      {
       "output_type": "stream",
       "stream": "stdout",
       "text": [
        " 1830314\n",
        "ERROR PARSING"
       ]
      },
      {
       "output_type": "stream",
       "stream": "stdout",
       "text": [
        " 1875316\n",
        "ERROR PARSING"
       ]
      },
      {
       "output_type": "stream",
       "stream": "stdout",
       "text": [
        " 1898955\n",
        "ERROR PARSING"
       ]
      },
      {
       "output_type": "stream",
       "stream": "stdout",
       "text": [
        " 1859832\n",
        "ERROR PARSING"
       ]
      },
      {
       "output_type": "stream",
       "stream": "stdout",
       "text": [
        " 1855857\n",
        "ERROR PARSING"
       ]
      },
      {
       "output_type": "stream",
       "stream": "stdout",
       "text": [
        " 1951959\n",
        "ERROR PARSING"
       ]
      },
      {
       "output_type": "stream",
       "stream": "stdout",
       "text": [
        " 1865564\n",
        "ERROR PARSING"
       ]
      },
      {
       "output_type": "stream",
       "stream": "stdout",
       "text": [
        " 1870095\n",
        "ERROR PARSING"
       ]
      },
      {
       "output_type": "stream",
       "stream": "stdout",
       "text": [
        " 1797464\n",
        "ERROR PARSING"
       ]
      },
      {
       "output_type": "stream",
       "stream": "stdout",
       "text": [
        " 1869243\n",
        "ERROR PARSING"
       ]
      },
      {
       "output_type": "stream",
       "stream": "stdout",
       "text": [
        " 1915403\n",
        "ERROR PARSING"
       ]
      },
      {
       "output_type": "stream",
       "stream": "stdout",
       "text": [
        " 1900756\n",
        "ERROR PARSING 1928876\n",
        "ERROR PARSING"
       ]
      },
      {
       "output_type": "stream",
       "stream": "stdout",
       "text": [
        " 1854165\n",
        "ERROR PARSING"
       ]
      },
      {
       "output_type": "stream",
       "stream": "stdout",
       "text": [
        " 1967026\n",
        "ERROR PARSING"
       ]
      },
      {
       "output_type": "stream",
       "stream": "stdout",
       "text": [
        " 1954956\n",
        "ERROR PARSING"
       ]
      },
      {
       "output_type": "stream",
       "stream": "stdout",
       "text": [
        " 1800109\n",
        "ERROR PARSING"
       ]
      },
      {
       "output_type": "stream",
       "stream": "stdout",
       "text": [
        " 1845128\n",
        "ERROR PARSING"
       ]
      },
      {
       "output_type": "stream",
       "stream": "stdout",
       "text": [
        " 1957119\n",
        "ERROR PARSING"
       ]
      },
      {
       "output_type": "stream",
       "stream": "stdout",
       "text": [
        " 1902705\n",
        "ERROR PARSING"
       ]
      },
      {
       "output_type": "stream",
       "stream": "stdout",
       "text": [
        " 1824498\n",
        "ERROR PARSING 1925026\n",
        "ERROR PARSING"
       ]
      },
      {
       "output_type": "stream",
       "stream": "stdout",
       "text": [
        " 1871814\n",
        "ERROR PARSING"
       ]
      },
      {
       "output_type": "stream",
       "stream": "stdout",
       "text": [
        " 1934666\n",
        "ERROR PARSING"
       ]
      },
      {
       "output_type": "stream",
       "stream": "stdout",
       "text": [
        " 1812442\n",
        "ERROR PARSING"
       ]
      },
      {
       "output_type": "stream",
       "stream": "stdout",
       "text": [
        " 1920031\n",
        "ERROR PARSING"
       ]
      },
      {
       "output_type": "stream",
       "stream": "stdout",
       "text": [
        " 1962615\n",
        "ERROR PARSING"
       ]
      },
      {
       "output_type": "stream",
       "stream": "stdout",
       "text": [
        " 1870049\n",
        "ERROR PARSING"
       ]
      },
      {
       "output_type": "stream",
       "stream": "stdout",
       "text": [
        " 1896331\n",
        "ERROR PARSING"
       ]
      },
      {
       "output_type": "stream",
       "stream": "stdout",
       "text": [
        " 1954372\n",
        "ERROR PARSING"
       ]
      },
      {
       "output_type": "stream",
       "stream": "stdout",
       "text": [
        " 1869584\n",
        "ERROR PARSING"
       ]
      },
      {
       "output_type": "stream",
       "stream": "stdout",
       "text": [
        " 1808896\n",
        "ERROR PARSING"
       ]
      },
      {
       "output_type": "stream",
       "stream": "stdout",
       "text": [
        " 1941105\n",
        "ERROR PARSING"
       ]
      },
      {
       "output_type": "stream",
       "stream": "stdout",
       "text": [
        " 1791972\n",
        "ERROR PARSING"
       ]
      },
      {
       "output_type": "stream",
       "stream": "stdout",
       "text": [
        " 1890489\n",
        "ERROR PARSING"
       ]
      },
      {
       "output_type": "stream",
       "stream": "stdout",
       "text": [
        " 1856830\n",
        "ERROR PARSING"
       ]
      },
      {
       "output_type": "stream",
       "stream": "stdout",
       "text": [
        " 1961196\n",
        "ERROR PARSING"
       ]
      },
      {
       "output_type": "stream",
       "stream": "stdout",
       "text": [
        " 1806997\n",
        "ERROR PARSING"
       ]
      },
      {
       "output_type": "stream",
       "stream": "stdout",
       "text": [
        " 1792773\n",
        "ERROR PARSING"
       ]
      },
      {
       "output_type": "stream",
       "stream": "stdout",
       "text": [
        " 1923789\n",
        "ERROR PARSING"
       ]
      },
      {
       "output_type": "stream",
       "stream": "stdout",
       "text": [
        " 1816172\n",
        "ERROR PARSING"
       ]
      },
      {
       "output_type": "stream",
       "stream": "stdout",
       "text": [
        " 1866958\n",
        "ERROR PARSING"
       ]
      },
      {
       "output_type": "stream",
       "stream": "stdout",
       "text": [
        " 1960824\n",
        "ERROR PARSING"
       ]
      },
      {
       "output_type": "stream",
       "stream": "stdout",
       "text": [
        " 1941344\n",
        "ERROR PARSING"
       ]
      },
      {
       "output_type": "stream",
       "stream": "stdout",
       "text": [
        " 1849881\n",
        "ERROR PARSING"
       ]
      },
      {
       "output_type": "stream",
       "stream": "stdout",
       "text": [
        " 1857723\n",
        "ERROR PARSING"
       ]
      },
      {
       "output_type": "stream",
       "stream": "stdout",
       "text": [
        " 1826923\n",
        "ERROR PARSING"
       ]
      },
      {
       "output_type": "stream",
       "stream": "stdout",
       "text": [
        " 1859528\n",
        "ERROR PARSING"
       ]
      },
      {
       "output_type": "stream",
       "stream": "stdout",
       "text": [
        " 1906337\n",
        "ERROR PARSING"
       ]
      },
      {
       "output_type": "stream",
       "stream": "stdout",
       "text": [
        " 1906567\n",
        "ERROR PARSING"
       ]
      },
      {
       "output_type": "stream",
       "stream": "stdout",
       "text": [
        " 1846019\n",
        "ERROR PARSING"
       ]
      },
      {
       "output_type": "stream",
       "stream": "stdout",
       "text": [
        " 1897020\n",
        "ERROR PARSING"
       ]
      },
      {
       "output_type": "stream",
       "stream": "stdout",
       "text": [
        " 1902087\n",
        "ERROR PARSING"
       ]
      },
      {
       "output_type": "stream",
       "stream": "stdout",
       "text": [
        " 1873068\n",
        "ERROR PARSING"
       ]
      },
      {
       "output_type": "stream",
       "stream": "stdout",
       "text": [
        " 1825156\n",
        "ERROR PARSING"
       ]
      },
      {
       "output_type": "stream",
       "stream": "stdout",
       "text": [
        " 1806884\n",
        "ERROR PARSING"
       ]
      },
      {
       "output_type": "stream",
       "stream": "stdout",
       "text": [
        " 1905193\n",
        "ERROR PARSING"
       ]
      },
      {
       "output_type": "stream",
       "stream": "stdout",
       "text": [
        " 1803630\n",
        "ERROR PARSING"
       ]
      },
      {
       "output_type": "stream",
       "stream": "stdout",
       "text": [
        " 1791478\n",
        "ERROR PARSING"
       ]
      },
      {
       "output_type": "stream",
       "stream": "stdout",
       "text": [
        " 1898954\n",
        "ERROR PARSING 1946302\n",
        "ERROR PARSING"
       ]
      },
      {
       "output_type": "stream",
       "stream": "stdout",
       "text": [
        " 1853174\n",
        "ERROR PARSING"
       ]
      },
      {
       "output_type": "stream",
       "stream": "stdout",
       "text": [
        " 1829608\n",
        "ERROR PARSING 1874001\n",
        "ERROR PARSING"
       ]
      },
      {
       "output_type": "stream",
       "stream": "stdout",
       "text": [
        " 1863691\n",
        "ERROR PARSING"
       ]
      },
      {
       "output_type": "stream",
       "stream": "stdout",
       "text": [
        " 1818161\n",
        "ERROR PARSING"
       ]
      },
      {
       "output_type": "stream",
       "stream": "stdout",
       "text": [
        " 1930573\n",
        "ERROR PARSING"
       ]
      },
      {
       "output_type": "stream",
       "stream": "stdout",
       "text": [
        " 1918844\n",
        "ERROR PARSING"
       ]
      },
      {
       "output_type": "stream",
       "stream": "stdout",
       "text": [
        " 1833989\n",
        "ERROR PARSING"
       ]
      },
      {
       "output_type": "stream",
       "stream": "stdout",
       "text": [
        " 1959847\n",
        "ERROR PARSING"
       ]
      },
      {
       "output_type": "stream",
       "stream": "stdout",
       "text": [
        " 1816328\n",
        "ERROR PARSING"
       ]
      },
      {
       "output_type": "stream",
       "stream": "stdout",
       "text": [
        " 1947561\n",
        "ERROR PARSING"
       ]
      },
      {
       "output_type": "stream",
       "stream": "stdout",
       "text": [
        " 1833857\n",
        "ERROR PARSING"
       ]
      },
      {
       "output_type": "stream",
       "stream": "stdout",
       "text": [
        " 1895725\n",
        "ERROR PARSING"
       ]
      },
      {
       "output_type": "stream",
       "stream": "stdout",
       "text": [
        " 1798502\n",
        "ERROR PARSING"
       ]
      },
      {
       "output_type": "stream",
       "stream": "stdout",
       "text": [
        " 1836324\n",
        "ERROR PARSING"
       ]
      },
      {
       "output_type": "stream",
       "stream": "stdout",
       "text": [
        " 1954552\n",
        "ERROR PARSING"
       ]
      },
      {
       "output_type": "stream",
       "stream": "stdout",
       "text": [
        " 1951767\n",
        "ERROR PARSING"
       ]
      },
      {
       "output_type": "stream",
       "stream": "stdout",
       "text": [
        " 1797609\n",
        "ERROR PARSING"
       ]
      },
      {
       "output_type": "stream",
       "stream": "stdout",
       "text": [
        " 1966694\n",
        "ERROR PARSING"
       ]
      },
      {
       "output_type": "stream",
       "stream": "stdout",
       "text": [
        " 1806577\n",
        "ERROR PARSING"
       ]
      },
      {
       "output_type": "stream",
       "stream": "stdout",
       "text": [
        " 1912056\n",
        "ERROR PARSING"
       ]
      },
      {
       "output_type": "stream",
       "stream": "stdout",
       "text": [
        " 1965210\n",
        "ERROR PARSING"
       ]
      },
      {
       "output_type": "stream",
       "stream": "stdout",
       "text": [
        " 1886024\n",
        "ERROR PARSING"
       ]
      },
      {
       "output_type": "stream",
       "stream": "stdout",
       "text": [
        " 1820602\n",
        "ERROR PARSING"
       ]
      },
      {
       "output_type": "stream",
       "stream": "stdout",
       "text": [
        " 1922237\n",
        "ERROR PARSING"
       ]
      },
      {
       "output_type": "stream",
       "stream": "stdout",
       "text": [
        " 1879949\n",
        "ERROR PARSING"
       ]
      },
      {
       "output_type": "stream",
       "stream": "stdout",
       "text": [
        " 1881075\n",
        "ERROR PARSING"
       ]
      },
      {
       "output_type": "stream",
       "stream": "stdout",
       "text": [
        " 1823500\n",
        "ERROR PARSING"
       ]
      },
      {
       "output_type": "stream",
       "stream": "stdout",
       "text": [
        " 1938910\n",
        "ERROR PARSING"
       ]
      },
      {
       "output_type": "stream",
       "stream": "stdout",
       "text": [
        " 1889532\n",
        "ERROR PARSING"
       ]
      },
      {
       "output_type": "stream",
       "stream": "stdout",
       "text": [
        " 1955694\n",
        "ERROR PARSING"
       ]
      },
      {
       "output_type": "stream",
       "stream": "stdout",
       "text": [
        " 1789108\n",
        "ERROR PARSING"
       ]
      },
      {
       "output_type": "stream",
       "stream": "stdout",
       "text": [
        " 1818225\n",
        "ERROR PARSING"
       ]
      },
      {
       "output_type": "stream",
       "stream": "stdout",
       "text": [
        " 1933734\n",
        "ERROR PARSING"
       ]
      },
      {
       "output_type": "stream",
       "stream": "stdout",
       "text": [
        " 1853484\n",
        "ERROR PARSING"
       ]
      },
      {
       "output_type": "stream",
       "stream": "stdout",
       "text": [
        " 1883688\n",
        "ERROR PARSING"
       ]
      },
      {
       "output_type": "stream",
       "stream": "stdout",
       "text": [
        " 1843882\n",
        "ERROR PARSING"
       ]
      },
      {
       "output_type": "stream",
       "stream": "stdout",
       "text": [
        " 1966588\n",
        "ERROR PARSING"
       ]
      },
      {
       "output_type": "stream",
       "stream": "stdout",
       "text": [
        " 1832984\n",
        "ERROR PARSING"
       ]
      },
      {
       "output_type": "stream",
       "stream": "stdout",
       "text": [
        " 1857225\n",
        "ERROR PARSING"
       ]
      },
      {
       "output_type": "stream",
       "stream": "stdout",
       "text": [
        " 1947151\n",
        "ERROR PARSING"
       ]
      },
      {
       "output_type": "stream",
       "stream": "stdout",
       "text": [
        " 1951028\n",
        "ERROR PARSING"
       ]
      },
      {
       "output_type": "stream",
       "stream": "stdout",
       "text": [
        " 1899248\n",
        "ERROR PARSING"
       ]
      },
      {
       "output_type": "stream",
       "stream": "stdout",
       "text": [
        " 1907410\n",
        "ERROR PARSING"
       ]
      },
      {
       "output_type": "stream",
       "stream": "stdout",
       "text": [
        " 1972326\n",
        "ERROR PARSING"
       ]
      },
      {
       "output_type": "stream",
       "stream": "stdout",
       "text": [
        " 1971286\n",
        "ERROR PARSING"
       ]
      },
      {
       "output_type": "stream",
       "stream": "stdout",
       "text": [
        " 1955196\n",
        "ERROR PARSING"
       ]
      },
      {
       "output_type": "stream",
       "stream": "stdout",
       "text": [
        " 1938891\n",
        "ERROR PARSING"
       ]
      },
      {
       "output_type": "stream",
       "stream": "stdout",
       "text": [
        " 1959355\n",
        "ERROR PARSING"
       ]
      },
      {
       "output_type": "stream",
       "stream": "stdout",
       "text": [
        " 1863712\n",
        "ERROR PARSING"
       ]
      },
      {
       "output_type": "stream",
       "stream": "stdout",
       "text": [
        " 1837498\n",
        "ERROR PARSING"
       ]
      },
      {
       "output_type": "stream",
       "stream": "stdout",
       "text": [
        " 1930114\n",
        "ERROR PARSING"
       ]
      },
      {
       "output_type": "stream",
       "stream": "stdout",
       "text": [
        " 1788548\n",
        "ERROR PARSING"
       ]
      },
      {
       "output_type": "stream",
       "stream": "stdout",
       "text": [
        " 1826181\n",
        "ERROR PARSING"
       ]
      },
      {
       "output_type": "stream",
       "stream": "stdout",
       "text": [
        " 1848937\n",
        "ERROR PARSING"
       ]
      },
      {
       "output_type": "stream",
       "stream": "stdout",
       "text": [
        " 1924946\n",
        "ERROR PARSING"
       ]
      },
      {
       "output_type": "stream",
       "stream": "stdout",
       "text": [
        " 1816587\n",
        "ERROR PARSING"
       ]
      },
      {
       "output_type": "stream",
       "stream": "stdout",
       "text": [
        " 1972113\n",
        "ERROR PARSING"
       ]
      },
      {
       "output_type": "stream",
       "stream": "stdout",
       "text": [
        " 1969004\n",
        "ERROR PARSING"
       ]
      },
      {
       "output_type": "stream",
       "stream": "stdout",
       "text": [
        " 1862157\n",
        "ERROR PARSING"
       ]
      },
      {
       "output_type": "stream",
       "stream": "stdout",
       "text": [
        " 1949057\n",
        "ERROR PARSING"
       ]
      },
      {
       "output_type": "stream",
       "stream": "stdout",
       "text": [
        " 1864441\n",
        "ERROR PARSING"
       ]
      },
      {
       "output_type": "stream",
       "stream": "stdout",
       "text": [
        " 1902289\n",
        "ERROR PARSING"
       ]
      },
      {
       "output_type": "stream",
       "stream": "stdout",
       "text": [
        " 1791163\n",
        "ERROR PARSING"
       ]
      },
      {
       "output_type": "stream",
       "stream": "stdout",
       "text": [
        " 1941752\n",
        "ERROR PARSING"
       ]
      },
      {
       "output_type": "stream",
       "stream": "stdout",
       "text": [
        " 1956910\n",
        "ERROR PARSING"
       ]
      },
      {
       "output_type": "stream",
       "stream": "stdout",
       "text": [
        " 1943864\n",
        "ERROR PARSING"
       ]
      },
      {
       "output_type": "stream",
       "stream": "stdout",
       "text": [
        " 1955236\n",
        "ERROR PARSING"
       ]
      },
      {
       "output_type": "stream",
       "stream": "stdout",
       "text": [
        " 1950416\n",
        "ERROR PARSING"
       ]
      },
      {
       "output_type": "stream",
       "stream": "stdout",
       "text": [
        " 1965000\n",
        "ERROR PARSING"
       ]
      },
      {
       "output_type": "stream",
       "stream": "stdout",
       "text": [
        " 1932467\n",
        "ERROR PARSING"
       ]
      },
      {
       "output_type": "stream",
       "stream": "stdout",
       "text": [
        " 1903035\n",
        "ERROR PARSING"
       ]
      },
      {
       "output_type": "stream",
       "stream": "stdout",
       "text": [
        " 1790558\n",
        "ERROR PARSING"
       ]
      },
      {
       "output_type": "stream",
       "stream": "stdout",
       "text": [
        " 1921264\n",
        "ERROR PARSING"
       ]
      },
      {
       "output_type": "stream",
       "stream": "stdout",
       "text": [
        " 1898956\n",
        "ERROR PARSING"
       ]
      },
      {
       "output_type": "stream",
       "stream": "stdout",
       "text": [
        " 1853577\n",
        "ERROR PARSING"
       ]
      },
      {
       "output_type": "stream",
       "stream": "stdout",
       "text": [
        " 1956398\n",
        "ERROR PARSING"
       ]
      },
      {
       "output_type": "stream",
       "stream": "stdout",
       "text": [
        " 1863360\n",
        "ERROR PARSING"
       ]
      },
      {
       "output_type": "stream",
       "stream": "stdout",
       "text": [
        " 1881749\n",
        "ERROR PARSING"
       ]
      },
      {
       "output_type": "stream",
       "stream": "stdout",
       "text": [
        " 1963187\n",
        "ERROR PARSING"
       ]
      },
      {
       "output_type": "stream",
       "stream": "stdout",
       "text": [
        " 1903664\n",
        "ERROR PARSING"
       ]
      },
      {
       "output_type": "stream",
       "stream": "stdout",
       "text": [
        " 1801445\n",
        "ERROR PARSING"
       ]
      },
      {
       "output_type": "stream",
       "stream": "stdout",
       "text": [
        " 1828577\n",
        "ERROR PARSING"
       ]
      },
      {
       "output_type": "stream",
       "stream": "stdout",
       "text": [
        " 1793296\n",
        "ERROR PARSING"
       ]
      },
      {
       "output_type": "stream",
       "stream": "stdout",
       "text": [
        " 1964478\n",
        "ERROR PARSING"
       ]
      },
      {
       "output_type": "stream",
       "stream": "stdout",
       "text": [
        " 1863957\n",
        "ERROR PARSING"
       ]
      },
      {
       "output_type": "stream",
       "stream": "stdout",
       "text": [
        " 1919844\n",
        "ERROR PARSING"
       ]
      },
      {
       "output_type": "stream",
       "stream": "stdout",
       "text": [
        " 1902531\n",
        "ERROR PARSING"
       ]
      },
      {
       "output_type": "stream",
       "stream": "stdout",
       "text": [
        " 1851649\n",
        "ERROR PARSING"
       ]
      },
      {
       "output_type": "stream",
       "stream": "stdout",
       "text": [
        " 1837724\n",
        "ERROR PARSING"
       ]
      },
      {
       "output_type": "stream",
       "stream": "stdout",
       "text": [
        " 1967037\n",
        "ERROR PARSING"
       ]
      },
      {
       "output_type": "stream",
       "stream": "stdout",
       "text": [
        " 2043745\n",
        "ERROR PARSING 1874292\n",
        "ERROR PARSING"
       ]
      },
      {
       "output_type": "stream",
       "stream": "stdout",
       "text": [
        " 1954418\n",
        "ERROR PARSING"
       ]
      },
      {
       "output_type": "stream",
       "stream": "stdout",
       "text": [
        " 1879180\n",
        "ERROR PARSING"
       ]
      },
      {
       "output_type": "stream",
       "stream": "stdout",
       "text": [
        " 1968499\n",
        "ERROR PARSING"
       ]
      },
      {
       "output_type": "stream",
       "stream": "stdout",
       "text": [
        " 1895309\n",
        "ERROR PARSING"
       ]
      },
      {
       "output_type": "stream",
       "stream": "stdout",
       "text": [
        " 1970251\n",
        "ERROR PARSING"
       ]
      },
      {
       "output_type": "stream",
       "stream": "stdout",
       "text": [
        " 1949028\n",
        "ERROR PARSING"
       ]
      },
      {
       "output_type": "stream",
       "stream": "stdout",
       "text": [
        " 1832953\n",
        "ERROR PARSING"
       ]
      },
      {
       "output_type": "stream",
       "stream": "stdout",
       "text": [
        " 1948111\n",
        "ERROR PARSING"
       ]
      },
      {
       "output_type": "stream",
       "stream": "stdout",
       "text": [
        " 1799833\n",
        "ERROR PARSING"
       ]
      },
      {
       "output_type": "stream",
       "stream": "stdout",
       "text": [
        " 1968765\n",
        "ERROR PARSING"
       ]
      },
      {
       "output_type": "stream",
       "stream": "stdout",
       "text": [
        " 1867929\n",
        "ERROR PARSING"
       ]
      },
      {
       "output_type": "stream",
       "stream": "stdout",
       "text": [
        " 1898380\n",
        "ERROR PARSING"
       ]
      },
      {
       "output_type": "stream",
       "stream": "stdout",
       "text": [
        " 1874447\n",
        "ERROR PARSING"
       ]
      },
      {
       "output_type": "stream",
       "stream": "stdout",
       "text": [
        " 1868745\n",
        "ERROR PARSING"
       ]
      },
      {
       "output_type": "stream",
       "stream": "stdout",
       "text": [
        " 1878018\n",
        "ERROR PARSING"
       ]
      },
      {
       "output_type": "stream",
       "stream": "stdout",
       "text": [
        " 1942441\n",
        "ERROR PARSING"
       ]
      },
      {
       "output_type": "stream",
       "stream": "stdout",
       "text": [
        " 1893229\n",
        "ERROR PARSING"
       ]
      },
      {
       "output_type": "stream",
       "stream": "stdout",
       "text": [
        " 1825428\n",
        "ERROR PARSING"
       ]
      },
      {
       "output_type": "stream",
       "stream": "stdout",
       "text": [
        " 1867378\n",
        "ERROR PARSING"
       ]
      },
      {
       "output_type": "stream",
       "stream": "stdout",
       "text": [
        " 1815317\n",
        "ERROR PARSING"
       ]
      },
      {
       "output_type": "stream",
       "stream": "stdout",
       "text": [
        " 1967678\n",
        "ERROR PARSING"
       ]
      },
      {
       "output_type": "stream",
       "stream": "stdout",
       "text": [
        " 1810770\n",
        "ERROR PARSING"
       ]
      },
      {
       "output_type": "stream",
       "stream": "stdout",
       "text": [
        " 1802316\n",
        "ERROR PARSING"
       ]
      },
      {
       "output_type": "stream",
       "stream": "stdout",
       "text": [
        " 1799206\n",
        "ERROR PARSING"
       ]
      },
      {
       "output_type": "stream",
       "stream": "stdout",
       "text": [
        " 1864056\n",
        "ERROR PARSING"
       ]
      },
      {
       "output_type": "stream",
       "stream": "stdout",
       "text": [
        " 1972554\n",
        "ERROR PARSING"
       ]
      },
      {
       "output_type": "stream",
       "stream": "stdout",
       "text": [
        " 1938878\n",
        "ERROR PARSING"
       ]
      },
      {
       "output_type": "stream",
       "stream": "stdout",
       "text": [
        " 1967498\n",
        "ERROR PARSING"
       ]
      },
      {
       "output_type": "stream",
       "stream": "stdout",
       "text": [
        " 1792854\n",
        "ERROR PARSING"
       ]
      },
      {
       "output_type": "stream",
       "stream": "stdout",
       "text": [
        " 1843381\n",
        "ERROR PARSING"
       ]
      },
      {
       "output_type": "stream",
       "stream": "stdout",
       "text": [
        " 1838972\n",
        "ERROR PARSING"
       ]
      },
      {
       "output_type": "stream",
       "stream": "stdout",
       "text": [
        " 1889726\n",
        "ERROR PARSING"
       ]
      },
      {
       "output_type": "stream",
       "stream": "stdout",
       "text": [
        " 1967091\n",
        "ERROR PARSING"
       ]
      },
      {
       "output_type": "stream",
       "stream": "stdout",
       "text": [
        " 1923792\n",
        "ERROR PARSING"
       ]
      },
      {
       "output_type": "stream",
       "stream": "stdout",
       "text": [
        " 1959715\n",
        "ERROR PARSING"
       ]
      },
      {
       "output_type": "stream",
       "stream": "stdout",
       "text": [
        " 1911667\n",
        "ERROR PARSING"
       ]
      },
      {
       "output_type": "stream",
       "stream": "stdout",
       "text": [
        " 1896613\n",
        "ERROR PARSING"
       ]
      },
      {
       "output_type": "stream",
       "stream": "stdout",
       "text": [
        " 1973084\n",
        "ERROR PARSING"
       ]
      },
      {
       "output_type": "stream",
       "stream": "stdout",
       "text": [
        " 1886428\n",
        "ERROR PARSING"
       ]
      },
      {
       "output_type": "stream",
       "stream": "stdout",
       "text": [
        " 1963909\n",
        "ERROR PARSING"
       ]
      },
      {
       "output_type": "stream",
       "stream": "stdout",
       "text": [
        " 1963499\n",
        "ERROR PARSING"
       ]
      },
      {
       "output_type": "stream",
       "stream": "stdout",
       "text": [
        " 1970016\n",
        "ERROR PARSING"
       ]
      },
      {
       "output_type": "stream",
       "stream": "stdout",
       "text": [
        " 1921000\n",
        "ERROR PARSING"
       ]
      },
      {
       "output_type": "stream",
       "stream": "stdout",
       "text": [
        " 1970147\n"
       ]
      },
      {
       "ename": "KeyboardInterrupt",
       "evalue": "",
       "output_type": "pyerr",
       "traceback": [
        "\u001b[1;31m---------------------------------------------------------------------------\u001b[0m\n\u001b[1;31mKeyboardInterrupt\u001b[0m                         Traceback (most recent call last)",
        "\u001b[1;32m<ipython-input-101-987859bbad0f>\u001b[0m in \u001b[0;36m<module>\u001b[1;34m()\u001b[0m\n\u001b[0;32m      7\u001b[0m     \u001b[0mindex\u001b[0m\u001b[1;33m=\u001b[0m\u001b[0mindex\u001b[0m\u001b[1;33m.\u001b[0m\u001b[0mstrip\u001b[0m\u001b[1;33m(\u001b[0m\u001b[1;34m'TEXT/'\u001b[0m\u001b[1;33m)\u001b[0m\u001b[1;33m\u001b[0m\u001b[0m\n\u001b[0;32m      8\u001b[0m \u001b[1;31m#    print file_,index,\u001b[0m\u001b[1;33m\u001b[0m\u001b[1;33m\u001b[0m\u001b[0m\n\u001b[1;32m----> 9\u001b[1;33m     \u001b[0mlocalContent\u001b[0m\u001b[1;33m=\u001b[0m\u001b[0mgetLocalContent\u001b[0m\u001b[1;33m(\u001b[0m\u001b[0mfile_\u001b[0m\u001b[1;33m)\u001b[0m\u001b[1;33m\u001b[0m\u001b[0m\n\u001b[0m\u001b[0;32m     10\u001b[0m \u001b[1;33m\u001b[0m\u001b[0m\n\u001b[0;32m     11\u001b[0m \u001b[1;33m\u001b[0m\u001b[0m\n",
        "\u001b[1;32m<ipython-input-64-14b4037cf68e>\u001b[0m in \u001b[0;36mgetLocalContent\u001b[1;34m(url)\u001b[0m\n\u001b[0;32m      1\u001b[0m \u001b[1;32mdef\u001b[0m \u001b[0mgetLocalContent\u001b[0m\u001b[1;33m(\u001b[0m\u001b[0murl\u001b[0m\u001b[1;33m)\u001b[0m\u001b[1;33m:\u001b[0m\u001b[1;33m\u001b[0m\u001b[0m\n\u001b[0;32m      2\u001b[0m     \u001b[1;32mwith\u001b[0m \u001b[0mopen\u001b[0m\u001b[1;33m(\u001b[0m\u001b[0murl\u001b[0m\u001b[1;33m,\u001b[0m\u001b[1;34m'r'\u001b[0m\u001b[1;33m)\u001b[0m \u001b[1;32mas\u001b[0m \u001b[0minFile\u001b[0m\u001b[1;33m:\u001b[0m\u001b[1;33m\u001b[0m\u001b[0m\n\u001b[1;32m----> 3\u001b[1;33m         \u001b[0mcontent\u001b[0m\u001b[1;33m=\u001b[0m\u001b[0minFile\u001b[0m\u001b[1;33m.\u001b[0m\u001b[0mread\u001b[0m\u001b[1;33m(\u001b[0m\u001b[1;33m)\u001b[0m\u001b[1;33m\u001b[0m\u001b[0m\n\u001b[0m\u001b[0;32m      4\u001b[0m     \u001b[1;32mreturn\u001b[0m \u001b[0mBeautifulSoup\u001b[0m\u001b[1;33m(\u001b[0m\u001b[0mcontent\u001b[0m\u001b[1;33m)\u001b[0m\u001b[1;33m\u001b[0m\u001b[0m\n",
        "\u001b[1;31mKeyboardInterrupt\u001b[0m: "
       ]
      }
     ],
     "prompt_number": 101
    },
    {
     "cell_type": "code",
     "collapsed": false,
     "input": [],
     "language": "python",
     "metadata": {},
     "outputs": []
    }
   ],
   "metadata": {}
  }
 ]
}