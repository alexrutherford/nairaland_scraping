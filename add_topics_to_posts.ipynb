{
 "metadata": {
  "name": "",
  "signature": "sha256:9ea30bae8d9992fefeb4b99a692ea5b52a4eb1689d06077065b622e3c81ea68d"
 },
 "nbformat": 3,
 "nbformat_minor": 0,
 "worksheets": [
  {
   "cells": [
    {
     "cell_type": "code",
     "collapsed": false,
     "input": [
      "import pymysql,sys,json\n",
      "import seaborn as sns\n",
      "import traceback\n",
      "import cPickle as pickle\n",
      "import collections\n",
      "import numpy as np\n",
      "import matplotlib.pyplot as plt\n",
      "%matplotlib inline\n",
      "import pandas as pd"
     ],
     "language": "python",
     "metadata": {},
     "outputs": [],
     "prompt_number": 2
    },
    {
     "cell_type": "code",
     "collapsed": false,
     "input": [
      "conn = pymysql.connect(host='localhost',user='root',passwd='pulsetini', db='nairaland',charset='utf8')\n",
      "cur = conn.cursor()\n",
      "cur2 = conn.cursor()"
     ],
     "language": "python",
     "metadata": {},
     "outputs": [],
     "prompt_number": 3
    },
    {
     "cell_type": "code",
     "collapsed": false,
     "input": [
      "topicDf=pd.read_sql_query('select * from post_topics',conn)"
     ],
     "language": "python",
     "metadata": {},
     "outputs": [],
     "prompt_number": 4
    },
    {
     "cell_type": "code",
     "collapsed": false,
     "input": [
      "for n,row in enumerate(topicDf.iterrows()):\n",
      "    if n%500==0:\n",
      "        print n,row[1].parent,row[1].topic\n",
      "        \n",
      "    cur.execute(\"update posts3 set topic='\"+row[1].topic+\"' where parent='\"+row[1].parent+\"'\")\n",
      "    conn.commit()"
     ],
     "language": "python",
     "metadata": {},
     "outputs": []
    },
    {
     "cell_type": "code",
     "collapsed": false,
     "input": [
      "\"update posts3 set topic='\"+row[1].topic+\"' where parent='\"+row[1].parent+\"'\""
     ],
     "language": "python",
     "metadata": {},
     "outputs": [
      {
       "metadata": {},
       "output_type": "pyout",
       "prompt_number": 7,
       "text": [
        "u\"update posts3 set topic='Celebrities' where parent='1840083'\""
       ]
      }
     ],
     "prompt_number": 7
    },
    {
     "cell_type": "code",
     "collapsed": false,
     "input": [],
     "language": "python",
     "metadata": {},
     "outputs": []
    }
   ],
   "metadata": {}
  }
 ]
}